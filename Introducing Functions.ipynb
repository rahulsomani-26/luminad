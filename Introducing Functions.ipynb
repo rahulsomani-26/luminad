{
 "cells": [
  {
   "cell_type": "markdown",
   "id": "9d091f59",
   "metadata": {},
   "source": [
    "Functions in python are defined by the keyword def followed by a function name , followed by \n",
    "(). The parenthesis may be empty or may not be empty. "
   ]
  },
  {
   "cell_type": "code",
   "execution_count": 1,
   "id": "59fb47a1",
   "metadata": {},
   "outputs": [],
   "source": [
    "def my_function():\n",
    "    print(\"Within my_func\")\n",
    "    print(\"Thanks\")"
   ]
  },
  {
   "cell_type": "code",
   "execution_count": 2,
   "id": "e4f72333",
   "metadata": {},
   "outputs": [
    {
     "data": {
      "text/plain": [
       "<function __main__.my_function()>"
      ]
     },
     "execution_count": 2,
     "metadata": {},
     "output_type": "execute_result"
    }
   ],
   "source": [
    "my_function"
   ]
  },
  {
   "cell_type": "code",
   "execution_count": 3,
   "id": "f510c3f1",
   "metadata": {},
   "outputs": [
    {
     "name": "stdout",
     "output_type": "stream",
     "text": [
      "Within my_func\n",
      "Thanks\n"
     ]
    }
   ],
   "source": [
    "my_function()"
   ]
  },
  {
   "cell_type": "code",
   "execution_count": 4,
   "id": "9ac5cf65",
   "metadata": {},
   "outputs": [],
   "source": [
    "def adder(a,b):\n",
    "    print(\"Within adder\")\n",
    "    return a+b"
   ]
  },
  {
   "cell_type": "code",
   "execution_count": 5,
   "id": "581abd87",
   "metadata": {},
   "outputs": [
    {
     "data": {
      "text/plain": [
       "<function __main__.adder(a, b)>"
      ]
     },
     "execution_count": 5,
     "metadata": {},
     "output_type": "execute_result"
    }
   ],
   "source": [
    "adder"
   ]
  },
  {
   "cell_type": "code",
   "execution_count": 6,
   "id": "ecb80c93",
   "metadata": {},
   "outputs": [
    {
     "ename": "TypeError",
     "evalue": "adder() missing 2 required positional arguments: 'a' and 'b'",
     "output_type": "error",
     "traceback": [
      "\u001b[1;31m---------------------------------------------------------------------------\u001b[0m",
      "\u001b[1;31mTypeError\u001b[0m                                 Traceback (most recent call last)",
      "Input \u001b[1;32mIn [6]\u001b[0m, in \u001b[0;36m<cell line: 1>\u001b[1;34m()\u001b[0m\n\u001b[1;32m----> 1\u001b[0m \u001b[43madder\u001b[49m\u001b[43m(\u001b[49m\u001b[43m)\u001b[49m\n",
      "\u001b[1;31mTypeError\u001b[0m: adder() missing 2 required positional arguments: 'a' and 'b'"
     ]
    }
   ],
   "source": [
    "adder()"
   ]
  },
  {
   "cell_type": "code",
   "execution_count": 7,
   "id": "2d629db7",
   "metadata": {},
   "outputs": [
    {
     "name": "stdout",
     "output_type": "stream",
     "text": [
      "Within adder\n"
     ]
    },
    {
     "data": {
      "text/plain": [
       "5"
      ]
     },
     "execution_count": 7,
     "metadata": {},
     "output_type": "execute_result"
    }
   ],
   "source": [
    "adder(2,3)"
   ]
  },
  {
   "cell_type": "code",
   "execution_count": 8,
   "id": "cfb2a8d5",
   "metadata": {},
   "outputs": [
    {
     "data": {
      "text/plain": [
       "<function globals()>"
      ]
     },
     "execution_count": 8,
     "metadata": {},
     "output_type": "execute_result"
    }
   ],
   "source": [
    "globals"
   ]
  },
  {
   "cell_type": "code",
   "execution_count": 9,
   "id": "e9577213",
   "metadata": {},
   "outputs": [
    {
     "data": {
      "text/plain": [
       "{'__name__': '__main__',\n",
       " '__doc__': 'Automatically created module for IPython interactive environment',\n",
       " '__package__': None,\n",
       " '__loader__': None,\n",
       " '__spec__': None,\n",
       " '__builtin__': <module 'builtins' (built-in)>,\n",
       " '__builtins__': <module 'builtins' (built-in)>,\n",
       " '_ih': ['',\n",
       "  'def my_function():\\n    print(\"Within my_func\")\\n    print(\"Thanks\")',\n",
       "  'my_function',\n",
       "  'my_function()',\n",
       "  'def adder(a,b):\\n    print(\"Within adder\")\\n    return a+b',\n",
       "  'adder',\n",
       "  'adder()',\n",
       "  'adder(2,3)',\n",
       "  'globals',\n",
       "  'globals()'],\n",
       " '_oh': {2: <function __main__.my_function()>,\n",
       "  5: <function __main__.adder(a, b)>,\n",
       "  7: 5,\n",
       "  8: <function globals()>},\n",
       " '_dh': [WindowsPath('C:/Users/Rahul somani/Desktop/levelup/Day3')],\n",
       " 'In': ['',\n",
       "  'def my_function():\\n    print(\"Within my_func\")\\n    print(\"Thanks\")',\n",
       "  'my_function',\n",
       "  'my_function()',\n",
       "  'def adder(a,b):\\n    print(\"Within adder\")\\n    return a+b',\n",
       "  'adder',\n",
       "  'adder()',\n",
       "  'adder(2,3)',\n",
       "  'globals',\n",
       "  'globals()'],\n",
       " 'Out': {2: <function __main__.my_function()>,\n",
       "  5: <function __main__.adder(a, b)>,\n",
       "  7: 5,\n",
       "  8: <function globals()>},\n",
       " 'get_ipython': <bound method InteractiveShell.get_ipython of <ipykernel.zmqshell.ZMQInteractiveShell object at 0x00000214D2AD0700>>,\n",
       " 'exit': <IPython.core.autocall.ZMQExitAutocall at 0x214d2ad0b80>,\n",
       " 'quit': <IPython.core.autocall.ZMQExitAutocall at 0x214d2ad0b80>,\n",
       " '_': <function globals()>,\n",
       " '__': 5,\n",
       " '___': <function __main__.adder(a, b)>,\n",
       " '_i': 'globals',\n",
       " '_ii': 'adder(2,3)',\n",
       " '_iii': 'adder()',\n",
       " '_i1': 'def my_function():\\n    print(\"Within my_func\")\\n    print(\"Thanks\")',\n",
       " 'my_function': <function __main__.my_function()>,\n",
       " '_i2': 'my_function',\n",
       " '_2': <function __main__.my_function()>,\n",
       " '_i3': 'my_function()',\n",
       " '_i4': 'def adder(a,b):\\n    print(\"Within adder\")\\n    return a+b',\n",
       " 'adder': <function __main__.adder(a, b)>,\n",
       " '_i5': 'adder',\n",
       " '_5': <function __main__.adder(a, b)>,\n",
       " '_i6': 'adder()',\n",
       " '_i7': 'adder(2,3)',\n",
       " '_7': 5,\n",
       " '_i8': 'globals',\n",
       " '_8': <function globals()>,\n",
       " '_i9': 'globals()'}"
      ]
     },
     "execution_count": 9,
     "metadata": {},
     "output_type": "execute_result"
    }
   ],
   "source": [
    "globals()"
   ]
  },
  {
   "cell_type": "code",
   "execution_count": 10,
   "id": "0278c998",
   "metadata": {},
   "outputs": [
    {
     "ename": "NameError",
     "evalue": "name 'n' is not defined",
     "output_type": "error",
     "traceback": [
      "\u001b[1;31m---------------------------------------------------------------------------\u001b[0m",
      "\u001b[1;31mNameError\u001b[0m                                 Traceback (most recent call last)",
      "Input \u001b[1;32mIn [10]\u001b[0m, in \u001b[0;36m<cell line: 1>\u001b[1;34m()\u001b[0m\n\u001b[1;32m----> 1\u001b[0m \u001b[43mn\u001b[49m\n",
      "\u001b[1;31mNameError\u001b[0m: name 'n' is not defined"
     ]
    }
   ],
   "source": [
    "n "
   ]
  },
  {
   "cell_type": "code",
   "execution_count": 11,
   "id": "1cf8d363",
   "metadata": {},
   "outputs": [],
   "source": [
    "n = 10000"
   ]
  },
  {
   "cell_type": "code",
   "execution_count": 12,
   "id": "1c5e9ff2",
   "metadata": {},
   "outputs": [
    {
     "data": {
      "text/plain": [
       "{'__name__': '__main__',\n",
       " '__doc__': 'Automatically created module for IPython interactive environment',\n",
       " '__package__': None,\n",
       " '__loader__': None,\n",
       " '__spec__': None,\n",
       " '__builtin__': <module 'builtins' (built-in)>,\n",
       " '__builtins__': <module 'builtins' (built-in)>,\n",
       " '_ih': ['',\n",
       "  'def my_function():\\n    print(\"Within my_func\")\\n    print(\"Thanks\")',\n",
       "  'my_function',\n",
       "  'my_function()',\n",
       "  'def adder(a,b):\\n    print(\"Within adder\")\\n    return a+b',\n",
       "  'adder',\n",
       "  'adder()',\n",
       "  'adder(2,3)',\n",
       "  'globals',\n",
       "  'globals()',\n",
       "  'n ',\n",
       "  'n = 10000',\n",
       "  'globals()'],\n",
       " '_oh': {2: <function __main__.my_function()>,\n",
       "  5: <function __main__.adder(a, b)>,\n",
       "  7: 5,\n",
       "  8: <function globals()>,\n",
       "  9: {...}},\n",
       " '_dh': [WindowsPath('C:/Users/Rahul somani/Desktop/levelup/Day3')],\n",
       " 'In': ['',\n",
       "  'def my_function():\\n    print(\"Within my_func\")\\n    print(\"Thanks\")',\n",
       "  'my_function',\n",
       "  'my_function()',\n",
       "  'def adder(a,b):\\n    print(\"Within adder\")\\n    return a+b',\n",
       "  'adder',\n",
       "  'adder()',\n",
       "  'adder(2,3)',\n",
       "  'globals',\n",
       "  'globals()',\n",
       "  'n ',\n",
       "  'n = 10000',\n",
       "  'globals()'],\n",
       " 'Out': {2: <function __main__.my_function()>,\n",
       "  5: <function __main__.adder(a, b)>,\n",
       "  7: 5,\n",
       "  8: <function globals()>,\n",
       "  9: {...}},\n",
       " 'get_ipython': <bound method InteractiveShell.get_ipython of <ipykernel.zmqshell.ZMQInteractiveShell object at 0x00000214D2AD0700>>,\n",
       " 'exit': <IPython.core.autocall.ZMQExitAutocall at 0x214d2ad0b80>,\n",
       " 'quit': <IPython.core.autocall.ZMQExitAutocall at 0x214d2ad0b80>,\n",
       " '_': {...},\n",
       " '__': <function globals()>,\n",
       " '___': 5,\n",
       " '_i': 'n = 10000',\n",
       " '_ii': 'n ',\n",
       " '_iii': 'globals()',\n",
       " '_i1': 'def my_function():\\n    print(\"Within my_func\")\\n    print(\"Thanks\")',\n",
       " 'my_function': <function __main__.my_function()>,\n",
       " '_i2': 'my_function',\n",
       " '_2': <function __main__.my_function()>,\n",
       " '_i3': 'my_function()',\n",
       " '_i4': 'def adder(a,b):\\n    print(\"Within adder\")\\n    return a+b',\n",
       " 'adder': <function __main__.adder(a, b)>,\n",
       " '_i5': 'adder',\n",
       " '_5': <function __main__.adder(a, b)>,\n",
       " '_i6': 'adder()',\n",
       " '_i7': 'adder(2,3)',\n",
       " '_7': 5,\n",
       " '_i8': 'globals',\n",
       " '_8': <function globals()>,\n",
       " '_i9': 'globals()',\n",
       " '_9': {...},\n",
       " '_i10': 'n ',\n",
       " '_i11': 'n = 10000',\n",
       " 'n': 10000,\n",
       " '_i12': 'globals()'}"
      ]
     },
     "execution_count": 12,
     "metadata": {},
     "output_type": "execute_result"
    }
   ],
   "source": [
    "globals()"
   ]
  },
  {
   "cell_type": "code",
   "execution_count": 13,
   "id": "05780c1b",
   "metadata": {},
   "outputs": [
    {
     "data": {
      "text/plain": [
       "10000"
      ]
     },
     "execution_count": 13,
     "metadata": {},
     "output_type": "execute_result"
    }
   ],
   "source": [
    "globals()['n']"
   ]
  },
  {
   "cell_type": "code",
   "execution_count": 14,
   "id": "4588a857",
   "metadata": {},
   "outputs": [
    {
     "data": {
      "text/plain": [
       "<function __main__.adder(a, b)>"
      ]
     },
     "execution_count": 14,
     "metadata": {},
     "output_type": "execute_result"
    }
   ],
   "source": [
    "globals()['adder']"
   ]
  },
  {
   "cell_type": "code",
   "execution_count": 16,
   "id": "afb38294",
   "metadata": {},
   "outputs": [
    {
     "name": "stdout",
     "output_type": "stream",
     "text": [
      "Within adder\n"
     ]
    },
    {
     "data": {
      "text/plain": [
       "200"
      ]
     },
     "execution_count": 16,
     "metadata": {},
     "output_type": "execute_result"
    }
   ],
   "source": [
    "globals()['adder'](100,100)"
   ]
  },
  {
   "cell_type": "markdown",
   "id": "a3a57f41",
   "metadata": {},
   "source": [
    "write a function that will ask for a user input and then display it on the console "
   ]
  },
  {
   "cell_type": "code",
   "execution_count": 18,
   "id": "03bcb18d",
   "metadata": {},
   "outputs": [
    {
     "data": {
      "text/plain": [
       "(<function print>, builtin_function_or_method)"
      ]
     },
     "execution_count": 18,
     "metadata": {},
     "output_type": "execute_result"
    }
   ],
   "source": [
    "print, type(print)"
   ]
  },
  {
   "cell_type": "code",
   "execution_count": 19,
   "id": "baaf0eae",
   "metadata": {},
   "outputs": [],
   "source": [
    "def print(msg):\n",
    "    return msg + '19'"
   ]
  },
  {
   "cell_type": "code",
   "execution_count": 20,
   "id": "d5d27a1a",
   "metadata": {},
   "outputs": [
    {
     "data": {
      "text/plain": [
       "<function __main__.print(msg)>"
      ]
     },
     "execution_count": 20,
     "metadata": {},
     "output_type": "execute_result"
    }
   ],
   "source": [
    "print"
   ]
  },
  {
   "cell_type": "code",
   "execution_count": 21,
   "id": "6666df8e",
   "metadata": {},
   "outputs": [
    {
     "data": {
      "text/plain": [
       "'Hello world19'"
      ]
     },
     "execution_count": 21,
     "metadata": {},
     "output_type": "execute_result"
    }
   ],
   "source": [
    "print(\"Hello world\")"
   ]
  },
  {
   "cell_type": "code",
   "execution_count": 22,
   "id": "54d7b0c3",
   "metadata": {},
   "outputs": [
    {
     "ename": "TypeError",
     "evalue": "print() takes 1 positional argument but 2 were given",
     "output_type": "error",
     "traceback": [
      "\u001b[1;31m---------------------------------------------------------------------------\u001b[0m",
      "\u001b[1;31mTypeError\u001b[0m                                 Traceback (most recent call last)",
      "Input \u001b[1;32mIn [22]\u001b[0m, in \u001b[0;36m<cell line: 3>\u001b[1;34m()\u001b[0m\n\u001b[0;32m      1\u001b[0m a\u001b[38;5;241m=\u001b[39m\u001b[38;5;241m10\u001b[39m\n\u001b[0;32m      2\u001b[0m b \u001b[38;5;241m=\u001b[39m \u001b[38;5;241m20\u001b[39m\n\u001b[1;32m----> 3\u001b[0m \u001b[38;5;28;43mprint\u001b[39;49m\u001b[43m(\u001b[49m\u001b[43ma\u001b[49m\u001b[43m,\u001b[49m\u001b[43mb\u001b[49m\u001b[43m)\u001b[49m\n",
      "\u001b[1;31mTypeError\u001b[0m: print() takes 1 positional argument but 2 were given"
     ]
    }
   ],
   "source": [
    "a=10\n",
    "b = 20\n",
    "print(a,b)"
   ]
  },
  {
   "cell_type": "code",
   "execution_count": 23,
   "id": "2d3faa34",
   "metadata": {},
   "outputs": [],
   "source": [
    "del print"
   ]
  },
  {
   "cell_type": "code",
   "execution_count": 24,
   "id": "7a8133a6",
   "metadata": {},
   "outputs": [
    {
     "name": "stdout",
     "output_type": "stream",
     "text": [
      "10 20\n"
     ]
    }
   ],
   "source": [
    "a=10\n",
    "b = 20\n",
    "print(a,b)"
   ]
  },
  {
   "cell_type": "markdown",
   "id": "f2e55191",
   "metadata": {},
   "source": [
    "# Docstring "
   ]
  },
  {
   "cell_type": "markdown",
   "id": "1162527a",
   "metadata": {},
   "source": [
    "A Doc string, also known as documentation string is a series of \"\"\" \"\"\", that is the first line within \n",
    "a function body. Docstring are used for documentation purpose "
   ]
  },
  {
   "cell_type": "code",
   "execution_count": 25,
   "id": "a2bf5c16",
   "metadata": {},
   "outputs": [],
   "source": [
    "def adder(a,b):\n",
    "    return a+b "
   ]
  },
  {
   "cell_type": "code",
   "execution_count": 26,
   "id": "00d145b9",
   "metadata": {},
   "outputs": [
    {
     "data": {
      "text/plain": [
       "<function __main__.adder(a, b)>"
      ]
     },
     "execution_count": 26,
     "metadata": {},
     "output_type": "execute_result"
    }
   ],
   "source": [
    "adder"
   ]
  },
  {
   "cell_type": "code",
   "execution_count": 27,
   "id": "541e2819",
   "metadata": {},
   "outputs": [],
   "source": [
    "def adder(a,b):\n",
    "    \"\"\"This is a doc string\n",
    "    >>>adder(2,3)\n",
    "    >>>5\n",
    "    \"\"\"\n",
    "    return a+b "
   ]
  },
  {
   "cell_type": "code",
   "execution_count": 28,
   "id": "202868d2",
   "metadata": {},
   "outputs": [
    {
     "data": {
      "text/plain": [
       "<function __main__.adder(a, b)>"
      ]
     },
     "execution_count": 28,
     "metadata": {},
     "output_type": "execute_result"
    }
   ],
   "source": [
    "adder"
   ]
  },
  {
   "cell_type": "code",
   "execution_count": 29,
   "id": "17d4b566",
   "metadata": {},
   "outputs": [
    {
     "data": {
      "text/plain": [
       "9"
      ]
     },
     "execution_count": 29,
     "metadata": {},
     "output_type": "execute_result"
    }
   ],
   "source": [
    "adder(5,4)"
   ]
  },
  {
   "cell_type": "code",
   "execution_count": 30,
   "id": "b0bdca77",
   "metadata": {},
   "outputs": [
    {
     "name": "stdout",
     "output_type": "stream",
     "text": [
      "Help on function adder in module __main__:\n",
      "\n",
      "adder(a, b)\n",
      "    This is a doc string\n",
      "    >>>adder(2,3)\n",
      "    >>>5\n",
      "\n"
     ]
    }
   ],
   "source": [
    "help(adder)"
   ]
  },
  {
   "cell_type": "code",
   "execution_count": 31,
   "id": "2a507655",
   "metadata": {},
   "outputs": [],
   "source": [
    "def subtract(a,b):\n",
    "    print(\"Within subtract function\")\n",
    "    return a-b"
   ]
  },
  {
   "cell_type": "code",
   "execution_count": 32,
   "id": "88aab2c9",
   "metadata": {},
   "outputs": [
    {
     "data": {
      "text/plain": [
       "<function __main__.subtract(a, b)>"
      ]
     },
     "execution_count": 32,
     "metadata": {},
     "output_type": "execute_result"
    }
   ],
   "source": [
    "subtract"
   ]
  },
  {
   "cell_type": "code",
   "execution_count": 33,
   "id": "4cde1faf",
   "metadata": {},
   "outputs": [
    {
     "name": "stdout",
     "output_type": "stream",
     "text": [
      "Help on function subtract in module __main__:\n",
      "\n",
      "subtract(a, b)\n",
      "\n"
     ]
    }
   ],
   "source": [
    "help(subtract)"
   ]
  },
  {
   "cell_type": "code",
   "execution_count": 34,
   "id": "3215350b",
   "metadata": {},
   "outputs": [],
   "source": [
    "def subtract(a,b):\n",
    "    \"\"\"Subtracts two values\n",
    "    >>> subtract(5,3)\n",
    "    >>> 2\n",
    "    \"\"\"\n",
    "    print(\"Within subtract function\")\n",
    "    return a-b"
   ]
  },
  {
   "cell_type": "code",
   "execution_count": 35,
   "id": "2c5ca128",
   "metadata": {},
   "outputs": [
    {
     "name": "stdout",
     "output_type": "stream",
     "text": [
      "Help on function subtract in module __main__:\n",
      "\n",
      "subtract(a, b)\n",
      "    Subtracts two values\n",
      "    >>> subtract(5,3)\n",
      "    >>> 2\n",
      "\n"
     ]
    }
   ],
   "source": [
    "help(subtract)"
   ]
  },
  {
   "cell_type": "code",
   "execution_count": 37,
   "id": "8617e634",
   "metadata": {},
   "outputs": [
    {
     "name": "stdout",
     "output_type": "stream",
     "text": [
      "Subtracts two values\n",
      "    >>> subtract(5,3)\n",
      "    >>> 2\n",
      "    \n"
     ]
    }
   ],
   "source": [
    "print(subtract.__doc__)"
   ]
  },
  {
   "cell_type": "code",
   "execution_count": 39,
   "id": "a3329645",
   "metadata": {},
   "outputs": [
    {
     "name": "stdout",
     "output_type": "stream",
     "text": [
      "print(value, ..., sep=' ', end='\\n', file=sys.stdout, flush=False)\n",
      "\n",
      "Prints the values to a stream, or to sys.stdout by default.\n",
      "Optional keyword arguments:\n",
      "file:  a file-like object (stream); defaults to the current sys.stdout.\n",
      "sep:   string inserted between values, default a space.\n",
      "end:   string appended after the last value, default a newline.\n",
      "flush: whether to forcibly flush the stream.\n"
     ]
    }
   ],
   "source": [
    "print(print.__doc__)"
   ]
  },
  {
   "cell_type": "code",
   "execution_count": 40,
   "id": "df4aa74e",
   "metadata": {},
   "outputs": [
    {
     "name": "stdout",
     "output_type": "stream",
     "text": [
      "Help on built-in function print in module builtins:\n",
      "\n",
      "print(...)\n",
      "    print(value, ..., sep=' ', end='\\n', file=sys.stdout, flush=False)\n",
      "    \n",
      "    Prints the values to a stream, or to sys.stdout by default.\n",
      "    Optional keyword arguments:\n",
      "    file:  a file-like object (stream); defaults to the current sys.stdout.\n",
      "    sep:   string inserted between values, default a space.\n",
      "    end:   string appended after the last value, default a newline.\n",
      "    flush: whether to forcibly flush the stream.\n",
      "\n"
     ]
    }
   ],
   "source": [
    "help(print)"
   ]
  },
  {
   "cell_type": "code",
   "execution_count": 42,
   "id": "82696d5c",
   "metadata": {},
   "outputs": [
    {
     "name": "stdout",
     "output_type": "stream",
     "text": [
      "['__annotations__', '__builtins__', '__call__', '__class__', '__closure__', '__code__', '__defaults__', '__delattr__', '__dict__', '__dir__', '__doc__', '__eq__', '__format__', '__ge__', '__get__', '__getattribute__', '__globals__', '__gt__', '__hash__', '__init__', '__init_subclass__', '__kwdefaults__', '__le__', '__lt__', '__module__', '__name__', '__ne__', '__new__', '__qualname__', '__reduce__', '__reduce_ex__', '__repr__', '__setattr__', '__sizeof__', '__str__', '__subclasshook__']\n"
     ]
    }
   ],
   "source": [
    "print(dir(subtract))"
   ]
  },
  {
   "cell_type": "markdown",
   "id": "a235f372",
   "metadata": {},
   "source": [
    "# Annotating your functions "
   ]
  },
  {
   "cell_type": "code",
   "execution_count": 43,
   "id": "697af571",
   "metadata": {},
   "outputs": [],
   "source": [
    "def adder(a:\"integer\",b:\"integer\")->\" Returns the sum of a and b \":\n",
    "    \"\"\"This is a doc string\"\"\"\n",
    "    return a+b "
   ]
  },
  {
   "cell_type": "code",
   "execution_count": 44,
   "id": "9c526e86",
   "metadata": {},
   "outputs": [
    {
     "data": {
      "text/plain": [
       "12"
      ]
     },
     "execution_count": 44,
     "metadata": {},
     "output_type": "execute_result"
    }
   ],
   "source": [
    "adder(10,2)"
   ]
  },
  {
   "cell_type": "code",
   "execution_count": 45,
   "id": "efc04d56",
   "metadata": {},
   "outputs": [
    {
     "name": "stdout",
     "output_type": "stream",
     "text": [
      "Help on function adder in module __main__:\n",
      "\n",
      "adder(a: 'integer', b: 'integer') -> ' Returns the sum of a and b '\n",
      "    This is a doc string\n",
      "\n"
     ]
    }
   ],
   "source": [
    "help(adder)"
   ]
  },
  {
   "cell_type": "code",
   "execution_count": 46,
   "id": "34426582",
   "metadata": {},
   "outputs": [
    {
     "data": {
      "text/plain": [
       "'This is a doc string'"
      ]
     },
     "execution_count": 46,
     "metadata": {},
     "output_type": "execute_result"
    }
   ],
   "source": [
    "adder.__doc__"
   ]
  },
  {
   "cell_type": "code",
   "execution_count": 47,
   "id": "8eaf95b9",
   "metadata": {},
   "outputs": [
    {
     "data": {
      "text/plain": [
       "{'a': 'integer', 'b': 'integer', 'return': ' Returns the sum of a and b '}"
      ]
     },
     "execution_count": 47,
     "metadata": {},
     "output_type": "execute_result"
    }
   ],
   "source": [
    "adder.__annotations__"
   ]
  },
  {
   "cell_type": "markdown",
   "id": "bf38df0b",
   "metadata": {},
   "source": [
    "# Default value to an argument "
   ]
  },
  {
   "cell_type": "code",
   "execution_count": 48,
   "id": "7bc3aee1",
   "metadata": {},
   "outputs": [],
   "source": [
    "def my_func(a,b=20,c=30):\n",
    "    print(\"a = {} b = {} and c = {}\".format(a,b,c))"
   ]
  },
  {
   "cell_type": "code",
   "execution_count": 49,
   "id": "458385d8",
   "metadata": {},
   "outputs": [
    {
     "name": "stdout",
     "output_type": "stream",
     "text": [
      "a = 10 b = 20 and c = 30\n"
     ]
    }
   ],
   "source": [
    "my_func(10,20,30)"
   ]
  },
  {
   "cell_type": "code",
   "execution_count": 50,
   "id": "6017a23c",
   "metadata": {},
   "outputs": [
    {
     "name": "stdout",
     "output_type": "stream",
     "text": [
      "a = 10 b = 200 and c = 30\n"
     ]
    }
   ],
   "source": [
    "my_func(10,200)"
   ]
  },
  {
   "cell_type": "code",
   "execution_count": 51,
   "id": "ebd56780",
   "metadata": {},
   "outputs": [
    {
     "name": "stdout",
     "output_type": "stream",
     "text": [
      "a = 100 b = 20 and c = 30\n"
     ]
    }
   ],
   "source": [
    "my_func(100)"
   ]
  },
  {
   "cell_type": "markdown",
   "id": "1a230508",
   "metadata": {},
   "source": [
    "# Positional and keyword only arguments \n",
    "***\n",
    "\n",
    "- Postional Arguments "
   ]
  },
  {
   "cell_type": "code",
   "execution_count": 53,
   "id": "c03978b3",
   "metadata": {},
   "outputs": [],
   "source": [
    "def positional_argument(a,b,c):\n",
    "    print(\"a={0} b = {1} c= {2}\".format(a,b,c))"
   ]
  },
  {
   "cell_type": "code",
   "execution_count": 54,
   "id": "82ffe08e",
   "metadata": {},
   "outputs": [
    {
     "name": "stdout",
     "output_type": "stream",
     "text": [
      "a=10 b = 20 c= 30\n"
     ]
    }
   ],
   "source": [
    "positional_argument(10,20,30)"
   ]
  },
  {
   "cell_type": "code",
   "execution_count": 55,
   "id": "abd634f6",
   "metadata": {},
   "outputs": [],
   "source": [
    "def positional_argument(a,b,c):\n",
    "    print(\"a={2} b = {1} c= {0}\".format(a,b,c))"
   ]
  },
  {
   "cell_type": "code",
   "execution_count": 56,
   "id": "53ad5a9b",
   "metadata": {},
   "outputs": [
    {
     "name": "stdout",
     "output_type": "stream",
     "text": [
      "a=30 b = 20 c= 10\n"
     ]
    }
   ],
   "source": [
    "positional_argument(10,20,30)"
   ]
  },
  {
   "cell_type": "code",
   "execution_count": 57,
   "id": "a56d733f",
   "metadata": {},
   "outputs": [],
   "source": [
    "def keyword_arguments(name=\"rahul\", age = 42, profession='engineer'):\n",
    "    print('name = {} age = {} and profession = {}'.format(name,age,profession))"
   ]
  },
  {
   "cell_type": "code",
   "execution_count": 58,
   "id": "be0e2666",
   "metadata": {},
   "outputs": [
    {
     "name": "stdout",
     "output_type": "stream",
     "text": [
      "name = rahul age = 42 and profession = engineer\n"
     ]
    }
   ],
   "source": [
    "keyword_arguments()"
   ]
  },
  {
   "cell_type": "code",
   "execution_count": 59,
   "id": "b2dab2e8",
   "metadata": {},
   "outputs": [
    {
     "name": "stdout",
     "output_type": "stream",
     "text": [
      "name = ujjwal age = 42 and profession = engineer\n"
     ]
    }
   ],
   "source": [
    "keyword_arguments(name='ujjwal')"
   ]
  },
  {
   "cell_type": "code",
   "execution_count": 60,
   "id": "a07e04a6",
   "metadata": {},
   "outputs": [],
   "source": [
    "def func(a=10,b=20):\n",
    "    name = 'rahul'\n",
    "    return name,a,b"
   ]
  },
  {
   "cell_type": "code",
   "execution_count": 61,
   "id": "a76c1a98",
   "metadata": {},
   "outputs": [
    {
     "data": {
      "text/plain": [
       "<function __main__.func(a=10, b=20)>"
      ]
     },
     "execution_count": 61,
     "metadata": {},
     "output_type": "execute_result"
    }
   ],
   "source": [
    "func"
   ]
  },
  {
   "cell_type": "code",
   "execution_count": 62,
   "id": "96ddede9",
   "metadata": {},
   "outputs": [
    {
     "data": {
      "text/plain": [
       "('rahul', 10, 20)"
      ]
     },
     "execution_count": 62,
     "metadata": {},
     "output_type": "execute_result"
    }
   ],
   "source": [
    "func()"
   ]
  },
  {
   "cell_type": "code",
   "execution_count": 63,
   "id": "2ddbd2f3",
   "metadata": {},
   "outputs": [
    {
     "name": "stdout",
     "output_type": "stream",
     "text": [
      "['__annotations__', '__builtins__', '__call__', '__class__', '__closure__', '__code__', '__defaults__', '__delattr__', '__dict__', '__dir__', '__doc__', '__eq__', '__format__', '__ge__', '__get__', '__getattribute__', '__globals__', '__gt__', '__hash__', '__init__', '__init_subclass__', '__kwdefaults__', '__le__', '__lt__', '__module__', '__name__', '__ne__', '__new__', '__qualname__', '__reduce__', '__reduce_ex__', '__repr__', '__setattr__', '__sizeof__', '__str__', '__subclasshook__']\n"
     ]
    }
   ],
   "source": [
    "print(dir(func))"
   ]
  },
  {
   "cell_type": "code",
   "execution_count": 64,
   "id": "6ab6fc75",
   "metadata": {},
   "outputs": [
    {
     "data": {
      "text/plain": [
       "{}"
      ]
     },
     "execution_count": 64,
     "metadata": {},
     "output_type": "execute_result"
    }
   ],
   "source": [
    "func.__dict__"
   ]
  },
  {
   "cell_type": "code",
   "execution_count": 65,
   "id": "871ce4a9",
   "metadata": {},
   "outputs": [
    {
     "data": {
      "text/plain": [
       "<code object func at 0x00000214D46487C0, file \"C:\\Users\\Rahul somani\\AppData\\Local\\Temp\\ipykernel_14904\\3504450652.py\", line 1>"
      ]
     },
     "execution_count": 65,
     "metadata": {},
     "output_type": "execute_result"
    }
   ],
   "source": [
    "func.__code__"
   ]
  },
  {
   "cell_type": "code",
   "execution_count": 67,
   "id": "f93b84f9",
   "metadata": {},
   "outputs": [
    {
     "name": "stdout",
     "output_type": "stream",
     "text": [
      "['__class__', '__delattr__', '__dir__', '__doc__', '__eq__', '__format__', '__ge__', '__getattribute__', '__gt__', '__hash__', '__init__', '__init_subclass__', '__le__', '__lt__', '__ne__', '__new__', '__reduce__', '__reduce_ex__', '__repr__', '__setattr__', '__sizeof__', '__str__', '__subclasshook__', 'co_argcount', 'co_cellvars', 'co_code', 'co_consts', 'co_filename', 'co_firstlineno', 'co_flags', 'co_freevars', 'co_kwonlyargcount', 'co_lines', 'co_linetable', 'co_lnotab', 'co_name', 'co_names', 'co_nlocals', 'co_posonlyargcount', 'co_stacksize', 'co_varnames', 'replace']\n"
     ]
    }
   ],
   "source": [
    "print(dir(func.__code__))"
   ]
  },
  {
   "cell_type": "code",
   "execution_count": 69,
   "id": "03502c6c",
   "metadata": {},
   "outputs": [
    {
     "data": {
      "text/plain": [
       "'func'"
      ]
     },
     "execution_count": 69,
     "metadata": {},
     "output_type": "execute_result"
    }
   ],
   "source": [
    "func.__code__.co_name # Returns the function name "
   ]
  },
  {
   "cell_type": "code",
   "execution_count": 70,
   "id": "238c8cf4",
   "metadata": {},
   "outputs": [
    {
     "data": {
      "text/plain": [
       "3"
      ]
     },
     "execution_count": 70,
     "metadata": {},
     "output_type": "execute_result"
    }
   ],
   "source": [
    "func.__code__.co_nlocals"
   ]
  },
  {
   "cell_type": "code",
   "execution_count": 72,
   "id": "1e10aa39",
   "metadata": {},
   "outputs": [
    {
     "data": {
      "text/plain": [
       "2"
      ]
     },
     "execution_count": 72,
     "metadata": {},
     "output_type": "execute_result"
    }
   ],
   "source": [
    "func.__code__.co_argcount # Returns the number of argument to the function "
   ]
  },
  {
   "cell_type": "code",
   "execution_count": 73,
   "id": "41db957d",
   "metadata": {},
   "outputs": [
    {
     "data": {
      "text/plain": [
       "b'd\\x01}\\x02|\\x02|\\x00|\\x01f\\x03S\\x00'"
      ]
     },
     "execution_count": 73,
     "metadata": {},
     "output_type": "execute_result"
    }
   ],
   "source": [
    "func.__code__.co_code # Binary code of our function "
   ]
  },
  {
   "cell_type": "code",
   "execution_count": null,
   "id": "10ba4cf5",
   "metadata": {},
   "outputs": [],
   "source": []
  }
 ],
 "metadata": {
  "kernelspec": {
   "display_name": "Python 3 (ipykernel)",
   "language": "python",
   "name": "python3"
  },
  "language_info": {
   "codemirror_mode": {
    "name": "ipython",
    "version": 3
   },
   "file_extension": ".py",
   "mimetype": "text/x-python",
   "name": "python",
   "nbconvert_exporter": "python",
   "pygments_lexer": "ipython3",
   "version": "3.10.4"
  }
 },
 "nbformat": 4,
 "nbformat_minor": 5
}
