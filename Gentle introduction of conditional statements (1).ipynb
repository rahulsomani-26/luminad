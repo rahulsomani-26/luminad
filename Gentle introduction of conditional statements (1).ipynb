{
 "cells": [
  {
   "cell_type": "markdown",
   "id": "ea908480",
   "metadata": {},
   "source": [
    "# Conditonal Statements \n",
    "***\n",
    "\n",
    "- Evaluates to either True of False \n",
    "\n",
    "- Returns a boolean value ( of the bool data type )\n",
    "\n",
    "\n"
   ]
  },
  {
   "cell_type": "code",
   "execution_count": 2,
   "id": "68b590ff",
   "metadata": {},
   "outputs": [
    {
     "name": "stdout",
     "output_type": "stream",
     "text": [
      " Equal\n",
      "First statement\n",
      "Second statement\n"
     ]
    }
   ],
   "source": [
    "num = 10 \n",
    "if num == 10:\n",
    "    print(\" Equal\")\n",
    "    print(\"First statement\")\n",
    "    print(\"Second statement\")\n",
    "    \n",
    "else:\n",
    "    print(\" Not equal \")\n",
    "    "
   ]
  },
  {
   "cell_type": "code",
   "execution_count": 3,
   "id": "cc4273f0",
   "metadata": {},
   "outputs": [
    {
     "data": {
      "text/plain": [
       "True"
      ]
     },
     "execution_count": 3,
     "metadata": {},
     "output_type": "execute_result"
    }
   ],
   "source": [
    "num = 5\n",
    "num == 5"
   ]
  },
  {
   "cell_type": "code",
   "execution_count": 4,
   "id": "c50b631e",
   "metadata": {},
   "outputs": [
    {
     "data": {
      "text/plain": [
       "False"
      ]
     },
     "execution_count": 4,
     "metadata": {},
     "output_type": "execute_result"
    }
   ],
   "source": [
    "num < 5"
   ]
  },
  {
   "cell_type": "code",
   "execution_count": 5,
   "id": "30cb85a5",
   "metadata": {},
   "outputs": [
    {
     "data": {
      "text/plain": [
       "False"
      ]
     },
     "execution_count": 5,
     "metadata": {},
     "output_type": "execute_result"
    }
   ],
   "source": [
    "num > 5"
   ]
  },
  {
   "cell_type": "code",
   "execution_count": 6,
   "id": "5ee41864",
   "metadata": {},
   "outputs": [
    {
     "data": {
      "text/plain": [
       "True"
      ]
     },
     "execution_count": 6,
     "metadata": {},
     "output_type": "execute_result"
    }
   ],
   "source": [
    "num <=5"
   ]
  },
  {
   "cell_type": "code",
   "execution_count": 7,
   "id": "bd138599",
   "metadata": {},
   "outputs": [
    {
     "data": {
      "text/plain": [
       "True"
      ]
     },
     "execution_count": 7,
     "metadata": {},
     "output_type": "execute_result"
    }
   ],
   "source": [
    "num >=5"
   ]
  },
  {
   "cell_type": "code",
   "execution_count": 8,
   "id": "41833aa0",
   "metadata": {},
   "outputs": [
    {
     "name": "stdout",
     "output_type": "stream",
     "text": [
      " It is equal\n"
     ]
    }
   ],
   "source": [
    "if 10:\n",
    "    print(\" It is equal\")\n",
    "else:\n",
    "    print(\" Not equal \")"
   ]
  },
  {
   "cell_type": "markdown",
   "id": "a096e058",
   "metadata": {},
   "source": [
    "### Any non-zero value is considered to be True and any zero value is False \n",
    "***"
   ]
  },
  {
   "cell_type": "code",
   "execution_count": 9,
   "id": "2292617f",
   "metadata": {},
   "outputs": [
    {
     "name": "stdout",
     "output_type": "stream",
     "text": [
      " It is equal\n"
     ]
    }
   ],
   "source": [
    "if -100:\n",
    "    print(\" It is equal\")\n",
    "else:\n",
    "    print(\" Not equal \")"
   ]
  },
  {
   "cell_type": "code",
   "execution_count": 10,
   "id": "8015f8b0",
   "metadata": {},
   "outputs": [
    {
     "name": "stdout",
     "output_type": "stream",
     "text": [
      " Not equal \n"
     ]
    }
   ],
   "source": [
    "if 0:\n",
    "    print(\" It is equal\")\n",
    "else:\n",
    "    print(\" Not equal \")"
   ]
  },
  {
   "cell_type": "markdown",
   "id": "4762d939",
   "metadata": {},
   "source": [
    "while condition:\n",
    "    statements "
   ]
  },
  {
   "cell_type": "code",
   "execution_count": 11,
   "id": "aa7f4983",
   "metadata": {},
   "outputs": [
    {
     "name": "stdout",
     "output_type": "stream",
     "text": [
      "0\n",
      "2\n",
      "4\n",
      "6\n",
      "8\n"
     ]
    }
   ],
   "source": [
    "n = 0 \n",
    "while n<10:\n",
    "    print(n)\n",
    "    n+=2\n",
    "    \n",
    "    "
   ]
  },
  {
   "cell_type": "code",
   "execution_count": 12,
   "id": "6a28b701",
   "metadata": {},
   "outputs": [
    {
     "name": "stdout",
     "output_type": "stream",
     "text": [
      "0\n",
      "2\n",
      "4\n",
      "6\n",
      "8\n",
      "In the else clause \n",
      "Current value of n = 10\n"
     ]
    }
   ],
   "source": [
    "n = 0 \n",
    "while n<10:\n",
    "    print(n)\n",
    "    n+=2\n",
    "else:\n",
    "    print(\"In the else clause \")\n",
    "    print(f'Current value of n = {n}')\n",
    "    "
   ]
  },
  {
   "cell_type": "code",
   "execution_count": 13,
   "id": "03756584",
   "metadata": {},
   "outputs": [
    {
     "name": "stdout",
     "output_type": "stream",
     "text": [
      "In the else clause \n",
      "Current value of n = 0\n"
     ]
    }
   ],
   "source": [
    "n = 0 \n",
    "while n>10:\n",
    "    print(n)\n",
    "    n+=2\n",
    "else:\n",
    "    print(\"In the else clause \")\n",
    "    print(f'Current value of n = {n}')"
   ]
  },
  {
   "cell_type": "code",
   "execution_count": 15,
   "id": "4cce572a",
   "metadata": {},
   "outputs": [
    {
     "name": "stdout",
     "output_type": "stream",
     "text": [
      "welcome rahul somani\n"
     ]
    }
   ],
   "source": [
    "first_name = 'rahul'\n",
    "last_name = 'somani'\n",
    "\n",
    "while (first_name == 'rahul' and last_name=='somani'):\n",
    "    print(\"welcome {}\".format(first_name + \" \" + last_name))\n",
    "    break\n",
    "else:\n",
    "    print(\"Credentials did not matched\")\n",
    "    print(\"Please try again\")\n",
    "    "
   ]
  },
  {
   "cell_type": "markdown",
   "id": "f7034e69",
   "metadata": {},
   "source": [
    "# Question \n",
    "***"
   ]
  },
  {
   "cell_type": "code",
   "execution_count": 16,
   "id": "5280146a",
   "metadata": {},
   "outputs": [
    {
     "name": "stdout",
     "output_type": "stream",
     "text": [
      "True\n"
     ]
    }
   ],
   "source": [
    "a,b,c = 10,20,30\n",
    "result = a<=b and b<=c and c>=a\n",
    "print(result)"
   ]
  },
  {
   "cell_type": "code",
   "execution_count": 19,
   "id": "38483653",
   "metadata": {},
   "outputs": [
    {
     "name": "stdout",
     "output_type": "stream",
     "text": [
      "False\n"
     ]
    }
   ],
   "source": [
    "a,b,c = 10,20,30\n",
    "result = (a<=b and c==100 )\n",
    "print(result)"
   ]
  },
  {
   "cell_type": "markdown",
   "id": "e9483cce",
   "metadata": {},
   "source": [
    "### Explain the usage of and and or logical operators with examples \n",
    "***"
   ]
  },
  {
   "cell_type": "code",
   "execution_count": null,
   "id": "e195b03e",
   "metadata": {},
   "outputs": [],
   "source": []
  }
 ],
 "metadata": {
  "kernelspec": {
   "display_name": "Python 3 (ipykernel)",
   "language": "python",
   "name": "python3"
  },
  "language_info": {
   "codemirror_mode": {
    "name": "ipython",
    "version": 3
   },
   "file_extension": ".py",
   "mimetype": "text/x-python",
   "name": "python",
   "nbconvert_exporter": "python",
   "pygments_lexer": "ipython3",
   "version": "3.10.4"
  }
 },
 "nbformat": 4,
 "nbformat_minor": 5
}
