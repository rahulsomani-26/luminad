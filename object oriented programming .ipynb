{
 "cells": [
  {
   "cell_type": "markdown",
   "id": "96564013",
   "metadata": {},
   "source": [
    "# OOPs introduction "
   ]
  },
  {
   "cell_type": "code",
   "execution_count": 2,
   "id": "9a390a09",
   "metadata": {},
   "outputs": [],
   "source": [
    "class User:\n",
    "    \n",
    "    # __new__ is used by python internally, that creates an object for us \n",
    "    def __new__(self):\n",
    "        print(\" Object Created \")\n",
    "        \n",
    "    # Known as initializer, wherein we put all the initalizer code \n",
    "    # Ok, Please call it as a constructor, \n",
    "    \n",
    "    def __init__(self):\n",
    "        print(\"Object Initialized\")\n",
    "        \n",
    "    # Is also handled by the python memory manager whose job is to free any resources that our object takes\n",
    "    def __del__(self):\n",
    "        print(\"Object Destroyed \")"
   ]
  },
  {
   "cell_type": "code",
   "execution_count": 3,
   "id": "d0c20991",
   "metadata": {},
   "outputs": [
    {
     "name": "stdout",
     "output_type": "stream",
     "text": [
      " Object Created \n"
     ]
    }
   ],
   "source": [
    "user_one = User()"
   ]
  },
  {
   "cell_type": "code",
   "execution_count": 7,
   "id": "9c5348d9",
   "metadata": {},
   "outputs": [],
   "source": [
    "class User:\n",
    "    \n",
    "    def __repr__(self):\n",
    "        return 'hello world '\n",
    "     \n",
    "    def __init__(self):\n",
    "        print(\"Object Initialized\")\n",
    "        \n",
    "    # Is also handled by the python memory manager whose job is to free any resources that our object takes\n",
    "    def __del__(self):\n",
    "        print(\"Object Destroyed \")"
   ]
  },
  {
   "cell_type": "code",
   "execution_count": 8,
   "id": "cd73ed84",
   "metadata": {},
   "outputs": [
    {
     "name": "stdout",
     "output_type": "stream",
     "text": [
      "Object Initialized\n"
     ]
    }
   ],
   "source": [
    "user = User()"
   ]
  },
  {
   "cell_type": "code",
   "execution_count": 6,
   "id": "d71f332d",
   "metadata": {},
   "outputs": [
    {
     "name": "stdout",
     "output_type": "stream",
     "text": [
      "Object Destroyed \n"
     ]
    }
   ],
   "source": [
    "del user"
   ]
  },
  {
   "cell_type": "markdown",
   "id": "0ee8a097",
   "metadata": {},
   "source": [
    "` Functions within a class are known to be methods ` \n",
    "\n",
    "` The first argument to a method is self ( it is a python convention to name it self). ` \n",
    "\n",
    "` self refers to the object itself ` "
   ]
  },
  {
   "cell_type": "code",
   "execution_count": null,
   "id": "38db9d09",
   "metadata": {},
   "outputs": [],
   "source": []
  },
  {
   "cell_type": "code",
   "execution_count": null,
   "id": "9ef0a838",
   "metadata": {},
   "outputs": [],
   "source": []
  },
  {
   "cell_type": "code",
   "execution_count": null,
   "id": "3513c6f9",
   "metadata": {},
   "outputs": [],
   "source": []
  },
  {
   "cell_type": "code",
   "execution_count": 9,
   "id": "53362e83",
   "metadata": {},
   "outputs": [],
   "source": [
    "class Student:\n",
    "    def __init__(self,name,age):\n",
    "        self.name = name \n",
    "        self.age = age \n",
    "        \n",
    "    def getdetails(self):\n",
    "        return 'Hey {} you are {} years old'.format(self.name,self.age)\n",
    "    \n",
    "        "
   ]
  },
  {
   "cell_type": "code",
   "execution_count": 11,
   "id": "1e776149",
   "metadata": {},
   "outputs": [],
   "source": [
    "student_one = Student('Gokul',23)\n",
    "student_two = Student('Ajay',24)"
   ]
  },
  {
   "cell_type": "code",
   "execution_count": 12,
   "id": "84861b7d",
   "metadata": {},
   "outputs": [
    {
     "data": {
      "text/plain": [
       "(<__main__.Student at 0x1e296bca9e0>, __main__.Student)"
      ]
     },
     "execution_count": 12,
     "metadata": {},
     "output_type": "execute_result"
    }
   ],
   "source": [
    "student_one, type(student_one)"
   ]
  },
  {
   "cell_type": "code",
   "execution_count": 13,
   "id": "7e75a6b0",
   "metadata": {},
   "outputs": [
    {
     "data": {
      "text/plain": [
       "<bound method Student.getdetails of <__main__.Student object at 0x000001E296BCA9E0>>"
      ]
     },
     "execution_count": 13,
     "metadata": {},
     "output_type": "execute_result"
    }
   ],
   "source": [
    "student_one.getdetails"
   ]
  },
  {
   "cell_type": "code",
   "execution_count": 14,
   "id": "18ed6259",
   "metadata": {},
   "outputs": [
    {
     "data": {
      "text/plain": [
       "'Hey Gokul you are 23 years old'"
      ]
     },
     "execution_count": 14,
     "metadata": {},
     "output_type": "execute_result"
    }
   ],
   "source": [
    "student_one.getdetails()"
   ]
  },
  {
   "cell_type": "code",
   "execution_count": 15,
   "id": "420fa30a",
   "metadata": {},
   "outputs": [
    {
     "data": {
      "text/plain": [
       "'Hey Ajay you are 24 years old'"
      ]
     },
     "execution_count": 15,
     "metadata": {},
     "output_type": "execute_result"
    }
   ],
   "source": [
    "student_two.getdetails()"
   ]
  },
  {
   "cell_type": "code",
   "execution_count": 17,
   "id": "836d6fb4",
   "metadata": {},
   "outputs": [],
   "source": [
    "class Car:\n",
    "    # shareable attrributes that are shared across every object of the class Car \n",
    "    \n",
    "    name = 'Mercedez'\n",
    "    color = 'red'\n",
    "    \n",
    "    def __init__(self):\n",
    "        print(\" Initialized \")\n",
    "    \n",
    "    \n",
    "    "
   ]
  },
  {
   "cell_type": "code",
   "execution_count": 18,
   "id": "8cad5185",
   "metadata": {},
   "outputs": [
    {
     "name": "stdout",
     "output_type": "stream",
     "text": [
      " Initialized \n",
      " Initialized \n"
     ]
    }
   ],
   "source": [
    "car_one = Car()\n",
    "car_two = Car()"
   ]
  },
  {
   "cell_type": "code",
   "execution_count": 19,
   "id": "9e4e1640",
   "metadata": {},
   "outputs": [
    {
     "data": {
      "text/plain": [
       "{}"
      ]
     },
     "execution_count": 19,
     "metadata": {},
     "output_type": "execute_result"
    }
   ],
   "source": [
    "car_one.__dict__"
   ]
  },
  {
   "cell_type": "code",
   "execution_count": 20,
   "id": "80c53b08",
   "metadata": {},
   "outputs": [
    {
     "data": {
      "text/plain": [
       "{}"
      ]
     },
     "execution_count": 20,
     "metadata": {},
     "output_type": "execute_result"
    }
   ],
   "source": [
    "car_two.__dict__"
   ]
  },
  {
   "cell_type": "code",
   "execution_count": 21,
   "id": "a08b4369",
   "metadata": {},
   "outputs": [
    {
     "data": {
      "text/plain": [
       "mappingproxy({'__module__': '__main__',\n",
       "              'name': 'Mercedez',\n",
       "              'color': 'red',\n",
       "              '__init__': <function __main__.Car.__init__(self)>,\n",
       "              '__dict__': <attribute '__dict__' of 'Car' objects>,\n",
       "              '__weakref__': <attribute '__weakref__' of 'Car' objects>,\n",
       "              '__doc__': None})"
      ]
     },
     "execution_count": 21,
     "metadata": {},
     "output_type": "execute_result"
    }
   ],
   "source": [
    "Car.__dict__"
   ]
  },
  {
   "cell_type": "code",
   "execution_count": 22,
   "id": "53213e49",
   "metadata": {},
   "outputs": [
    {
     "data": {
      "text/plain": [
       "('Mercedez', 'red', 'Mercedez', 'red')"
      ]
     },
     "execution_count": 22,
     "metadata": {},
     "output_type": "execute_result"
    }
   ],
   "source": [
    "car_one.name, car_one.color, car_two.name,car_two.color"
   ]
  },
  {
   "cell_type": "code",
   "execution_count": null,
   "id": "48fd46bb",
   "metadata": {},
   "outputs": [],
   "source": []
  }
 ],
 "metadata": {
  "kernelspec": {
   "display_name": "Python 3 (ipykernel)",
   "language": "python",
   "name": "python3"
  },
  "language_info": {
   "codemirror_mode": {
    "name": "ipython",
    "version": 3
   },
   "file_extension": ".py",
   "mimetype": "text/x-python",
   "name": "python",
   "nbconvert_exporter": "python",
   "pygments_lexer": "ipython3",
   "version": "3.10.4"
  }
 },
 "nbformat": 4,
 "nbformat_minor": 5
}
