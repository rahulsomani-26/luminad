{
 "cells": [
  {
   "cell_type": "code",
   "execution_count": 1,
   "id": "fccf7d9e",
   "metadata": {},
   "outputs": [],
   "source": [
    "n = 10 \n",
    "def my_func():\n",
    "    print(\"Global variable = {}\".format(n))\n",
    "    m = 20 \n",
    "    print(f\"Local variable = {m}\")"
   ]
  },
  {
   "cell_type": "code",
   "execution_count": 2,
   "id": "158e5248",
   "metadata": {},
   "outputs": [
    {
     "data": {
      "text/plain": [
       "10"
      ]
     },
     "execution_count": 2,
     "metadata": {},
     "output_type": "execute_result"
    }
   ],
   "source": [
    "n"
   ]
  },
  {
   "cell_type": "code",
   "execution_count": 3,
   "id": "b3fb9e80",
   "metadata": {},
   "outputs": [
    {
     "ename": "NameError",
     "evalue": "name 'm' is not defined",
     "output_type": "error",
     "traceback": [
      "\u001b[1;31m---------------------------------------------------------------------------\u001b[0m",
      "\u001b[1;31mNameError\u001b[0m                                 Traceback (most recent call last)",
      "Input \u001b[1;32mIn [3]\u001b[0m, in \u001b[0;36m<cell line: 1>\u001b[1;34m()\u001b[0m\n\u001b[1;32m----> 1\u001b[0m \u001b[43mm\u001b[49m\n",
      "\u001b[1;31mNameError\u001b[0m: name 'm' is not defined"
     ]
    }
   ],
   "source": [
    "m # is not global, so cannot be accessed and hence throws an error"
   ]
  },
  {
   "cell_type": "code",
   "execution_count": 4,
   "id": "a9cbcc1e",
   "metadata": {},
   "outputs": [
    {
     "name": "stdout",
     "output_type": "stream",
     "text": [
      "Global variable = 10\n",
      "Local variable = 20\n"
     ]
    }
   ],
   "source": [
    "my_func()"
   ]
  },
  {
   "cell_type": "code",
   "execution_count": 5,
   "id": "689e1609",
   "metadata": {},
   "outputs": [],
   "source": [
    "version = '1.0'\n",
    "def first():\n",
    "    version = '1.0.20'\n",
    "    print(version)"
   ]
  },
  {
   "cell_type": "code",
   "execution_count": 6,
   "id": "9336ef2c",
   "metadata": {},
   "outputs": [
    {
     "data": {
      "text/plain": [
       "'1.0'"
      ]
     },
     "execution_count": 6,
     "metadata": {},
     "output_type": "execute_result"
    }
   ],
   "source": [
    "version"
   ]
  },
  {
   "cell_type": "code",
   "execution_count": 7,
   "id": "75a241a3",
   "metadata": {},
   "outputs": [
    {
     "name": "stdout",
     "output_type": "stream",
     "text": [
      "1.0.20\n"
     ]
    }
   ],
   "source": [
    "first()"
   ]
  },
  {
   "cell_type": "code",
   "execution_count": 8,
   "id": "2f0a330d",
   "metadata": {},
   "outputs": [
    {
     "data": {
      "text/plain": [
       "'1.0'"
      ]
     },
     "execution_count": 8,
     "metadata": {},
     "output_type": "execute_result"
    }
   ],
   "source": [
    "version"
   ]
  },
  {
   "cell_type": "code",
   "execution_count": 9,
   "id": "7c7e520c",
   "metadata": {},
   "outputs": [],
   "source": [
    "version = '1.0'\n",
    "def first():\n",
    "    global version\n",
    "    version = '1.0.20'\n",
    "    print(version)"
   ]
  },
  {
   "cell_type": "code",
   "execution_count": 10,
   "id": "2b2b7038",
   "metadata": {},
   "outputs": [
    {
     "data": {
      "text/plain": [
       "'1.0'"
      ]
     },
     "execution_count": 10,
     "metadata": {},
     "output_type": "execute_result"
    }
   ],
   "source": [
    "version"
   ]
  },
  {
   "cell_type": "code",
   "execution_count": 11,
   "id": "3c01635e",
   "metadata": {},
   "outputs": [
    {
     "name": "stdout",
     "output_type": "stream",
     "text": [
      "1.0.20\n"
     ]
    }
   ],
   "source": [
    "first()"
   ]
  },
  {
   "cell_type": "code",
   "execution_count": 12,
   "id": "23cbd5b2",
   "metadata": {},
   "outputs": [
    {
     "data": {
      "text/plain": [
       "'1.0.20'"
      ]
     },
     "execution_count": 12,
     "metadata": {},
     "output_type": "execute_result"
    }
   ],
   "source": [
    "version"
   ]
  },
  {
   "cell_type": "markdown",
   "id": "d99e4db0",
   "metadata": {},
   "source": [
    "# Nested Function \n",
    "\n",
    " - Functions within functions are known as nested functions \n",
    "    "
   ]
  },
  {
   "cell_type": "code",
   "execution_count": 23,
   "id": "a49ab96c",
   "metadata": {},
   "outputs": [],
   "source": [
    "name = 'rahul'\n",
    "def outer():\n",
    "    print(\"Within the outer function\")\n",
    "    age = 42\n",
    "    print(age)\n",
    "    def inner():\n",
    "        print(\"Within the inner function \")\n",
    "        nonlocal age \n",
    "        age = 43 \n",
    "        print(\"hi {} you are now {} years old \".format(name,age))\n",
    "        return inner\n",
    "    inner()\n",
    "        \n",
    "    "
   ]
  },
  {
   "cell_type": "code",
   "execution_count": 24,
   "id": "02a23b4b",
   "metadata": {},
   "outputs": [
    {
     "data": {
      "text/plain": [
       "'rahul'"
      ]
     },
     "execution_count": 24,
     "metadata": {},
     "output_type": "execute_result"
    }
   ],
   "source": [
    "name"
   ]
  },
  {
   "cell_type": "code",
   "execution_count": 25,
   "id": "542f94d3",
   "metadata": {},
   "outputs": [
    {
     "name": "stdout",
     "output_type": "stream",
     "text": [
      "Within the outer function\n",
      "42\n",
      "Within the inner function \n",
      "hi rahul you are now 43 years old \n"
     ]
    }
   ],
   "source": [
    "outer()"
   ]
  },
  {
   "cell_type": "code",
   "execution_count": 26,
   "id": "4f56db01",
   "metadata": {},
   "outputs": [
    {
     "ename": "NameError",
     "evalue": "name 'age' is not defined",
     "output_type": "error",
     "traceback": [
      "\u001b[1;31m---------------------------------------------------------------------------\u001b[0m",
      "\u001b[1;31mNameError\u001b[0m                                 Traceback (most recent call last)",
      "Input \u001b[1;32mIn [26]\u001b[0m, in \u001b[0;36m<cell line: 1>\u001b[1;34m()\u001b[0m\n\u001b[1;32m----> 1\u001b[0m \u001b[43mage\u001b[49m\n",
      "\u001b[1;31mNameError\u001b[0m: name 'age' is not defined"
     ]
    }
   ],
   "source": [
    "age"
   ]
  },
  {
   "cell_type": "code",
   "execution_count": 27,
   "id": "77bdbf08",
   "metadata": {},
   "outputs": [],
   "source": [
    "name = 'rahul'\n",
    "def outer():\n",
    "    age = 42\n",
    "    def inner():\n",
    "        age = 43 \n",
    "        print(\"hi {} you are now {} years old \".format(name,age))\n",
    "        inner()\n",
    "        "
   ]
  },
  {
   "cell_type": "code",
   "execution_count": 28,
   "id": "62a7b7d1",
   "metadata": {},
   "outputs": [
    {
     "data": {
      "text/plain": [
       "'rahul'"
      ]
     },
     "execution_count": 28,
     "metadata": {},
     "output_type": "execute_result"
    }
   ],
   "source": [
    "name"
   ]
  },
  {
   "cell_type": "code",
   "execution_count": 29,
   "id": "cdb9ad6a",
   "metadata": {},
   "outputs": [],
   "source": [
    "outer()"
   ]
  },
  {
   "cell_type": "code",
   "execution_count": 34,
   "id": "8643e9b6",
   "metadata": {},
   "outputs": [],
   "source": [
    "value = 40\n",
    "def outer():\n",
    "    a =10\n",
    "    print('a from outer = {}'.format(a))\n",
    "    def inner():\n",
    "        nonlocal a\n",
    "        a = 20 \n",
    "        print('a from inner = {}'.format(a))\n",
    "    inner()\n",
    "    print(a)"
   ]
  },
  {
   "cell_type": "code",
   "execution_count": 32,
   "id": "af6d060b",
   "metadata": {},
   "outputs": [
    {
     "name": "stdout",
     "output_type": "stream",
     "text": [
      "a from outer = 10\n",
      "a from inner = 20\n",
      "20\n"
     ]
    }
   ],
   "source": [
    "outer()"
   ]
  },
  {
   "cell_type": "code",
   "execution_count": 35,
   "id": "2bcd0c49",
   "metadata": {},
   "outputs": [],
   "source": [
    "value = 40\n",
    "def outer():\n",
    "    a =10\n",
    "    print('a from outer = {}'.format(a))\n",
    "    def inner():\n",
    "        global a\n",
    "        a = 20 \n",
    "        print('a from inner = {}'.format(a))\n",
    "    inner()\n",
    "    print(a)"
   ]
  },
  {
   "cell_type": "code",
   "execution_count": 36,
   "id": "3400ce6c",
   "metadata": {},
   "outputs": [
    {
     "name": "stdout",
     "output_type": "stream",
     "text": [
      "a from outer = 10\n",
      "a from inner = 20\n",
      "10\n"
     ]
    }
   ],
   "source": [
    "outer()"
   ]
  },
  {
   "cell_type": "code",
   "execution_count": 37,
   "id": "881b98bb",
   "metadata": {},
   "outputs": [],
   "source": [
    "def logger(fn=print,msg='Hello world'):\n",
    "    fn(msg)"
   ]
  },
  {
   "cell_type": "code",
   "execution_count": 38,
   "id": "16284e94",
   "metadata": {},
   "outputs": [
    {
     "name": "stdout",
     "output_type": "stream",
     "text": [
      "Hello world\n"
     ]
    }
   ],
   "source": [
    "logger()"
   ]
  },
  {
   "cell_type": "code",
   "execution_count": null,
   "id": "bcaa4316",
   "metadata": {},
   "outputs": [],
   "source": []
  }
 ],
 "metadata": {
  "kernelspec": {
   "display_name": "Python 3 (ipykernel)",
   "language": "python",
   "name": "python3"
  },
  "language_info": {
   "codemirror_mode": {
    "name": "ipython",
    "version": 3
   },
   "file_extension": ".py",
   "mimetype": "text/x-python",
   "name": "python",
   "nbconvert_exporter": "python",
   "pygments_lexer": "ipython3",
   "version": "3.10.4"
  }
 },
 "nbformat": 4,
 "nbformat_minor": 5
}
