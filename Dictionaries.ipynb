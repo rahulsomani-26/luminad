{
 "cells": [
  {
   "cell_type": "markdown",
   "id": "ce44e692",
   "metadata": {},
   "source": [
    "## Dictionaries \n",
    "***\n",
    "\n",
    "Are data structure: \n",
    "    \n",
    "    - Key value pair \n",
    "    - Enclosed within {}\n",
    "    - Example : {\"name\":'Ajay', \"age\":23}\n",
    "    - Can be created using {key:value}\n",
    "    - or, can be created using dict constructor / factory method\n",
    "    \n",
    "    "
   ]
  },
  {
   "cell_type": "code",
   "execution_count": 5,
   "id": "9dc3f20e",
   "metadata": {},
   "outputs": [
    {
     "name": "stdout",
     "output_type": "stream",
     "text": [
      "{'_id': 101, 'name': 'Amit', 'age': 23, 'designation': 'SE'}\n",
      "\n",
      " type = <class 'dict'> id = 0x22696b42040\n"
     ]
    }
   ],
   "source": [
    "emp_details = {'_id':101,\"name\":'Amit','age':23,'designation':'SE'}\n",
    "print(emp_details,end='\\n\\n')\n",
    "print(' type = {} id = {}'.format(type(emp_details),hex(id(emp_details))))\n"
   ]
  },
  {
   "cell_type": "code",
   "execution_count": 6,
   "id": "3810c42f",
   "metadata": {},
   "outputs": [
    {
     "name": "stdout",
     "output_type": "stream",
     "text": [
      "----------------------------------------------------------------------------------------------------\n",
      "101 Amit 23 SE\n"
     ]
    }
   ],
   "source": [
    "# To get an element from a dictionary, use the key \n",
    "name_of_emp = emp_details[\"name\"]\n",
    "_id = emp_details[\"_id\"]\n",
    "age = emp_details[\"age\"]\n",
    "profile = emp_details['designation']\n",
    "print('-'*100)\n",
    "print(_id,name_of_emp,age,profile)"
   ]
  },
  {
   "cell_type": "code",
   "execution_count": 7,
   "id": "014c2c42",
   "metadata": {},
   "outputs": [
    {
     "name": "stdout",
     "output_type": "stream",
     "text": [
      "['__class__', '__class_getitem__', '__contains__', '__delattr__', '__delitem__', '__dir__', '__doc__', '__eq__', '__format__', '__ge__', '__getattribute__', '__getitem__', '__gt__', '__hash__', '__init__', '__init_subclass__', '__ior__', '__iter__', '__le__', '__len__', '__lt__', '__ne__', '__new__', '__or__', '__reduce__', '__reduce_ex__', '__repr__', '__reversed__', '__ror__', '__setattr__', '__setitem__', '__sizeof__', '__str__', '__subclasshook__', 'clear', 'copy', 'fromkeys', 'get', 'items', 'keys', 'pop', 'popitem', 'setdefault', 'update', 'values']\n"
     ]
    }
   ],
   "source": [
    "print(dir(dict))"
   ]
  },
  {
   "cell_type": "code",
   "execution_count": 9,
   "id": "debf7ccb",
   "metadata": {},
   "outputs": [
    {
     "data": {
      "text/plain": [
       "'Return the value for key if key is in the dictionary, else default.'"
      ]
     },
     "execution_count": 9,
     "metadata": {},
     "output_type": "execute_result"
    }
   ],
   "source": [
    "dict.get.__doc__"
   ]
  },
  {
   "cell_type": "code",
   "execution_count": 10,
   "id": "2b224a72",
   "metadata": {},
   "outputs": [
    {
     "data": {
      "text/plain": [
       "'Amit'"
      ]
     },
     "execution_count": 10,
     "metadata": {},
     "output_type": "execute_result"
    }
   ],
   "source": [
    "emp_details.get(\"name\")"
   ]
  },
  {
   "cell_type": "code",
   "execution_count": 12,
   "id": "cb7f05ae",
   "metadata": {},
   "outputs": [
    {
     "name": "stdout",
     "output_type": "stream",
     "text": [
      "None\n"
     ]
    }
   ],
   "source": [
    "print(emp_details.get(\"notpresent\"))"
   ]
  },
  {
   "cell_type": "code",
   "execution_count": 13,
   "id": "0db69cd6",
   "metadata": {},
   "outputs": [
    {
     "data": {
      "text/plain": [
       "<function dict.items>"
      ]
     },
     "execution_count": 13,
     "metadata": {},
     "output_type": "execute_result"
    }
   ],
   "source": [
    "emp_details.items"
   ]
  },
  {
   "cell_type": "code",
   "execution_count": 14,
   "id": "510eb021",
   "metadata": {},
   "outputs": [
    {
     "data": {
      "text/plain": [
       "\"D.items() -> a set-like object providing a view on D's items\""
      ]
     },
     "execution_count": 14,
     "metadata": {},
     "output_type": "execute_result"
    }
   ],
   "source": [
    "emp_details.items.__doc__"
   ]
  },
  {
   "cell_type": "code",
   "execution_count": 15,
   "id": "25acb767",
   "metadata": {},
   "outputs": [
    {
     "data": {
      "text/plain": [
       "dict_items([('_id', 101), ('name', 'Amit'), ('age', 23), ('designation', 'SE')])"
      ]
     },
     "execution_count": 15,
     "metadata": {},
     "output_type": "execute_result"
    }
   ],
   "source": [
    "# Getting items ( key, value pair)\n",
    "emp_details.items()"
   ]
  },
  {
   "cell_type": "code",
   "execution_count": 17,
   "id": "a1eaedd0",
   "metadata": {},
   "outputs": [
    {
     "data": {
      "text/plain": [
       "dict_keys(['_id', 'name', 'age', 'designation'])"
      ]
     },
     "execution_count": 17,
     "metadata": {},
     "output_type": "execute_result"
    }
   ],
   "source": [
    "# Getting the keys \n",
    "emp_details.keys()"
   ]
  },
  {
   "cell_type": "code",
   "execution_count": 18,
   "id": "a96c78a5",
   "metadata": {},
   "outputs": [
    {
     "data": {
      "text/plain": [
       "dict_values([101, 'Amit', 23, 'SE'])"
      ]
     },
     "execution_count": 18,
     "metadata": {},
     "output_type": "execute_result"
    }
   ],
   "source": [
    "emp_details.values()"
   ]
  },
  {
   "cell_type": "code",
   "execution_count": 19,
   "id": "b66f52e5",
   "metadata": {},
   "outputs": [
    {
     "data": {
      "text/plain": [
       "{'_id': 101, 'name': 'Amit', 'age': 23, 'designation': 'SE'}"
      ]
     },
     "execution_count": 19,
     "metadata": {},
     "output_type": "execute_result"
    }
   ],
   "source": [
    "emp_details"
   ]
  },
  {
   "cell_type": "code",
   "execution_count": 23,
   "id": "c0cdef06",
   "metadata": {},
   "outputs": [
    {
     "name": "stdout",
     "output_type": "stream",
     "text": [
      "D.pop(k[,d]) -> v, remove specified key and return the corresponding value.\n",
      "\n",
      "If the key is not found, return the default if given; otherwise,\n",
      "raise a KeyError.\n"
     ]
    }
   ],
   "source": [
    "print(emp_details.pop.__doc__)"
   ]
  },
  {
   "cell_type": "code",
   "execution_count": 24,
   "id": "c7c48729",
   "metadata": {},
   "outputs": [
    {
     "data": {
      "text/plain": [
       "101"
      ]
     },
     "execution_count": 24,
     "metadata": {},
     "output_type": "execute_result"
    }
   ],
   "source": [
    "emp_details.pop(\"_id\")"
   ]
  },
  {
   "cell_type": "code",
   "execution_count": 27,
   "id": "af2e99b1",
   "metadata": {},
   "outputs": [
    {
     "data": {
      "text/plain": [
       "({'age': 23, 'designation': 'SE'}, '0x22696b42040')"
      ]
     },
     "execution_count": 27,
     "metadata": {},
     "output_type": "execute_result"
    }
   ],
   "source": [
    "emp_details, hex(id(emp_details))"
   ]
  },
  {
   "cell_type": "code",
   "execution_count": 28,
   "id": "064a7f7f",
   "metadata": {},
   "outputs": [
    {
     "data": {
      "text/plain": [
       "<method 'setdefault' of 'dict' objects>"
      ]
     },
     "execution_count": 28,
     "metadata": {},
     "output_type": "execute_result"
    }
   ],
   "source": [
    "dict.setdefault"
   ]
  },
  {
   "cell_type": "code",
   "execution_count": 29,
   "id": "786f1f7c",
   "metadata": {},
   "outputs": [
    {
     "name": "stdout",
     "output_type": "stream",
     "text": [
      "Help on method_descriptor:\n",
      "\n",
      "setdefault(self, key, default=None, /)\n",
      "    Insert key with a value of default if key is not in the dictionary.\n",
      "    \n",
      "    Return the value for key if key is in the dictionary, else default.\n",
      "\n"
     ]
    }
   ],
   "source": [
    "help(dict.setdefault)"
   ]
  },
  {
   "cell_type": "code",
   "execution_count": 32,
   "id": "a63b9854",
   "metadata": {},
   "outputs": [
    {
     "name": "stdout",
     "output_type": "stream",
     "text": [
      "Memory address (id) = 2364760722688\n",
      "Memory address (id) = 2364760722688\n"
     ]
    }
   ],
   "source": [
    "e = {'First':'Rahul','Last':'Somani'}\n",
    "print('Memory address (id) = {}'.format(id(e)))\n",
    "e.setdefault('test',2000)\n",
    "print('Memory address (id) = {}'.format(id(e)))\n"
   ]
  },
  {
   "cell_type": "code",
   "execution_count": 31,
   "id": "20e32126",
   "metadata": {},
   "outputs": [
    {
     "data": {
      "text/plain": [
       "{'First': 'Rahul', 'Last': 'Somani', 'test': 2000}"
      ]
     },
     "execution_count": 31,
     "metadata": {},
     "output_type": "execute_result"
    }
   ],
   "source": [
    "e"
   ]
  },
  {
   "cell_type": "code",
   "execution_count": null,
   "id": "c501cd33",
   "metadata": {},
   "outputs": [],
   "source": []
  }
 ],
 "metadata": {
  "kernelspec": {
   "display_name": "Python 3 (ipykernel)",
   "language": "python",
   "name": "python3"
  },
  "language_info": {
   "codemirror_mode": {
    "name": "ipython",
    "version": 3
   },
   "file_extension": ".py",
   "mimetype": "text/x-python",
   "name": "python",
   "nbconvert_exporter": "python",
   "pygments_lexer": "ipython3",
   "version": "3.10.4"
  }
 },
 "nbformat": 4,
 "nbformat_minor": 5
}
