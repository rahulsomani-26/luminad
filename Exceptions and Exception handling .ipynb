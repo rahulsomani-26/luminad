{
 "cells": [
  {
   "cell_type": "markdown",
   "id": "aaac3814",
   "metadata": {},
   "source": [
    "# Exceptions and Exceptions handling \n",
    "***"
   ]
  },
  {
   "cell_type": "code",
   "execution_count": 1,
   "id": "76b5c022",
   "metadata": {},
   "outputs": [],
   "source": [
    "def exception_example():\n",
    "    print(\"Within the module {}\".format(__name__))\n",
    "    print(\" Trying to understand exceptions \")\n",
    "    a = 10 \n",
    "    b = 0 \n",
    "    print(\" The value of a and b are {} and {} respectively\".format(a,b))\n",
    "    print(\"Trying to divide a by b\")\n",
    "    result = a/b\n",
    "    print(result)\n",
    "    print(\"End of program\".center(100,'='))"
   ]
  },
  {
   "cell_type": "code",
   "execution_count": 2,
   "id": "b9ceb64f",
   "metadata": {},
   "outputs": [
    {
     "data": {
      "text/plain": [
       "<function __main__.exception_example()>"
      ]
     },
     "execution_count": 2,
     "metadata": {},
     "output_type": "execute_result"
    }
   ],
   "source": [
    "exception_example"
   ]
  },
  {
   "cell_type": "code",
   "execution_count": 3,
   "id": "5e4af2f3",
   "metadata": {},
   "outputs": [
    {
     "name": "stdout",
     "output_type": "stream",
     "text": [
      "Within the module __main__\n",
      " Trying to understand exceptions \n",
      " The value of a and b are 10 and 0 respectively\n",
      "Trying to divide a by b\n"
     ]
    },
    {
     "ename": "ZeroDivisionError",
     "evalue": "division by zero",
     "output_type": "error",
     "traceback": [
      "\u001b[1;31m---------------------------------------------------------------------------\u001b[0m",
      "\u001b[1;31mZeroDivisionError\u001b[0m                         Traceback (most recent call last)",
      "Input \u001b[1;32mIn [3]\u001b[0m, in \u001b[0;36m<cell line: 1>\u001b[1;34m()\u001b[0m\n\u001b[1;32m----> 1\u001b[0m \u001b[43mexception_example\u001b[49m\u001b[43m(\u001b[49m\u001b[43m)\u001b[49m\n",
      "Input \u001b[1;32mIn [1]\u001b[0m, in \u001b[0;36mexception_example\u001b[1;34m()\u001b[0m\n\u001b[0;32m      6\u001b[0m \u001b[38;5;28mprint\u001b[39m(\u001b[38;5;124m\"\u001b[39m\u001b[38;5;124m The value of a and b are \u001b[39m\u001b[38;5;132;01m{}\u001b[39;00m\u001b[38;5;124m and \u001b[39m\u001b[38;5;132;01m{}\u001b[39;00m\u001b[38;5;124m respectively\u001b[39m\u001b[38;5;124m\"\u001b[39m\u001b[38;5;241m.\u001b[39mformat(a,b))\n\u001b[0;32m      7\u001b[0m \u001b[38;5;28mprint\u001b[39m(\u001b[38;5;124m\"\u001b[39m\u001b[38;5;124mTrying to divide a by b\u001b[39m\u001b[38;5;124m\"\u001b[39m)\n\u001b[1;32m----> 8\u001b[0m result \u001b[38;5;241m=\u001b[39m \u001b[43ma\u001b[49m\u001b[38;5;241;43m/\u001b[39;49m\u001b[43mb\u001b[49m\n\u001b[0;32m      9\u001b[0m \u001b[38;5;28mprint\u001b[39m(result)\n\u001b[0;32m     10\u001b[0m \u001b[38;5;28mprint\u001b[39m(\u001b[38;5;124m\"\u001b[39m\u001b[38;5;124mEnd of program\u001b[39m\u001b[38;5;124m\"\u001b[39m\u001b[38;5;241m.\u001b[39mcenter(\u001b[38;5;241m100\u001b[39m,\u001b[38;5;124m'\u001b[39m\u001b[38;5;124m=\u001b[39m\u001b[38;5;124m'\u001b[39m))\n",
      "\u001b[1;31mZeroDivisionError\u001b[0m: division by zero"
     ]
    }
   ],
   "source": [
    "exception_example()"
   ]
  },
  {
   "cell_type": "markdown",
   "id": "ec6f97ef",
   "metadata": {},
   "source": [
    "# Exception handling Syntax\n",
    "\n",
    "    - try:\n",
    "         put your code that might lead to an exception \n",
    "      except Exception as e:\n",
    "        print(e)\n",
    "      finally:\n",
    "        put your code that you want to execute no matter whether an exception happened or not\n",
    "        normally code like closing a file, closing all the resources, etc goes under the finally section "
   ]
  },
  {
   "cell_type": "code",
   "execution_count": 4,
   "id": "0eafdba8",
   "metadata": {},
   "outputs": [],
   "source": [
    "def exception_example():\n",
    "    print(\"Within the module {}\".format(__name__))\n",
    "    print(\" Trying to understand exceptions \")\n",
    "    a = 10 \n",
    "    b = 0 \n",
    "    print(\" The value of a and b are {} and {} respectively\".format(a,b))\n",
    "    print(\"Trying to divide a by b\")\n",
    "    try:\n",
    "        result = a/b\n",
    "        print(result)\n",
    "    except Exception as e:\n",
    "        print(\"An error occured {}\".format(e))\n",
    "    finally:\n",
    "        print(\"End of program\".center(100,'='))"
   ]
  },
  {
   "cell_type": "code",
   "execution_count": 5,
   "id": "43480744",
   "metadata": {},
   "outputs": [
    {
     "name": "stdout",
     "output_type": "stream",
     "text": [
      "Within the module __main__\n",
      " Trying to understand exceptions \n",
      " The value of a and b are 10 and 0 respectively\n",
      "Trying to divide a by b\n",
      "An error occured division by zero\n",
      "===========================================End of program===========================================\n"
     ]
    }
   ],
   "source": [
    "exception_example()"
   ]
  },
  {
   "cell_type": "code",
   "execution_count": 6,
   "id": "10c21472",
   "metadata": {},
   "outputs": [
    {
     "name": "stdout",
     "output_type": "stream",
     "text": [
      "name 'name' is not defined\n",
      "End of the program\n"
     ]
    }
   ],
   "source": [
    "try:\n",
    "    print(\"Hey {}\".format(name))\n",
    "except Exception as e:\n",
    "    print(e)\n",
    "finally:\n",
    "    print(\"End of the program\")"
   ]
  },
  {
   "cell_type": "code",
   "execution_count": 7,
   "id": "d980740b",
   "metadata": {},
   "outputs": [
    {
     "ename": "NameError",
     "evalue": "name 'name' is not defined",
     "output_type": "error",
     "traceback": [
      "\u001b[1;31m---------------------------------------------------------------------------\u001b[0m",
      "\u001b[1;31mNameError\u001b[0m                                 Traceback (most recent call last)",
      "Input \u001b[1;32mIn [7]\u001b[0m, in \u001b[0;36m<cell line: 1>\u001b[1;34m()\u001b[0m\n\u001b[1;32m----> 1\u001b[0m \u001b[38;5;28mprint\u001b[39m(\u001b[38;5;124m\"\u001b[39m\u001b[38;5;124mHey \u001b[39m\u001b[38;5;132;01m{}\u001b[39;00m\u001b[38;5;124m\"\u001b[39m\u001b[38;5;241m.\u001b[39mformat(\u001b[43mname\u001b[49m))\n\u001b[0;32m      2\u001b[0m \u001b[38;5;28mprint\u001b[39m(\u001b[38;5;124m\"\u001b[39m\u001b[38;5;124mEnd of the program\u001b[39m\u001b[38;5;124m\"\u001b[39m)\n",
      "\u001b[1;31mNameError\u001b[0m: name 'name' is not defined"
     ]
    }
   ],
   "source": [
    "print(\"Hey {}\".format(name))\n",
    "print(\"End of the program\")\n"
   ]
  },
  {
   "cell_type": "code",
   "execution_count": 8,
   "id": "2903d6e5",
   "metadata": {},
   "outputs": [
    {
     "data": {
      "text/plain": [
       "(Exception, type)"
      ]
     },
     "execution_count": 8,
     "metadata": {},
     "output_type": "execute_result"
    }
   ],
   "source": [
    "Exception, type(Exception)"
   ]
  },
  {
   "cell_type": "code",
   "execution_count": 9,
   "id": "c20d6962",
   "metadata": {},
   "outputs": [
    {
     "data": {
      "text/plain": [
       "BaseException"
      ]
     },
     "execution_count": 9,
     "metadata": {},
     "output_type": "execute_result"
    }
   ],
   "source": [
    "BaseException "
   ]
  },
  {
   "cell_type": "code",
   "execution_count": 10,
   "id": "9ceae4a1",
   "metadata": {},
   "outputs": [
    {
     "data": {
      "text/plain": [
       "<function issubclass(cls, class_or_tuple, /)>"
      ]
     },
     "execution_count": 10,
     "metadata": {},
     "output_type": "execute_result"
    }
   ],
   "source": [
    "issubclass"
   ]
  },
  {
   "cell_type": "code",
   "execution_count": 11,
   "id": "da288f64",
   "metadata": {},
   "outputs": [
    {
     "data": {
      "text/plain": [
       "True"
      ]
     },
     "execution_count": 11,
     "metadata": {},
     "output_type": "execute_result"
    }
   ],
   "source": [
    "issubclass(Exception,BaseException)"
   ]
  },
  {
   "cell_type": "code",
   "execution_count": 12,
   "id": "79025d61",
   "metadata": {},
   "outputs": [
    {
     "name": "stdout",
     "output_type": "stream",
     "text": [
      "['__cause__', '__class__', '__context__', '__delattr__', '__dict__', '__dir__', '__doc__', '__eq__', '__format__', '__ge__', '__getattribute__', '__gt__', '__hash__', '__init__', '__init_subclass__', '__le__', '__lt__', '__ne__', '__new__', '__reduce__', '__reduce_ex__', '__repr__', '__setattr__', '__setstate__', '__sizeof__', '__str__', '__subclasshook__', '__suppress_context__', '__traceback__', 'args', 'with_traceback']\n"
     ]
    }
   ],
   "source": [
    "print(dir(Exception))"
   ]
  },
  {
   "cell_type": "code",
   "execution_count": 13,
   "id": "1df21328",
   "metadata": {},
   "outputs": [
    {
     "name": "stdout",
     "output_type": "stream",
     "text": [
      "['__cause__', '__class__', '__context__', '__delattr__', '__dict__', '__dir__', '__doc__', '__eq__', '__format__', '__ge__', '__getattribute__', '__gt__', '__hash__', '__init__', '__init_subclass__', '__le__', '__lt__', '__ne__', '__new__', '__reduce__', '__reduce_ex__', '__repr__', '__setattr__', '__setstate__', '__sizeof__', '__str__', '__subclasshook__', '__suppress_context__', '__traceback__', 'args', 'with_traceback']\n"
     ]
    }
   ],
   "source": [
    "print(dir(BaseException))"
   ]
  },
  {
   "cell_type": "code",
   "execution_count": 14,
   "id": "b3f261c6",
   "metadata": {},
   "outputs": [
    {
     "ename": "NameError",
     "evalue": "name 'n' is not defined",
     "output_type": "error",
     "traceback": [
      "\u001b[1;31m---------------------------------------------------------------------------\u001b[0m",
      "\u001b[1;31mNameError\u001b[0m                                 Traceback (most recent call last)",
      "Input \u001b[1;32mIn [14]\u001b[0m, in \u001b[0;36m<cell line: 1>\u001b[1;34m()\u001b[0m\n\u001b[1;32m----> 1\u001b[0m \u001b[43mn\u001b[49m\n",
      "\u001b[1;31mNameError\u001b[0m: name 'n' is not defined"
     ]
    }
   ],
   "source": [
    "n"
   ]
  },
  {
   "cell_type": "code",
   "execution_count": 15,
   "id": "9cc509b3",
   "metadata": {},
   "outputs": [
    {
     "ename": "IndexError",
     "evalue": "string index out of range",
     "output_type": "error",
     "traceback": [
      "\u001b[1;31m---------------------------------------------------------------------------\u001b[0m",
      "\u001b[1;31mIndexError\u001b[0m                                Traceback (most recent call last)",
      "Input \u001b[1;32mIn [15]\u001b[0m, in \u001b[0;36m<cell line: 1>\u001b[1;34m()\u001b[0m\n\u001b[1;32m----> 1\u001b[0m \u001b[38;5;124;43m'\u001b[39;49m\u001b[38;5;124;43mrahul\u001b[39;49m\u001b[38;5;124;43m'\u001b[39;49m\u001b[43m[\u001b[49m\u001b[38;5;241;43m20\u001b[39;49m\u001b[43m]\u001b[49m\n",
      "\u001b[1;31mIndexError\u001b[0m: string index out of range"
     ]
    }
   ],
   "source": [
    "'rahul'[20]"
   ]
  },
  {
   "cell_type": "code",
   "execution_count": 16,
   "id": "bae19d44",
   "metadata": {},
   "outputs": [],
   "source": [
    "my_exception = Exception(\"my custom exception \")"
   ]
  },
  {
   "cell_type": "code",
   "execution_count": 17,
   "id": "7302862e",
   "metadata": {},
   "outputs": [
    {
     "data": {
      "text/plain": [
       "Exception('my custom exception ')"
      ]
     },
     "execution_count": 17,
     "metadata": {},
     "output_type": "execute_result"
    }
   ],
   "source": [
    "my_exception"
   ]
  },
  {
   "cell_type": "markdown",
   "id": "0b16f4dd",
   "metadata": {},
   "source": [
    "### Lets apply our learning of exceptions \n",
    "***"
   ]
  },
  {
   "cell_type": "code",
   "execution_count": 18,
   "id": "e3878383",
   "metadata": {},
   "outputs": [],
   "source": [
    "def f1():\n",
    "    print(\"in f1\")\n",
    "    f2()\n",
    "\n",
    "def f2():\n",
    "    print(\"In f2\")\n",
    "    f3()\n",
    "    \n",
    "def f3():\n",
    "    print(\"in f3\")\n",
    "    a,b = 10,0\n",
    "    return a/b"
   ]
  },
  {
   "cell_type": "code",
   "execution_count": 19,
   "id": "0ca2ad9d",
   "metadata": {},
   "outputs": [
    {
     "name": "stdout",
     "output_type": "stream",
     "text": [
      "in f1\n",
      "In f2\n",
      "in f3\n"
     ]
    },
    {
     "ename": "ZeroDivisionError",
     "evalue": "division by zero",
     "output_type": "error",
     "traceback": [
      "\u001b[1;31m---------------------------------------------------------------------------\u001b[0m",
      "\u001b[1;31mZeroDivisionError\u001b[0m                         Traceback (most recent call last)",
      "Input \u001b[1;32mIn [19]\u001b[0m, in \u001b[0;36m<cell line: 1>\u001b[1;34m()\u001b[0m\n\u001b[1;32m----> 1\u001b[0m \u001b[43mf1\u001b[49m\u001b[43m(\u001b[49m\u001b[43m)\u001b[49m\n",
      "Input \u001b[1;32mIn [18]\u001b[0m, in \u001b[0;36mf1\u001b[1;34m()\u001b[0m\n\u001b[0;32m      1\u001b[0m \u001b[38;5;28;01mdef\u001b[39;00m \u001b[38;5;21mf1\u001b[39m():\n\u001b[0;32m      2\u001b[0m     \u001b[38;5;28mprint\u001b[39m(\u001b[38;5;124m\"\u001b[39m\u001b[38;5;124min f1\u001b[39m\u001b[38;5;124m\"\u001b[39m)\n\u001b[1;32m----> 3\u001b[0m     \u001b[43mf2\u001b[49m\u001b[43m(\u001b[49m\u001b[43m)\u001b[49m\n",
      "Input \u001b[1;32mIn [18]\u001b[0m, in \u001b[0;36mf2\u001b[1;34m()\u001b[0m\n\u001b[0;32m      5\u001b[0m \u001b[38;5;28;01mdef\u001b[39;00m \u001b[38;5;21mf2\u001b[39m():\n\u001b[0;32m      6\u001b[0m     \u001b[38;5;28mprint\u001b[39m(\u001b[38;5;124m\"\u001b[39m\u001b[38;5;124mIn f2\u001b[39m\u001b[38;5;124m\"\u001b[39m)\n\u001b[1;32m----> 7\u001b[0m     \u001b[43mf3\u001b[49m\u001b[43m(\u001b[49m\u001b[43m)\u001b[49m\n",
      "Input \u001b[1;32mIn [18]\u001b[0m, in \u001b[0;36mf3\u001b[1;34m()\u001b[0m\n\u001b[0;32m     10\u001b[0m \u001b[38;5;28mprint\u001b[39m(\u001b[38;5;124m\"\u001b[39m\u001b[38;5;124min f3\u001b[39m\u001b[38;5;124m\"\u001b[39m)\n\u001b[0;32m     11\u001b[0m a,b \u001b[38;5;241m=\u001b[39m \u001b[38;5;241m10\u001b[39m,\u001b[38;5;241m0\u001b[39m\n\u001b[1;32m---> 12\u001b[0m \u001b[38;5;28;01mreturn\u001b[39;00m \u001b[43ma\u001b[49m\u001b[38;5;241;43m/\u001b[39;49m\u001b[43mb\u001b[49m\n",
      "\u001b[1;31mZeroDivisionError\u001b[0m: division by zero"
     ]
    }
   ],
   "source": [
    "f1()"
   ]
  },
  {
   "cell_type": "code",
   "execution_count": 20,
   "id": "1be08c0f",
   "metadata": {},
   "outputs": [],
   "source": [
    "def f1():\n",
    "    print(\"in f1\")\n",
    "    f2()\n",
    "\n",
    "def f2():\n",
    "    print(\"In f2\")\n",
    "    f3()\n",
    "\n",
    "def f3():\n",
    "    print(\"in f3\")\n",
    "    try:\n",
    "        a,b = 10,0\n",
    "        return a/b\n",
    "    except Exception as e:\n",
    "        print(e)\n",
    "    finally:\n",
    "        print(\"end\")"
   ]
  },
  {
   "cell_type": "code",
   "execution_count": 21,
   "id": "68bad7a4",
   "metadata": {},
   "outputs": [
    {
     "name": "stdout",
     "output_type": "stream",
     "text": [
      "in f1\n",
      "In f2\n",
      "in f3\n",
      "division by zero\n",
      "end\n"
     ]
    }
   ],
   "source": [
    "f1()"
   ]
  },
  {
   "cell_type": "code",
   "execution_count": 23,
   "id": "875ede83",
   "metadata": {},
   "outputs": [],
   "source": [
    "def f1():\n",
    "    print(\"in f1\")\n",
    "    f2()\n",
    "\n",
    "def f2():\n",
    "    try:\n",
    "        print(\" Caught\")\n",
    "    except Exception as e :\n",
    "        print(e)\n",
    "    print(\"In f2\")\n",
    "    f3()\n",
    "\n",
    "def f3():\n",
    "    print(\"in f3\")\n",
    "   "
   ]
  },
  {
   "cell_type": "code",
   "execution_count": 24,
   "id": "b11d55c3",
   "metadata": {},
   "outputs": [
    {
     "name": "stdout",
     "output_type": "stream",
     "text": [
      "in f1\n",
      " Caught\n",
      "In f2\n",
      "in f3\n"
     ]
    }
   ],
   "source": [
    "f1()"
   ]
  },
  {
   "cell_type": "markdown",
   "id": "6b9563d2",
   "metadata": {},
   "source": [
    "Catching the exception in the function f1 "
   ]
  },
  {
   "cell_type": "code",
   "execution_count": 31,
   "id": "9d7d5b4c",
   "metadata": {},
   "outputs": [],
   "source": [
    "def f1():\n",
    "    print(\"in f1\")\n",
    "    \n",
    "    try:\n",
    "#         f2()\n",
    "        print(\"Error Silenced \")\n",
    "    except Exception as e:\n",
    "        print(e, repr(e))\n",
    "\n",
    "    f2()\n",
    "\n",
    "def f2():\n",
    "    print(\"Within {}\".format(__name__))\n",
    "    f3()\n",
    "\n",
    "def f3():\n",
    "    print(\"in f3\")\n",
    "    msg = \"Gokul\"\n",
    "    msg[23].upper()\n",
    "    \n",
    "   "
   ]
  },
  {
   "cell_type": "code",
   "execution_count": 32,
   "id": "3b1f256c",
   "metadata": {},
   "outputs": [
    {
     "name": "stdout",
     "output_type": "stream",
     "text": [
      "in f1\n",
      "Error Silenced \n",
      "Within __main__\n",
      "in f3\n"
     ]
    },
    {
     "ename": "IndexError",
     "evalue": "string index out of range",
     "output_type": "error",
     "traceback": [
      "\u001b[1;31m---------------------------------------------------------------------------\u001b[0m",
      "\u001b[1;31mIndexError\u001b[0m                                Traceback (most recent call last)",
      "Input \u001b[1;32mIn [32]\u001b[0m, in \u001b[0;36m<cell line: 1>\u001b[1;34m()\u001b[0m\n\u001b[1;32m----> 1\u001b[0m \u001b[43mf1\u001b[49m\u001b[43m(\u001b[49m\u001b[43m)\u001b[49m\n",
      "Input \u001b[1;32mIn [31]\u001b[0m, in \u001b[0;36mf1\u001b[1;34m()\u001b[0m\n\u001b[0;32m      7\u001b[0m \u001b[38;5;28;01mexcept\u001b[39;00m \u001b[38;5;167;01mException\u001b[39;00m \u001b[38;5;28;01mas\u001b[39;00m e:\n\u001b[0;32m      8\u001b[0m     \u001b[38;5;28mprint\u001b[39m(e, \u001b[38;5;28mrepr\u001b[39m(e))\n\u001b[1;32m----> 9\u001b[0m \u001b[43mf2\u001b[49m\u001b[43m(\u001b[49m\u001b[43m)\u001b[49m\n",
      "Input \u001b[1;32mIn [31]\u001b[0m, in \u001b[0;36mf2\u001b[1;34m()\u001b[0m\n\u001b[0;32m     11\u001b[0m \u001b[38;5;28;01mdef\u001b[39;00m \u001b[38;5;21mf2\u001b[39m():\n\u001b[0;32m     12\u001b[0m     \u001b[38;5;28mprint\u001b[39m(\u001b[38;5;124m\"\u001b[39m\u001b[38;5;124mWithin \u001b[39m\u001b[38;5;132;01m{}\u001b[39;00m\u001b[38;5;124m\"\u001b[39m\u001b[38;5;241m.\u001b[39mformat(\u001b[38;5;18m__name__\u001b[39m))\n\u001b[1;32m---> 13\u001b[0m     \u001b[43mf3\u001b[49m\u001b[43m(\u001b[49m\u001b[43m)\u001b[49m\n",
      "Input \u001b[1;32mIn [31]\u001b[0m, in \u001b[0;36mf3\u001b[1;34m()\u001b[0m\n\u001b[0;32m     16\u001b[0m \u001b[38;5;28mprint\u001b[39m(\u001b[38;5;124m\"\u001b[39m\u001b[38;5;124min f3\u001b[39m\u001b[38;5;124m\"\u001b[39m)\n\u001b[0;32m     17\u001b[0m msg \u001b[38;5;241m=\u001b[39m \u001b[38;5;124m\"\u001b[39m\u001b[38;5;124mGokul\u001b[39m\u001b[38;5;124m\"\u001b[39m\n\u001b[1;32m---> 18\u001b[0m \u001b[43mmsg\u001b[49m\u001b[43m[\u001b[49m\u001b[38;5;241;43m23\u001b[39;49m\u001b[43m]\u001b[49m\u001b[38;5;241m.\u001b[39mupper()\n",
      "\u001b[1;31mIndexError\u001b[0m: string index out of range"
     ]
    }
   ],
   "source": [
    "f1()"
   ]
  },
  {
   "cell_type": "code",
   "execution_count": 33,
   "id": "b7f65c6a",
   "metadata": {},
   "outputs": [
    {
     "ename": "RuntimeError",
     "evalue": "No active exception to reraise",
     "output_type": "error",
     "traceback": [
      "\u001b[1;31m---------------------------------------------------------------------------\u001b[0m",
      "\u001b[1;31mRuntimeError\u001b[0m                              Traceback (most recent call last)",
      "Input \u001b[1;32mIn [33]\u001b[0m, in \u001b[0;36m<cell line: 1>\u001b[1;34m()\u001b[0m\n\u001b[1;32m----> 1\u001b[0m \u001b[38;5;28;01mraise\u001b[39;00m\n",
      "\u001b[1;31mRuntimeError\u001b[0m: No active exception to reraise"
     ]
    }
   ],
   "source": [
    "raise"
   ]
  },
  {
   "cell_type": "code",
   "execution_count": 34,
   "id": "14ae6ce0",
   "metadata": {},
   "outputs": [],
   "source": [
    "def f1():\n",
    "    print(\"in f1\")\n",
    "    f2()\n",
    "def f2():\n",
    "    print(\"in f2\")\n",
    "    f3()\n",
    "\n",
    "def f3():\n",
    "    print(\"In f3\")\n",
    "    raise IndexError(\"My Custom exception\")\n",
    "    "
   ]
  },
  {
   "cell_type": "code",
   "execution_count": 35,
   "id": "65a8fdd8",
   "metadata": {},
   "outputs": [
    {
     "name": "stdout",
     "output_type": "stream",
     "text": [
      "in f1\n",
      "in f2\n",
      "In f3\n"
     ]
    },
    {
     "ename": "IndexError",
     "evalue": "My Custom exception",
     "output_type": "error",
     "traceback": [
      "\u001b[1;31m---------------------------------------------------------------------------\u001b[0m",
      "\u001b[1;31mIndexError\u001b[0m                                Traceback (most recent call last)",
      "Input \u001b[1;32mIn [35]\u001b[0m, in \u001b[0;36m<cell line: 1>\u001b[1;34m()\u001b[0m\n\u001b[1;32m----> 1\u001b[0m \u001b[43mf1\u001b[49m\u001b[43m(\u001b[49m\u001b[43m)\u001b[49m\n",
      "Input \u001b[1;32mIn [34]\u001b[0m, in \u001b[0;36mf1\u001b[1;34m()\u001b[0m\n\u001b[0;32m      1\u001b[0m \u001b[38;5;28;01mdef\u001b[39;00m \u001b[38;5;21mf1\u001b[39m():\n\u001b[0;32m      2\u001b[0m     \u001b[38;5;28mprint\u001b[39m(\u001b[38;5;124m\"\u001b[39m\u001b[38;5;124min f1\u001b[39m\u001b[38;5;124m\"\u001b[39m)\n\u001b[1;32m----> 3\u001b[0m     \u001b[43mf2\u001b[49m\u001b[43m(\u001b[49m\u001b[43m)\u001b[49m\n",
      "Input \u001b[1;32mIn [34]\u001b[0m, in \u001b[0;36mf2\u001b[1;34m()\u001b[0m\n\u001b[0;32m      4\u001b[0m \u001b[38;5;28;01mdef\u001b[39;00m \u001b[38;5;21mf2\u001b[39m():\n\u001b[0;32m      5\u001b[0m     \u001b[38;5;28mprint\u001b[39m(\u001b[38;5;124m\"\u001b[39m\u001b[38;5;124min f2\u001b[39m\u001b[38;5;124m\"\u001b[39m)\n\u001b[1;32m----> 6\u001b[0m     \u001b[43mf3\u001b[49m\u001b[43m(\u001b[49m\u001b[43m)\u001b[49m\n",
      "Input \u001b[1;32mIn [34]\u001b[0m, in \u001b[0;36mf3\u001b[1;34m()\u001b[0m\n\u001b[0;32m      8\u001b[0m \u001b[38;5;28;01mdef\u001b[39;00m \u001b[38;5;21mf3\u001b[39m():\n\u001b[0;32m      9\u001b[0m     \u001b[38;5;28mprint\u001b[39m(\u001b[38;5;124m\"\u001b[39m\u001b[38;5;124mIn f3\u001b[39m\u001b[38;5;124m\"\u001b[39m)\n\u001b[1;32m---> 10\u001b[0m     \u001b[38;5;28;01mraise\u001b[39;00m \u001b[38;5;167;01mIndexError\u001b[39;00m(\u001b[38;5;124m\"\u001b[39m\u001b[38;5;124mMy Custom exception\u001b[39m\u001b[38;5;124m\"\u001b[39m)\n",
      "\u001b[1;31mIndexError\u001b[0m: My Custom exception"
     ]
    }
   ],
   "source": [
    "f1()"
   ]
  },
  {
   "cell_type": "code",
   "execution_count": 36,
   "id": "3b730970",
   "metadata": {},
   "outputs": [],
   "source": [
    "def f1():\n",
    "    print(\"in f1\")\n",
    "    f2()\n",
    "def f2():\n",
    "    try:\n",
    "        \n",
    "        print(\"in f2\")\n",
    "        f3()\n",
    "        print(\"Caught the exception\")\n",
    "    except Exception as e:\n",
    "        print(e)\n",
    "\n",
    "def f3():\n",
    "    print(\"In f3\")\n",
    "    raise IndexError(\"My Custom exception\")"
   ]
  },
  {
   "cell_type": "code",
   "execution_count": 37,
   "id": "c5e25f9b",
   "metadata": {},
   "outputs": [
    {
     "name": "stdout",
     "output_type": "stream",
     "text": [
      "in f1\n",
      "in f2\n",
      "In f3\n",
      "My Custom exception\n"
     ]
    }
   ],
   "source": [
    "f1()"
   ]
  },
  {
   "cell_type": "code",
   "execution_count": 1,
   "id": "a3a7ce44",
   "metadata": {},
   "outputs": [],
   "source": [
    "def f1():\n",
    "    try:\n",
    "        \n",
    "        print(\"in f1\")\n",
    "        f2()\n",
    "        print(\"Caught the exception\")\n",
    "    except Exception as e:\n",
    "        print(e)\n",
    "\n",
    "def f2():\n",
    "    print(\"in f2\")\n",
    "    f3()\n",
    "\n",
    "def f3():\n",
    "    print(\"In f3\")\n",
    "    raise IndexError(\"My Custom exception\")"
   ]
  },
  {
   "cell_type": "code",
   "execution_count": 2,
   "id": "a0ab9575",
   "metadata": {},
   "outputs": [
    {
     "name": "stdout",
     "output_type": "stream",
     "text": [
      "in f1\n",
      "in f2\n",
      "In f3\n",
      "My Custom exception\n"
     ]
    }
   ],
   "source": [
    "f1()"
   ]
  },
  {
   "cell_type": "code",
   "execution_count": 8,
   "id": "89a51c97",
   "metadata": {},
   "outputs": [],
   "source": [
    "def f1():\n",
    "    try:\n",
    "        print(\"in f1\")\n",
    "        print(\"Caught the exception\")\n",
    "        print(\"This codes get executed or not \")\n",
    "        f2()\n",
    "    except Exception as e:\n",
    "        print(e)\n",
    "\n",
    "def f2():\n",
    "    print(\"in f2\")\n",
    "    f3()\n",
    "\n",
    "def f3():\n",
    "    print(\"In f3\")\n",
    "    raise IndexError(\"My Custom exception\")"
   ]
  },
  {
   "cell_type": "code",
   "execution_count": 9,
   "id": "9be36da7",
   "metadata": {},
   "outputs": [
    {
     "name": "stdout",
     "output_type": "stream",
     "text": [
      "in f2\n",
      "In f3\n",
      "My Custom exception\n"
     ]
    }
   ],
   "source": [
    "f1()"
   ]
  },
  {
   "cell_type": "code",
   "execution_count": 12,
   "id": "5a9b6dbc",
   "metadata": {},
   "outputs": [],
   "source": [
    "def f1():\n",
    "    try:\n",
    "        print(\"in f1\")\n",
    "        print(\"Caught the exception\")\n",
    "        print(\"This codes get executed or not \")\n",
    "        f2()\n",
    "    except IndexError as e:\n",
    "        print(e)\n",
    "\n",
    "def f2():\n",
    "    print(\"in f2\")\n",
    "    f3()\n",
    "\n",
    "def f3():\n",
    "    print(\"In f3\")\n",
    "    raise IndexError(\"My Custom exception\")\n",
    "    raise NameError(\"My Custom name error\")"
   ]
  },
  {
   "cell_type": "code",
   "execution_count": 11,
   "id": "5e6b5b7c",
   "metadata": {},
   "outputs": [
    {
     "name": "stdout",
     "output_type": "stream",
     "text": [
      "in f1\n",
      "Caught the exception\n",
      "This codes get executed or not \n",
      "in f2\n",
      "In f3\n",
      "My Custom exception\n"
     ]
    }
   ],
   "source": [
    "f1()"
   ]
  },
  {
   "cell_type": "code",
   "execution_count": 17,
   "id": "7487cfed",
   "metadata": {},
   "outputs": [],
   "source": [
    "def f1():\n",
    "    try:\n",
    "        print(\"in f1\")\n",
    "        print(\"Caught the exception\")\n",
    "        print(\"This codes get executed or not \")\n",
    "        f2()\n",
    "    except IndexError as e:\n",
    "        print(e)\n",
    "\n",
    "def f2():\n",
    "    print(\"in f2\")\n",
    "    try:\n",
    "        print(\"Caught an exception\")\n",
    "        f3()\n",
    "    except NameError as e:\n",
    "        print(e)\n",
    "\n",
    "\n",
    "def f3():\n",
    "    print(\"In f3\")\n",
    "    raise IndexError(\"My Custom exception\")\n",
    "    raise NameError(\"My Custom name error\")"
   ]
  },
  {
   "cell_type": "code",
   "execution_count": 18,
   "id": "e84b10bc",
   "metadata": {},
   "outputs": [
    {
     "name": "stdout",
     "output_type": "stream",
     "text": [
      "in f1\n",
      "Caught the exception\n",
      "This codes get executed or not \n",
      "in f2\n",
      "Caught an exception\n",
      "In f3\n",
      "My Custom exception\n"
     ]
    }
   ],
   "source": [
    "f1()"
   ]
  },
  {
   "cell_type": "code",
   "execution_count": null,
   "id": "e833ec79",
   "metadata": {},
   "outputs": [],
   "source": []
  }
 ],
 "metadata": {
  "kernelspec": {
   "display_name": "Python 3 (ipykernel)",
   "language": "python",
   "name": "python3"
  },
  "language_info": {
   "codemirror_mode": {
    "name": "ipython",
    "version": 3
   },
   "file_extension": ".py",
   "mimetype": "text/x-python",
   "name": "python",
   "nbconvert_exporter": "python",
   "pygments_lexer": "ipython3",
   "version": "3.10.4"
  }
 },
 "nbformat": 4,
 "nbformat_minor": 5
}
