{
 "cells": [
  {
   "cell_type": "markdown",
   "id": "cf6922ba",
   "metadata": {},
   "source": [
    "# Packing and Unpacking \n",
    "***\n",
    "\n",
    "- Packing is the process of putting items into a container \n",
    "- Unpacking is doing the reverse of packing "
   ]
  },
  {
   "cell_type": "code",
   "execution_count": 1,
   "id": "23a3e5ac",
   "metadata": {},
   "outputs": [],
   "source": [
    "e1 = 'sunny'\n",
    "e2 = [1,2,3]\n",
    "e3 = 100,200,'sunny','python','version',3.10\n",
    "e4 = {\"first_name\":\"Rahul\",\"last_name\":\"Somani\"}"
   ]
  },
  {
   "cell_type": "code",
   "execution_count": 3,
   "id": "1a445a2d",
   "metadata": {},
   "outputs": [
    {
     "data": {
      "text/plain": [
       "('s', 1, 'python', 'Rahul')"
      ]
     },
     "execution_count": 3,
     "metadata": {},
     "output_type": "execute_result"
    }
   ],
   "source": [
    "e1[0], e2[0],e3[3],e4[\"first_name\"]"
   ]
  },
  {
   "cell_type": "code",
   "execution_count": 4,
   "id": "0a564458",
   "metadata": {},
   "outputs": [
    {
     "name": "stdout",
     "output_type": "stream",
     "text": [
      "s\n",
      "u\n",
      "n\n",
      "n\n",
      "y\n"
     ]
    }
   ],
   "source": [
    "for item in e1:\n",
    "    print(item)"
   ]
  },
  {
   "cell_type": "markdown",
   "id": "40bbc5c7",
   "metadata": {},
   "source": [
    "``The Reverse of Packing ``"
   ]
  },
  {
   "cell_type": "code",
   "execution_count": 5,
   "id": "9388b412",
   "metadata": {},
   "outputs": [
    {
     "data": {
      "text/plain": [
       "'sunny'"
      ]
     },
     "execution_count": 5,
     "metadata": {},
     "output_type": "execute_result"
    }
   ],
   "source": [
    "e1"
   ]
  },
  {
   "cell_type": "code",
   "execution_count": 6,
   "id": "7c2141f5",
   "metadata": {},
   "outputs": [],
   "source": [
    "a,b,c,d,e=e1 "
   ]
  },
  {
   "cell_type": "code",
   "execution_count": 7,
   "id": "d60e28b1",
   "metadata": {},
   "outputs": [
    {
     "data": {
      "text/plain": [
       "'s'"
      ]
     },
     "execution_count": 7,
     "metadata": {},
     "output_type": "execute_result"
    }
   ],
   "source": [
    "a"
   ]
  },
  {
   "cell_type": "code",
   "execution_count": 8,
   "id": "ccb1d127",
   "metadata": {},
   "outputs": [
    {
     "data": {
      "text/plain": [
       "'u'"
      ]
     },
     "execution_count": 8,
     "metadata": {},
     "output_type": "execute_result"
    }
   ],
   "source": [
    "b"
   ]
  },
  {
   "cell_type": "code",
   "execution_count": 9,
   "id": "2536effd",
   "metadata": {},
   "outputs": [
    {
     "data": {
      "text/plain": [
       "'n'"
      ]
     },
     "execution_count": 9,
     "metadata": {},
     "output_type": "execute_result"
    }
   ],
   "source": [
    "c"
   ]
  },
  {
   "cell_type": "code",
   "execution_count": 10,
   "id": "e479db56",
   "metadata": {},
   "outputs": [
    {
     "data": {
      "text/plain": [
       "'n'"
      ]
     },
     "execution_count": 10,
     "metadata": {},
     "output_type": "execute_result"
    }
   ],
   "source": [
    "d"
   ]
  },
  {
   "cell_type": "code",
   "execution_count": 11,
   "id": "4433fca4",
   "metadata": {},
   "outputs": [
    {
     "data": {
      "text/plain": [
       "'y'"
      ]
     },
     "execution_count": 11,
     "metadata": {},
     "output_type": "execute_result"
    }
   ],
   "source": [
    "e"
   ]
  },
  {
   "cell_type": "code",
   "execution_count": 13,
   "id": "34dce8b6",
   "metadata": {},
   "outputs": [
    {
     "data": {
      "text/plain": [
       "((100, 200, 'sunny', 'python', 'version', 3.1), 6)"
      ]
     },
     "execution_count": 13,
     "metadata": {},
     "output_type": "execute_result"
    }
   ],
   "source": [
    "e3, len(e3)"
   ]
  },
  {
   "cell_type": "code",
   "execution_count": 14,
   "id": "247861ee",
   "metadata": {},
   "outputs": [],
   "source": [
    "first,second,third,fourth,fifth,sixth = e3 "
   ]
  },
  {
   "cell_type": "code",
   "execution_count": 15,
   "id": "7d14c42a",
   "metadata": {},
   "outputs": [
    {
     "data": {
      "text/plain": [
       "(100, 3.1)"
      ]
     },
     "execution_count": 15,
     "metadata": {},
     "output_type": "execute_result"
    }
   ],
   "source": [
    "first, sixth "
   ]
  },
  {
   "cell_type": "markdown",
   "id": "4e286d28",
   "metadata": {},
   "source": [
    "# Some changes , introducing the *\n",
    "***"
   ]
  },
  {
   "cell_type": "code",
   "execution_count": 17,
   "id": "81b9835c",
   "metadata": {},
   "outputs": [],
   "source": [
    "l = [1,2,3,'python']"
   ]
  },
  {
   "cell_type": "code",
   "execution_count": 18,
   "id": "0e6b3c91",
   "metadata": {},
   "outputs": [
    {
     "ename": "ValueError",
     "evalue": "too many values to unpack (expected 3)",
     "output_type": "error",
     "traceback": [
      "\u001b[1;31m---------------------------------------------------------------------------\u001b[0m",
      "\u001b[1;31mValueError\u001b[0m                                Traceback (most recent call last)",
      "Input \u001b[1;32mIn [18]\u001b[0m, in \u001b[0;36m<cell line: 1>\u001b[1;34m()\u001b[0m\n\u001b[1;32m----> 1\u001b[0m a,b,c \u001b[38;5;241m=\u001b[39m l\n",
      "\u001b[1;31mValueError\u001b[0m: too many values to unpack (expected 3)"
     ]
    }
   ],
   "source": [
    "a,b,c = l "
   ]
  },
  {
   "cell_type": "code",
   "execution_count": 19,
   "id": "6a038f44",
   "metadata": {},
   "outputs": [],
   "source": [
    "a,c,*b = l "
   ]
  },
  {
   "cell_type": "code",
   "execution_count": 20,
   "id": "b03efa19",
   "metadata": {},
   "outputs": [
    {
     "data": {
      "text/plain": [
       "1"
      ]
     },
     "execution_count": 20,
     "metadata": {},
     "output_type": "execute_result"
    }
   ],
   "source": [
    "a"
   ]
  },
  {
   "cell_type": "code",
   "execution_count": 21,
   "id": "5710583f",
   "metadata": {},
   "outputs": [
    {
     "data": {
      "text/plain": [
       "2"
      ]
     },
     "execution_count": 21,
     "metadata": {},
     "output_type": "execute_result"
    }
   ],
   "source": [
    "c"
   ]
  },
  {
   "cell_type": "code",
   "execution_count": 22,
   "id": "ea155163",
   "metadata": {},
   "outputs": [
    {
     "data": {
      "text/plain": [
       "[3, 'python']"
      ]
     },
     "execution_count": 22,
     "metadata": {},
     "output_type": "execute_result"
    }
   ],
   "source": [
    "b"
   ]
  },
  {
   "cell_type": "markdown",
   "id": "c9dbd46c",
   "metadata": {},
   "source": [
    "``* in unpacking means anything left ``"
   ]
  },
  {
   "cell_type": "code",
   "execution_count": 23,
   "id": "4571873d",
   "metadata": {},
   "outputs": [],
   "source": [
    "a = 1,2,3,\"somani\",\"ujjwal\",23.56"
   ]
  },
  {
   "cell_type": "code",
   "execution_count": 24,
   "id": "0960dab9",
   "metadata": {},
   "outputs": [],
   "source": [
    "first,*second,third = a "
   ]
  },
  {
   "cell_type": "code",
   "execution_count": 26,
   "id": "daec4936",
   "metadata": {},
   "outputs": [
    {
     "data": {
      "text/plain": [
       "(1, 23.56)"
      ]
     },
     "execution_count": 26,
     "metadata": {},
     "output_type": "execute_result"
    }
   ],
   "source": [
    "first , third"
   ]
  },
  {
   "cell_type": "code",
   "execution_count": 27,
   "id": "30311436",
   "metadata": {},
   "outputs": [
    {
     "data": {
      "text/plain": [
       "[2, 3, 'somani', 'ujjwal']"
      ]
     },
     "execution_count": 27,
     "metadata": {},
     "output_type": "execute_result"
    }
   ],
   "source": [
    "second"
   ]
  },
  {
   "cell_type": "code",
   "execution_count": 28,
   "id": "f6f16b31",
   "metadata": {},
   "outputs": [],
   "source": [
    "l = [1,2,3,'python']\n",
    "a,*b,(*c,d)= l"
   ]
  },
  {
   "cell_type": "code",
   "execution_count": 29,
   "id": "5cdcaf95",
   "metadata": {},
   "outputs": [
    {
     "data": {
      "text/plain": [
       "1"
      ]
     },
     "execution_count": 29,
     "metadata": {},
     "output_type": "execute_result"
    }
   ],
   "source": [
    "a"
   ]
  },
  {
   "cell_type": "code",
   "execution_count": 30,
   "id": "a9cdbbe1",
   "metadata": {},
   "outputs": [
    {
     "data": {
      "text/plain": [
       "[2, 3]"
      ]
     },
     "execution_count": 30,
     "metadata": {},
     "output_type": "execute_result"
    }
   ],
   "source": [
    "b"
   ]
  },
  {
   "cell_type": "code",
   "execution_count": 31,
   "id": "4804adc5",
   "metadata": {},
   "outputs": [
    {
     "data": {
      "text/plain": [
       "'n'"
      ]
     },
     "execution_count": 31,
     "metadata": {},
     "output_type": "execute_result"
    }
   ],
   "source": [
    "d"
   ]
  },
  {
   "cell_type": "code",
   "execution_count": 32,
   "id": "3d416380",
   "metadata": {},
   "outputs": [
    {
     "data": {
      "text/plain": [
       "['p', 'y', 't', 'h', 'o']"
      ]
     },
     "execution_count": 32,
     "metadata": {},
     "output_type": "execute_result"
    }
   ],
   "source": [
    "c"
   ]
  },
  {
   "cell_type": "markdown",
   "id": "b7cada65",
   "metadata": {},
   "source": [
    "Given a list l = [1,2,3,4,5,6], write a code that assigns the first value of the list into a variable and \n",
    "the rest into another variable "
   ]
  },
  {
   "cell_type": "code",
   "execution_count": 33,
   "id": "93f975fa",
   "metadata": {},
   "outputs": [],
   "source": [
    "l = [1,2,3,4,5,6]\n",
    "a,b = l[0],l[1:]"
   ]
  },
  {
   "cell_type": "code",
   "execution_count": 34,
   "id": "98ca950d",
   "metadata": {},
   "outputs": [
    {
     "data": {
      "text/plain": [
       "1"
      ]
     },
     "execution_count": 34,
     "metadata": {},
     "output_type": "execute_result"
    }
   ],
   "source": [
    "a"
   ]
  },
  {
   "cell_type": "code",
   "execution_count": 35,
   "id": "ab597765",
   "metadata": {},
   "outputs": [
    {
     "data": {
      "text/plain": [
       "[2, 3, 4, 5, 6]"
      ]
     },
     "execution_count": 35,
     "metadata": {},
     "output_type": "execute_result"
    }
   ],
   "source": [
    "b"
   ]
  },
  {
   "cell_type": "code",
   "execution_count": null,
   "id": "503b50f6",
   "metadata": {},
   "outputs": [],
   "source": []
  }
 ],
 "metadata": {
  "kernelspec": {
   "display_name": "Python 3 (ipykernel)",
   "language": "python",
   "name": "python3"
  },
  "language_info": {
   "codemirror_mode": {
    "name": "ipython",
    "version": 3
   },
   "file_extension": ".py",
   "mimetype": "text/x-python",
   "name": "python",
   "nbconvert_exporter": "python",
   "pygments_lexer": "ipython3",
   "version": "3.10.4"
  }
 },
 "nbformat": 4,
 "nbformat_minor": 5
}
