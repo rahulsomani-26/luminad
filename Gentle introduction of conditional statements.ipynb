{
 "cells": [
  {
   "cell_type": "markdown",
   "id": "d119f61f",
   "metadata": {},
   "source": [
    "# Conditonal Statements \n",
    "***\n",
    "\n",
    "- Evaluates to either True of False \n",
    "\n",
    "- Returns a boolean value ( of the bool data type )\n",
    "\n",
    "\n"
   ]
  },
  {
   "cell_type": "code",
   "execution_count": 2,
   "id": "d9164064",
   "metadata": {},
   "outputs": [
    {
     "name": "stdout",
     "output_type": "stream",
     "text": [
      " Equal\n",
      "First statement\n",
      "Second statement\n"
     ]
    }
   ],
   "source": [
    "num = 10 \n",
    "if num == 10:\n",
    "    print(\" Equal\")\n",
    "    print(\"First statement\")\n",
    "    print(\"Second statement\")\n",
    "    \n",
    "else:\n",
    "    print(\" Not equal \")\n",
    "    "
   ]
  },
  {
   "cell_type": "code",
   "execution_count": 3,
   "id": "e820dde4",
   "metadata": {},
   "outputs": [
    {
     "data": {
      "text/plain": [
       "True"
      ]
     },
     "execution_count": 3,
     "metadata": {},
     "output_type": "execute_result"
    }
   ],
   "source": [
    "num = 5\n",
    "num == 5"
   ]
  },
  {
   "cell_type": "code",
   "execution_count": 4,
   "id": "5ffe0759",
   "metadata": {},
   "outputs": [
    {
     "data": {
      "text/plain": [
       "False"
      ]
     },
     "execution_count": 4,
     "metadata": {},
     "output_type": "execute_result"
    }
   ],
   "source": [
    "num < 5"
   ]
  },
  {
   "cell_type": "code",
   "execution_count": 5,
   "id": "dab22288",
   "metadata": {},
   "outputs": [
    {
     "data": {
      "text/plain": [
       "False"
      ]
     },
     "execution_count": 5,
     "metadata": {},
     "output_type": "execute_result"
    }
   ],
   "source": [
    "num > 5"
   ]
  },
  {
   "cell_type": "code",
   "execution_count": 6,
   "id": "de15401a",
   "metadata": {},
   "outputs": [
    {
     "data": {
      "text/plain": [
       "True"
      ]
     },
     "execution_count": 6,
     "metadata": {},
     "output_type": "execute_result"
    }
   ],
   "source": [
    "num <=5"
   ]
  },
  {
   "cell_type": "code",
   "execution_count": 7,
   "id": "f1f9606a",
   "metadata": {},
   "outputs": [
    {
     "data": {
      "text/plain": [
       "True"
      ]
     },
     "execution_count": 7,
     "metadata": {},
     "output_type": "execute_result"
    }
   ],
   "source": [
    "num >=5"
   ]
  },
  {
   "cell_type": "code",
   "execution_count": 8,
   "id": "98191225",
   "metadata": {},
   "outputs": [
    {
     "name": "stdout",
     "output_type": "stream",
     "text": [
      " It is equal\n"
     ]
    }
   ],
   "source": [
    "if 10:\n",
    "    print(\" It is equal\")\n",
    "else:\n",
    "    print(\" Not equal \")"
   ]
  },
  {
   "cell_type": "markdown",
   "id": "59b0478c",
   "metadata": {},
   "source": [
    "### Any non-zero value is considered to be True and any zero value is False \n",
    "***"
   ]
  },
  {
   "cell_type": "code",
   "execution_count": 9,
   "id": "fd251dfe",
   "metadata": {},
   "outputs": [
    {
     "name": "stdout",
     "output_type": "stream",
     "text": [
      " It is equal\n"
     ]
    }
   ],
   "source": [
    "if -100:\n",
    "    print(\" It is equal\")\n",
    "else:\n",
    "    print(\" Not equal \")"
   ]
  },
  {
   "cell_type": "code",
   "execution_count": 10,
   "id": "29418e54",
   "metadata": {},
   "outputs": [
    {
     "name": "stdout",
     "output_type": "stream",
     "text": [
      " Not equal \n"
     ]
    }
   ],
   "source": [
    "if 0:\n",
    "    print(\" It is equal\")\n",
    "else:\n",
    "    print(\" Not equal \")"
   ]
  },
  {
   "cell_type": "code",
   "execution_count": null,
   "id": "a8db8c9c",
   "metadata": {},
   "outputs": [],
   "source": []
  }
 ],
 "metadata": {
  "kernelspec": {
   "display_name": "Python 3 (ipykernel)",
   "language": "python",
   "name": "python3"
  },
  "language_info": {
   "codemirror_mode": {
    "name": "ipython",
    "version": 3
   },
   "file_extension": ".py",
   "mimetype": "text/x-python",
   "name": "python",
   "nbconvert_exporter": "python",
   "pygments_lexer": "ipython3",
   "version": "3.10.4"
  }
 },
 "nbformat": 4,
 "nbformat_minor": 5
}
