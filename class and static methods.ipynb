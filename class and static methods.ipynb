{
 "cells": [
  {
   "cell_type": "markdown",
   "id": "71dacad5",
   "metadata": {},
   "source": [
    "# Class and static methods \n",
    "***\n"
   ]
  },
  {
   "cell_type": "code",
   "execution_count": 2,
   "id": "d4b72c96",
   "metadata": {},
   "outputs": [],
   "source": [
    "class Person:\n",
    "    def hello(name='default'):\n",
    "        print(f' Hello {name}')\n",
    "    "
   ]
  },
  {
   "cell_type": "markdown",
   "id": "4e2e30ec",
   "metadata": {},
   "source": [
    "` A function within a class is normally known as a method. How it behaves ( as a function or as a method )\n",
    "depends on how the function is accessed ; from the class , or from the instance `"
   ]
  },
  {
   "cell_type": "code",
   "execution_count": 3,
   "id": "4acf8be9",
   "metadata": {},
   "outputs": [
    {
     "name": "stdout",
     "output_type": "stream",
     "text": [
      " Hello default\n"
     ]
    }
   ],
   "source": [
    "Person.hello()"
   ]
  },
  {
   "cell_type": "code",
   "execution_count": 4,
   "id": "7a2ab737",
   "metadata": {},
   "outputs": [
    {
     "name": "stdout",
     "output_type": "stream",
     "text": [
      " Hello Ajay\n"
     ]
    }
   ],
   "source": [
    "Person.hello('Ajay')"
   ]
  },
  {
   "cell_type": "markdown",
   "id": "880c7a71",
   "metadata": {},
   "source": [
    "In the above case ` hello ` is just a regular function "
   ]
  },
  {
   "cell_type": "code",
   "execution_count": 5,
   "id": "8c39f8ff",
   "metadata": {},
   "outputs": [
    {
     "data": {
      "text/plain": [
       "<function __main__.Person.hello(name='default')>"
      ]
     },
     "execution_count": 5,
     "metadata": {},
     "output_type": "execute_result"
    }
   ],
   "source": [
    "Person.hello"
   ]
  },
  {
   "cell_type": "markdown",
   "id": "545cd77f",
   "metadata": {},
   "source": [
    "Now lets create an `instance` of the class `Person`"
   ]
  },
  {
   "cell_type": "code",
   "execution_count": 6,
   "id": "785367fd",
   "metadata": {},
   "outputs": [],
   "source": [
    "p = Person()"
   ]
  },
  {
   "cell_type": "code",
   "execution_count": 7,
   "id": "7fb24408",
   "metadata": {},
   "outputs": [
    {
     "data": {
      "text/plain": [
       "<bound method Person.hello of <__main__.Person object at 0x00000207E788B4C0>>"
      ]
     },
     "execution_count": 7,
     "metadata": {},
     "output_type": "execute_result"
    }
   ],
   "source": [
    "p.hello"
   ]
  },
  {
   "cell_type": "code",
   "execution_count": 8,
   "id": "6c4e0aff",
   "metadata": {},
   "outputs": [
    {
     "name": "stdout",
     "output_type": "stream",
     "text": [
      " Hello <__main__.Person object at 0x00000207E788B4C0>\n"
     ]
    }
   ],
   "source": [
    "p.hello()"
   ]
  },
  {
   "cell_type": "code",
   "execution_count": 9,
   "id": "99784e94",
   "metadata": {},
   "outputs": [
    {
     "data": {
      "text/plain": [
       "'0x207e788b4c0'"
      ]
     },
     "execution_count": 9,
     "metadata": {},
     "output_type": "execute_result"
    }
   ],
   "source": [
    "hex(id(p))"
   ]
  },
  {
   "cell_type": "code",
   "execution_count": 10,
   "id": "fac0eb59",
   "metadata": {},
   "outputs": [],
   "source": [
    "class MyClass:\n",
    "    \n",
    "    def hello():\n",
    "        print('hello ')\n",
    "        \n",
    "    def instance_hello(val):\n",
    "        print('Hello from {}'.format(val))\n",
    "        \n",
    "    @classmethod\n",
    "    def class_hello(val):\n",
    "        print('Hello from {}'.format(val))\n",
    "        "
   ]
  },
  {
   "cell_type": "code",
   "execution_count": 11,
   "id": "3759f053",
   "metadata": {},
   "outputs": [
    {
     "data": {
      "text/plain": [
       "mappingproxy({'__module__': '__main__',\n",
       "              'hello': <function __main__.MyClass.hello()>,\n",
       "              'instance_hello': <function __main__.MyClass.instance_hello(val)>,\n",
       "              'class_hello': <classmethod(<function MyClass.class_hello at 0x00000207E7885510>)>,\n",
       "              '__dict__': <attribute '__dict__' of 'MyClass' objects>,\n",
       "              '__weakref__': <attribute '__weakref__' of 'MyClass' objects>,\n",
       "              '__doc__': None})"
      ]
     },
     "execution_count": 11,
     "metadata": {},
     "output_type": "execute_result"
    }
   ],
   "source": [
    "MyClass.__dict__"
   ]
  },
  {
   "cell_type": "code",
   "execution_count": 12,
   "id": "23205473",
   "metadata": {},
   "outputs": [],
   "source": [
    "m = MyClass()"
   ]
  },
  {
   "cell_type": "code",
   "execution_count": 13,
   "id": "ccb590c4",
   "metadata": {},
   "outputs": [
    {
     "name": "stdout",
     "output_type": "stream",
     "text": [
      "hello \n"
     ]
    }
   ],
   "source": [
    "MyClass.hello()"
   ]
  },
  {
   "cell_type": "code",
   "execution_count": 14,
   "id": "b10138f2",
   "metadata": {},
   "outputs": [
    {
     "ename": "TypeError",
     "evalue": "MyClass.hello() takes 0 positional arguments but 1 was given",
     "output_type": "error",
     "traceback": [
      "\u001b[1;31m---------------------------------------------------------------------------\u001b[0m",
      "\u001b[1;31mTypeError\u001b[0m                                 Traceback (most recent call last)",
      "Input \u001b[1;32mIn [14]\u001b[0m, in \u001b[0;36m<cell line: 1>\u001b[1;34m()\u001b[0m\n\u001b[1;32m----> 1\u001b[0m \u001b[43mm\u001b[49m\u001b[38;5;241;43m.\u001b[39;49m\u001b[43mhello\u001b[49m\u001b[43m(\u001b[49m\u001b[43m)\u001b[49m\n",
      "\u001b[1;31mTypeError\u001b[0m: MyClass.hello() takes 0 positional arguments but 1 was given"
     ]
    }
   ],
   "source": [
    "m.hello()"
   ]
  },
  {
   "cell_type": "code",
   "execution_count": 15,
   "id": "81a3a078",
   "metadata": {},
   "outputs": [
    {
     "name": "stdout",
     "output_type": "stream",
     "text": [
      "TypeError('MyClass.hello() takes 0 positional arguments but 1 was given')\n"
     ]
    }
   ],
   "source": [
    "try:\n",
    "    m.hello()\n",
    "except Exception as e:\n",
    "    print(repr(e))"
   ]
  },
  {
   "cell_type": "code",
   "execution_count": 16,
   "id": "9abc7903",
   "metadata": {},
   "outputs": [
    {
     "name": "stdout",
     "output_type": "stream",
     "text": [
      "Hello from <__main__.MyClass object at 0x00000207E788BDF0>\n"
     ]
    }
   ],
   "source": [
    "m.instance_hello()"
   ]
  },
  {
   "cell_type": "code",
   "execution_count": 17,
   "id": "574ea4f6",
   "metadata": {},
   "outputs": [
    {
     "name": "stdout",
     "output_type": "stream",
     "text": [
      "Hello from <__main__.MyClass object at 0x00000207E788BDF0>\n"
     ]
    }
   ],
   "source": [
    "MyClass.instance_hello(m)"
   ]
  },
  {
   "cell_type": "code",
   "execution_count": 18,
   "id": "9a45f09b",
   "metadata": {},
   "outputs": [
    {
     "name": "stdout",
     "output_type": "stream",
     "text": [
      "MyClass.instance_hello() missing 1 required positional argument: 'val'\n"
     ]
    }
   ],
   "source": [
    "try:\n",
    "    MyClass.instance_hello()\n",
    "except Exception as e :\n",
    "    print(str(e))"
   ]
  },
  {
   "cell_type": "markdown",
   "id": "1739fee6",
   "metadata": {},
   "source": [
    "Q1. Write a class Employee. \n",
    "***\n",
    "    - Initialize it with name,age,profession.\n",
    "        write methods to get details about the\n",
    "            - Employee and methods to set/change the attribute of the Employee\n",
    "            - It should have functionality to write the attributes in a file \n",
    "            - It should also have seperate method to write the attributes to a database \n",
    "\n"
   ]
  },
  {
   "cell_type": "code",
   "execution_count": 31,
   "id": "1736cf68",
   "metadata": {},
   "outputs": [
    {
     "ename": "SyntaxError",
     "evalue": "unterminated string literal (detected at line 13) (4213130880.py, line 13)",
     "output_type": "error",
     "traceback": [
      "\u001b[1;36m  Input \u001b[1;32mIn [31]\u001b[1;36m\u001b[0m\n\u001b[1;33m    self.cur.execute('create table if not exists EMP(name text not null,age integer not null,profession text not null)')'\u001b[0m\n\u001b[1;37m                                                                                                                        ^\u001b[0m\n\u001b[1;31mSyntaxError\u001b[0m\u001b[1;31m:\u001b[0m unterminated string literal (detected at line 13)\n"
     ]
    }
   ],
   "source": [
    "import sqlite3 as sq\n",
    "\n",
    "class Employee:\n",
    "    def __init__(self,name,age,profession):\n",
    "        self.name = name\n",
    "        self.age = age\n",
    "        self.profession = profession\n",
    "        # Initialize the database \n",
    "        self.con = sq.connect('emp.sqlite3')\n",
    "        print(\"Error in establishing connection {}\".format(e))\n",
    "        self.cur = self.con.cursor()\n",
    "        # Create table\n",
    "        self.cur.execute('create table if not exists EMP(name text not null,age integer not null,profession text not null)')'\n",
    "        \n",
    "    def get_details(self):\n",
    "        return f'Hi {self.name} you are {self.age} years old and profession = {self.profession}'\n",
    "    \n",
    "    def set_profession(self,profession):\n",
    "        self.profession = profession \n",
    "        # setattr(self,self.profession)\n",
    "    \n",
    "    def update_age(self,age):\n",
    "        self.age = age\n",
    "    \n",
    "    def write_to_file(self):\n",
    "        with open('emp.data','a') as f:\n",
    "            f.write(self.name,self.age,self.profession)\n",
    "    \n",
    "    def write_to_db(self):\n",
    "        try:\n",
    "            self.cur.execute('''insert into EMP values(?,?,?)''',(self.name,self.age,self.profession))\n",
    "        except Exception as e:\n",
    "            print(f'Error in writing to db : {e}')\n",
    "        finally:\n",
    "            self.con.commit()\n",
    "            self.con.close()\n",
    "        \n",
    "      \n",
    "    \n",
    "    "
   ]
  },
  {
   "cell_type": "code",
   "execution_count": 20,
   "id": "2e48906c",
   "metadata": {},
   "outputs": [],
   "source": [
    "# Gokul's code \n",
    "class Employee:\n",
    "    def __init__(self,name,age,profession):\n",
    "        self.name =name\n",
    "        self.age =age\n",
    "        self.profession = profession\n",
    "   \n",
    "    def get_detail(self):\n",
    "        print(\"name is {} and age is {} then my profession is {}\".format(self.name,self.age,self.profession))\n",
    "        \n",
    "    def set_profession(self,profession):\n",
    "        self.profession = profession\n",
    "        \n",
    "    def set_age(self,age):\n",
    "        self.age =age\n",
    "        \n",
    "    def set_name(self,name):\n",
    "        self.name =name"
   ]
  },
  {
   "cell_type": "code",
   "execution_count": 21,
   "id": "1824f20f",
   "metadata": {},
   "outputs": [],
   "source": [
    "emp = Employee('gokul',23,'se')"
   ]
  },
  {
   "cell_type": "code",
   "execution_count": 22,
   "id": "083158c6",
   "metadata": {},
   "outputs": [
    {
     "data": {
      "text/plain": [
       "{'name': 'gokul', 'age': 23, 'profession': 'se'}"
      ]
     },
     "execution_count": 22,
     "metadata": {},
     "output_type": "execute_result"
    }
   ],
   "source": [
    "emp.__dict__"
   ]
  },
  {
   "cell_type": "code",
   "execution_count": 24,
   "id": "85c5462b",
   "metadata": {},
   "outputs": [
    {
     "name": "stdout",
     "output_type": "stream",
     "text": [
      "name is gokul and age is 23 then my profession is se\n"
     ]
    }
   ],
   "source": [
    "emp.get_detail()"
   ]
  },
  {
   "cell_type": "code",
   "execution_count": 25,
   "id": "b7152f47",
   "metadata": {},
   "outputs": [],
   "source": [
    "emp.set_profession('senior software developer')"
   ]
  },
  {
   "cell_type": "code",
   "execution_count": 26,
   "id": "cf1512bb",
   "metadata": {},
   "outputs": [
    {
     "data": {
      "text/plain": [
       "{'name': 'gokul', 'age': 23, 'profession': 'senior software developer'}"
      ]
     },
     "execution_count": 26,
     "metadata": {},
     "output_type": "execute_result"
    }
   ],
   "source": [
    "emp.__dict__"
   ]
  },
  {
   "cell_type": "markdown",
   "id": "2dcd9fc4",
   "metadata": {},
   "source": [
    "MyCode "
   ]
  },
  {
   "cell_type": "code",
   "execution_count": 53,
   "id": "87cbec7c",
   "metadata": {},
   "outputs": [],
   "source": [
    "import sqlite3 as sq\n",
    "\n",
    "class Employee:\n",
    "    def __init__(self,name,age,profession):\n",
    "        self.name = name\n",
    "        self.age = age\n",
    "        self.profession = profession\n",
    "        # Initialize the database \n",
    "        self.con = sq.connect('emp.sqlite3')\n",
    "        self.cur = self.con.cursor()\n",
    "        # Create table\n",
    "#         self.cur.execute('create table if not exists EMP(name text not null,age integer not null,profession text not null)')'\n",
    "        self.cur.execute('create table if not exists EMP(name text,age int,profession text)')\n",
    "    def get_details(self):\n",
    "        return f'Hi {self.name} you are {self.age} years old and profession = {self.profession}'\n",
    "    \n",
    "    def set_profession(self,profession):\n",
    "        self.profession = profession \n",
    "        # setattr(self,self.profession)\n",
    "    \n",
    "    def update_age(self,age):\n",
    "        self.age = age\n",
    "    \n",
    "    def write_to_file(self):\n",
    "        with open('emp.data','a') as f:\n",
    "            f.write(self.name)\n",
    "            f.write(str(self.age))\n",
    "            f.write(self.profession)\n",
    "    \n",
    "    def write_to_db(self):\n",
    "        try:\n",
    "            self.cur.execute('''insert into EMP values(?,?,?)''',(self.name,self.age,self.profession))\n",
    "            print('Data written successfully')\n",
    "        except Exception as e:\n",
    "            print(f'Error in writing to db : {e}')\n",
    "        finally:\n",
    "            self.con.commit()\n",
    "            self.con.close()\n",
    "        \n",
    "      \n",
    "    \n",
    "    "
   ]
  },
  {
   "cell_type": "code",
   "execution_count": 47,
   "id": "ebc223ef",
   "metadata": {},
   "outputs": [],
   "source": [
    "emp = Employee('Rahul',42,'Trainer')"
   ]
  },
  {
   "cell_type": "code",
   "execution_count": 48,
   "id": "31ce2cc6",
   "metadata": {},
   "outputs": [
    {
     "data": {
      "text/plain": [
       "{'name': 'Rahul',\n",
       " 'age': 42,\n",
       " 'profession': 'Trainer',\n",
       " 'con': <sqlite3.Connection at 0x207e9372840>,\n",
       " 'cur': <sqlite3.Cursor at 0x207e9455c40>}"
      ]
     },
     "execution_count": 48,
     "metadata": {},
     "output_type": "execute_result"
    }
   ],
   "source": [
    "emp.__dict__"
   ]
  },
  {
   "cell_type": "code",
   "execution_count": 49,
   "id": "0103f5f6",
   "metadata": {},
   "outputs": [
    {
     "data": {
      "text/plain": [
       "<bound method Employee.write_to_file of <__main__.Employee object at 0x00000207E79BF8E0>>"
      ]
     },
     "execution_count": 49,
     "metadata": {},
     "output_type": "execute_result"
    }
   ],
   "source": [
    "emp.write_to_file"
   ]
  },
  {
   "cell_type": "code",
   "execution_count": 50,
   "id": "f1e27ce8",
   "metadata": {},
   "outputs": [],
   "source": [
    "emp.write_to_file()"
   ]
  },
  {
   "cell_type": "code",
   "execution_count": 51,
   "id": "d986bde3",
   "metadata": {},
   "outputs": [
    {
     "data": {
      "text/plain": [
       "<bound method Employee.write_to_db of <__main__.Employee object at 0x00000207E79BF8E0>>"
      ]
     },
     "execution_count": 51,
     "metadata": {},
     "output_type": "execute_result"
    }
   ],
   "source": [
    "emp.write_to_db"
   ]
  },
  {
   "cell_type": "code",
   "execution_count": 52,
   "id": "2867c8fc",
   "metadata": {},
   "outputs": [],
   "source": [
    "emp.write_to_db()"
   ]
  },
  {
   "cell_type": "code",
   "execution_count": 54,
   "id": "e8879e64",
   "metadata": {},
   "outputs": [],
   "source": [
    "emp2 = Employee('Ajay',24,'Software developer')"
   ]
  },
  {
   "cell_type": "code",
   "execution_count": 55,
   "id": "087ff549",
   "metadata": {},
   "outputs": [
    {
     "data": {
      "text/plain": [
       "{'name': 'Ajay',\n",
       " 'age': 24,\n",
       " 'profession': 'Software developer',\n",
       " 'con': <sqlite3.Connection at 0x207e9372940>,\n",
       " 'cur': <sqlite3.Cursor at 0x207e94d1ac0>}"
      ]
     },
     "execution_count": 55,
     "metadata": {},
     "output_type": "execute_result"
    }
   ],
   "source": [
    "emp2.__dict__"
   ]
  },
  {
   "cell_type": "code",
   "execution_count": 56,
   "id": "c7c11462",
   "metadata": {},
   "outputs": [],
   "source": [
    "emp2.write_to_file()"
   ]
  },
  {
   "cell_type": "code",
   "execution_count": 57,
   "id": "79ba72b6",
   "metadata": {},
   "outputs": [
    {
     "name": "stdout",
     "output_type": "stream",
     "text": [
      "Data written successfully\n"
     ]
    }
   ],
   "source": [
    "emp2.write_to_db()"
   ]
  },
  {
   "cell_type": "code",
   "execution_count": 58,
   "id": "ce2fdde0",
   "metadata": {},
   "outputs": [],
   "source": [
    "class MyClass:\n",
    "    # self refers to the object \n",
    "    # cls refers to the class\n",
    "    \n",
    "    def instance_hello(self):\n",
    "        print(f'Instance method bound to {self}')\n",
    "    \n",
    "    @classmethod\n",
    "    def class_hello(cls):\n",
    "        print(f'Class method bound to {cls}')\n",
    "        \n",
    "    @staticmethod\n",
    "    def static_hello():\n",
    "        print('Static method not bound to anything ')"
   ]
  },
  {
   "cell_type": "code",
   "execution_count": 59,
   "id": "f0959cf3",
   "metadata": {},
   "outputs": [],
   "source": [
    "m = MyClass()"
   ]
  },
  {
   "cell_type": "code",
   "execution_count": 60,
   "id": "d5fb8d3b",
   "metadata": {},
   "outputs": [
    {
     "name": "stdout",
     "output_type": "stream",
     "text": [
      "Instance method bound to <__main__.MyClass object at 0x00000207E79BEE30>\n"
     ]
    }
   ],
   "source": [
    "m.instance_hello()"
   ]
  },
  {
   "cell_type": "code",
   "execution_count": 61,
   "id": "c2fea581",
   "metadata": {},
   "outputs": [
    {
     "name": "stdout",
     "output_type": "stream",
     "text": [
      "Instance method bound to <__main__.MyClass object at 0x00000207E79BEE30>\n"
     ]
    }
   ],
   "source": [
    "MyClass.instance_hello(m)"
   ]
  },
  {
   "cell_type": "code",
   "execution_count": 62,
   "id": "d2076535",
   "metadata": {},
   "outputs": [
    {
     "name": "stdout",
     "output_type": "stream",
     "text": [
      "Class method bound to <class '__main__.MyClass'>\n"
     ]
    }
   ],
   "source": [
    "# calling the class method \n",
    "MyClass.class_hello()"
   ]
  },
  {
   "cell_type": "code",
   "execution_count": 64,
   "id": "81a8d156",
   "metadata": {},
   "outputs": [
    {
     "name": "stdout",
     "output_type": "stream",
     "text": [
      "Static method not bound to anything \n"
     ]
    }
   ],
   "source": [
    "m.static_hello()"
   ]
  },
  {
   "cell_type": "code",
   "execution_count": 65,
   "id": "a934fd43",
   "metadata": {},
   "outputs": [
    {
     "name": "stdout",
     "output_type": "stream",
     "text": [
      "Static method not bound to anything \n"
     ]
    }
   ],
   "source": [
    "MyClass.static_hello()"
   ]
  },
  {
   "cell_type": "code",
   "execution_count": null,
   "id": "fe107240",
   "metadata": {},
   "outputs": [],
   "source": []
  }
 ],
 "metadata": {
  "kernelspec": {
   "display_name": "Python 3 (ipykernel)",
   "language": "python",
   "name": "python3"
  },
  "language_info": {
   "codemirror_mode": {
    "name": "ipython",
    "version": 3
   },
   "file_extension": ".py",
   "mimetype": "text/x-python",
   "name": "python",
   "nbconvert_exporter": "python",
   "pygments_lexer": "ipython3",
   "version": "3.10.4"
  }
 },
 "nbformat": 4,
 "nbformat_minor": 5
}
