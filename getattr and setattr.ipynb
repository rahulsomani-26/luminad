{
 "cells": [
  {
   "cell_type": "markdown",
   "id": "ff062a6a",
   "metadata": {},
   "source": [
    "# OOPS concepts in details "
   ]
  },
  {
   "cell_type": "code",
   "execution_count": 3,
   "id": "59115797",
   "metadata": {},
   "outputs": [],
   "source": [
    "class Animal:\n",
    "    pass\n",
    "    "
   ]
  },
  {
   "cell_type": "code",
   "execution_count": 4,
   "id": "9b766ee0",
   "metadata": {},
   "outputs": [
    {
     "data": {
      "text/plain": [
       "type"
      ]
     },
     "execution_count": 4,
     "metadata": {},
     "output_type": "execute_result"
    }
   ],
   "source": [
    "type(Animal)"
   ]
  },
  {
   "cell_type": "code",
   "execution_count": 5,
   "id": "16782f8a",
   "metadata": {},
   "outputs": [
    {
     "data": {
      "text/plain": [
       "'Animal'"
      ]
     },
     "execution_count": 5,
     "metadata": {},
     "output_type": "execute_result"
    }
   ],
   "source": [
    "Animal.__name__"
   ]
  },
  {
   "cell_type": "code",
   "execution_count": 6,
   "id": "fd0154e3",
   "metadata": {},
   "outputs": [],
   "source": [
    "a = Animal()"
   ]
  },
  {
   "cell_type": "code",
   "execution_count": 7,
   "id": "025b1f62",
   "metadata": {},
   "outputs": [
    {
     "data": {
      "text/plain": [
       "(<__main__.Animal at 0x25e166fbac0>, __main__.Animal, __main__.Animal)"
      ]
     },
     "execution_count": 7,
     "metadata": {},
     "output_type": "execute_result"
    }
   ],
   "source": [
    "a, type(a), a.__class__"
   ]
  },
  {
   "cell_type": "code",
   "execution_count": 8,
   "id": "fbe68dd2",
   "metadata": {},
   "outputs": [
    {
     "data": {
      "text/plain": [
       "True"
      ]
     },
     "execution_count": 8,
     "metadata": {},
     "output_type": "execute_result"
    }
   ],
   "source": [
    "type(a) is a.__class__"
   ]
  },
  {
   "cell_type": "code",
   "execution_count": 9,
   "id": "70019569",
   "metadata": {},
   "outputs": [
    {
     "data": {
      "text/plain": [
       "<function isinstance(obj, class_or_tuple, /)>"
      ]
     },
     "execution_count": 9,
     "metadata": {},
     "output_type": "execute_result"
    }
   ],
   "source": [
    "isinstance"
   ]
  },
  {
   "cell_type": "code",
   "execution_count": 10,
   "id": "f2388e2a",
   "metadata": {},
   "outputs": [
    {
     "data": {
      "text/plain": [
       "True"
      ]
     },
     "execution_count": 10,
     "metadata": {},
     "output_type": "execute_result"
    }
   ],
   "source": [
    "isinstance(a,Animal)"
   ]
  },
  {
   "cell_type": "code",
   "execution_count": 11,
   "id": "5257e071",
   "metadata": {},
   "outputs": [
    {
     "data": {
      "text/plain": [
       "False"
      ]
     },
     "execution_count": 11,
     "metadata": {},
     "output_type": "execute_result"
    }
   ],
   "source": [
    "isinstance(a,int)"
   ]
  },
  {
   "cell_type": "code",
   "execution_count": 12,
   "id": "92bff2f8",
   "metadata": {},
   "outputs": [
    {
     "data": {
      "text/plain": [
       "'Return whether an object is an instance of a class or of a subclass thereof.\\n\\nA tuple, as in ``isinstance(x, (A, B, ...))``, may be given as the target to\\ncheck against. This is equivalent to ``isinstance(x, A) or isinstance(x, B)\\nor ...`` etc.'"
      ]
     },
     "execution_count": 12,
     "metadata": {},
     "output_type": "execute_result"
    }
   ],
   "source": [
    "isinstance.__doc__"
   ]
  },
  {
   "cell_type": "markdown",
   "id": "353086e7",
   "metadata": {},
   "source": [
    "# Getting and setting attributes of a class "
   ]
  },
  {
   "cell_type": "code",
   "execution_count": 13,
   "id": "8a02b5c3",
   "metadata": {},
   "outputs": [],
   "source": [
    "class MyClass:\n",
    "    name = 'Rahul'\n",
    "    age = 42"
   ]
  },
  {
   "cell_type": "code",
   "execution_count": 15,
   "id": "61119b88",
   "metadata": {},
   "outputs": [
    {
     "data": {
      "text/plain": [
       "mappingproxy({'__module__': '__main__',\n",
       "              'name': 'Rahul',\n",
       "              'age': 42,\n",
       "              '__dict__': <attribute '__dict__' of 'MyClass' objects>,\n",
       "              '__weakref__': <attribute '__weakref__' of 'MyClass' objects>,\n",
       "              '__doc__': None})"
      ]
     },
     "execution_count": 15,
     "metadata": {},
     "output_type": "execute_result"
    }
   ],
   "source": [
    "MyClass.__dict__"
   ]
  },
  {
   "cell_type": "code",
   "execution_count": 16,
   "id": "32dec4a7",
   "metadata": {},
   "outputs": [],
   "source": [
    "obj1 = MyClass()\n",
    "obj2 = MyClass()"
   ]
  },
  {
   "cell_type": "code",
   "execution_count": 17,
   "id": "677fbb56",
   "metadata": {},
   "outputs": [
    {
     "data": {
      "text/plain": [
       "('Rahul', 'Rahul')"
      ]
     },
     "execution_count": 17,
     "metadata": {},
     "output_type": "execute_result"
    }
   ],
   "source": [
    "obj1.name, obj2.name"
   ]
  },
  {
   "cell_type": "code",
   "execution_count": 19,
   "id": "ab543b7b",
   "metadata": {},
   "outputs": [
    {
     "data": {
      "text/plain": [
       "(42, 42)"
      ]
     },
     "execution_count": 19,
     "metadata": {},
     "output_type": "execute_result"
    }
   ],
   "source": [
    "obj1.age, obj2.age"
   ]
  },
  {
   "cell_type": "code",
   "execution_count": 20,
   "id": "a32b2170",
   "metadata": {},
   "outputs": [
    {
     "data": {
      "text/plain": [
       "<function getattr>"
      ]
     },
     "execution_count": 20,
     "metadata": {},
     "output_type": "execute_result"
    }
   ],
   "source": [
    "getattr"
   ]
  },
  {
   "cell_type": "code",
   "execution_count": 21,
   "id": "7de668af",
   "metadata": {},
   "outputs": [
    {
     "name": "stdout",
     "output_type": "stream",
     "text": [
      "Help on built-in function getattr in module builtins:\n",
      "\n",
      "getattr(...)\n",
      "    getattr(object, name[, default]) -> value\n",
      "    \n",
      "    Get a named attribute from an object; getattr(x, 'y') is equivalent to x.y.\n",
      "    When a default argument is given, it is returned when the attribute doesn't\n",
      "    exist; without it, an exception is raised in that case.\n",
      "\n"
     ]
    }
   ],
   "source": [
    "help(getattr)"
   ]
  },
  {
   "cell_type": "code",
   "execution_count": 22,
   "id": "b34397ad",
   "metadata": {},
   "outputs": [
    {
     "data": {
      "text/plain": [
       "\"getattr(object, name[, default]) -> value\\n\\nGet a named attribute from an object; getattr(x, 'y') is equivalent to x.y.\\nWhen a default argument is given, it is returned when the attribute doesn't\\nexist; without it, an exception is raised in that case.\""
      ]
     },
     "execution_count": 22,
     "metadata": {},
     "output_type": "execute_result"
    }
   ],
   "source": [
    "getattr.__doc__"
   ]
  },
  {
   "cell_type": "code",
   "execution_count": 23,
   "id": "66d15b4e",
   "metadata": {},
   "outputs": [
    {
     "data": {
      "text/plain": [
       "'Rahul'"
      ]
     },
     "execution_count": 23,
     "metadata": {},
     "output_type": "execute_result"
    }
   ],
   "source": [
    "obj1.name"
   ]
  },
  {
   "cell_type": "code",
   "execution_count": 25,
   "id": "b2533214",
   "metadata": {},
   "outputs": [
    {
     "data": {
      "text/plain": [
       "'Rahul'"
      ]
     },
     "execution_count": 25,
     "metadata": {},
     "output_type": "execute_result"
    }
   ],
   "source": [
    "getattr(obj1,'name')"
   ]
  },
  {
   "cell_type": "code",
   "execution_count": 26,
   "id": "0ac273ce",
   "metadata": {},
   "outputs": [
    {
     "data": {
      "text/plain": [
       "42"
      ]
     },
     "execution_count": 26,
     "metadata": {},
     "output_type": "execute_result"
    }
   ],
   "source": [
    "getattr(obj2,'age')"
   ]
  },
  {
   "cell_type": "code",
   "execution_count": 27,
   "id": "9e3d506b",
   "metadata": {},
   "outputs": [
    {
     "ename": "AttributeError",
     "evalue": "'MyClass' object has no attribute 'profession'",
     "output_type": "error",
     "traceback": [
      "\u001b[1;31m---------------------------------------------------------------------------\u001b[0m",
      "\u001b[1;31mAttributeError\u001b[0m                            Traceback (most recent call last)",
      "Input \u001b[1;32mIn [27]\u001b[0m, in \u001b[0;36m<cell line: 1>\u001b[1;34m()\u001b[0m\n\u001b[1;32m----> 1\u001b[0m \u001b[38;5;28;43mgetattr\u001b[39;49m\u001b[43m(\u001b[49m\u001b[43mobj1\u001b[49m\u001b[43m,\u001b[49m\u001b[38;5;124;43m'\u001b[39;49m\u001b[38;5;124;43mprofession\u001b[39;49m\u001b[38;5;124;43m'\u001b[39;49m\u001b[43m)\u001b[49m\n",
      "\u001b[1;31mAttributeError\u001b[0m: 'MyClass' object has no attribute 'profession'"
     ]
    }
   ],
   "source": [
    "getattr(obj1,'profession')"
   ]
  },
  {
   "cell_type": "code",
   "execution_count": 28,
   "id": "15462683",
   "metadata": {},
   "outputs": [
    {
     "ename": "AttributeError",
     "evalue": "'MyClass' object has no attribute 'profession'",
     "output_type": "error",
     "traceback": [
      "\u001b[1;31m---------------------------------------------------------------------------\u001b[0m",
      "\u001b[1;31mAttributeError\u001b[0m                            Traceback (most recent call last)",
      "Input \u001b[1;32mIn [28]\u001b[0m, in \u001b[0;36m<cell line: 1>\u001b[1;34m()\u001b[0m\n\u001b[1;32m----> 1\u001b[0m \u001b[43mobj1\u001b[49m\u001b[38;5;241;43m.\u001b[39;49m\u001b[43mprofession\u001b[49m\n",
      "\u001b[1;31mAttributeError\u001b[0m: 'MyClass' object has no attribute 'profession'"
     ]
    }
   ],
   "source": [
    "obj1.profession"
   ]
  },
  {
   "cell_type": "code",
   "execution_count": 29,
   "id": "a2ee7da0",
   "metadata": {},
   "outputs": [
    {
     "data": {
      "text/plain": [
       "'This attribute is not present '"
      ]
     },
     "execution_count": 29,
     "metadata": {},
     "output_type": "execute_result"
    }
   ],
   "source": [
    "\n",
    "getattr(obj1,'profession','This attribute is not present ')"
   ]
  },
  {
   "cell_type": "code",
   "execution_count": 30,
   "id": "d1e1b4a8",
   "metadata": {},
   "outputs": [
    {
     "data": {
      "text/plain": [
       "<function setattr(obj, name, value, /)>"
      ]
     },
     "execution_count": 30,
     "metadata": {},
     "output_type": "execute_result"
    }
   ],
   "source": [
    "setattr"
   ]
  },
  {
   "cell_type": "code",
   "execution_count": 31,
   "id": "bbd8ef54",
   "metadata": {},
   "outputs": [],
   "source": [
    "obj1.name = 'somani'"
   ]
  },
  {
   "cell_type": "code",
   "execution_count": 32,
   "id": "785b4048",
   "metadata": {},
   "outputs": [
    {
     "data": {
      "text/plain": [
       "('somani', 'Rahul')"
      ]
     },
     "execution_count": 32,
     "metadata": {},
     "output_type": "execute_result"
    }
   ],
   "source": [
    "obj1.name, obj2.name"
   ]
  },
  {
   "cell_type": "code",
   "execution_count": 33,
   "id": "c6223655",
   "metadata": {},
   "outputs": [
    {
     "data": {
      "text/plain": [
       "\"Sets the named attribute on the given object to the specified value.\\n\\nsetattr(x, 'y', v) is equivalent to ``x.y = v''\""
      ]
     },
     "execution_count": 33,
     "metadata": {},
     "output_type": "execute_result"
    }
   ],
   "source": [
    "setattr.__doc__"
   ]
  },
  {
   "cell_type": "code",
   "execution_count": 34,
   "id": "62b8923b",
   "metadata": {},
   "outputs": [],
   "source": [
    "setattr(obj2,'name','somani')"
   ]
  },
  {
   "cell_type": "code",
   "execution_count": 35,
   "id": "ff17cc9c",
   "metadata": {},
   "outputs": [
    {
     "data": {
      "text/plain": [
       "('somani', 'somani')"
      ]
     },
     "execution_count": 35,
     "metadata": {},
     "output_type": "execute_result"
    }
   ],
   "source": [
    "obj2.name, getattr(obj2,'name')"
   ]
  },
  {
   "cell_type": "markdown",
   "id": "ea010008",
   "metadata": {},
   "source": [
    "# understand and use the delattr function "
   ]
  },
  {
   "cell_type": "code",
   "execution_count": 36,
   "id": "2b7b4543",
   "metadata": {},
   "outputs": [],
   "source": [
    "class Employee:\n",
    "    company = 'TCS'\n",
    "    location = 'Ecity Bangalore'\n",
    "    section = 'IT'\n",
    "    "
   ]
  },
  {
   "cell_type": "code",
   "execution_count": 37,
   "id": "9ce59d45",
   "metadata": {},
   "outputs": [
    {
     "data": {
      "text/plain": [
       "mappingproxy({'__module__': '__main__',\n",
       "              'company': 'TCS',\n",
       "              'location': 'Ecity Bangalore',\n",
       "              'section': 'IT',\n",
       "              '__dict__': <attribute '__dict__' of 'Employee' objects>,\n",
       "              '__weakref__': <attribute '__weakref__' of 'Employee' objects>,\n",
       "              '__doc__': None})"
      ]
     },
     "execution_count": 37,
     "metadata": {},
     "output_type": "execute_result"
    }
   ],
   "source": [
    "Employee.__dict__"
   ]
  },
  {
   "cell_type": "markdown",
   "id": "ceabb992",
   "metadata": {},
   "source": [
    "# Lets provide a doc string to the class "
   ]
  },
  {
   "cell_type": "code",
   "execution_count": 38,
   "id": "56c57ee3",
   "metadata": {},
   "outputs": [],
   "source": [
    "class Employee:\n",
    "    \"\"\"Employee records \"\"\"\n",
    "    company = 'TCS'\n",
    "    location = 'Ecity Bangalore'\n",
    "    section = 'IT'\n",
    "    "
   ]
  },
  {
   "cell_type": "code",
   "execution_count": 39,
   "id": "f045de4b",
   "metadata": {},
   "outputs": [
    {
     "data": {
      "text/plain": [
       "mappingproxy({'__module__': '__main__',\n",
       "              '__doc__': 'Employee records ',\n",
       "              'company': 'TCS',\n",
       "              'location': 'Ecity Bangalore',\n",
       "              'section': 'IT',\n",
       "              '__dict__': <attribute '__dict__' of 'Employee' objects>,\n",
       "              '__weakref__': <attribute '__weakref__' of 'Employee' objects>})"
      ]
     },
     "execution_count": 39,
     "metadata": {},
     "output_type": "execute_result"
    }
   ],
   "source": [
    "Employee.__dict__"
   ]
  },
  {
   "cell_type": "code",
   "execution_count": 40,
   "id": "68237f26",
   "metadata": {},
   "outputs": [],
   "source": [
    "emp1 = Employee()\n",
    "emp2 = Employee()"
   ]
  },
  {
   "cell_type": "code",
   "execution_count": 41,
   "id": "55801c1f",
   "metadata": {},
   "outputs": [
    {
     "data": {
      "text/plain": [
       "('TCS', 'Ecity Bangalore', 'IT')"
      ]
     },
     "execution_count": 41,
     "metadata": {},
     "output_type": "execute_result"
    }
   ],
   "source": [
    "emp1.company,emp1.location,emp1.section"
   ]
  },
  {
   "cell_type": "code",
   "execution_count": 42,
   "id": "a9030b2f",
   "metadata": {},
   "outputs": [
    {
     "data": {
      "text/plain": [
       "('TCS', 'Ecity Bangalore', 'IT')"
      ]
     },
     "execution_count": 42,
     "metadata": {},
     "output_type": "execute_result"
    }
   ],
   "source": [
    "getattr(emp1,'company'),getattr(emp1,'location'),getattr(emp1,'section')"
   ]
  },
  {
   "cell_type": "code",
   "execution_count": 43,
   "id": "77f2b6ae",
   "metadata": {},
   "outputs": [
    {
     "data": {
      "text/plain": [
       "<function delattr(obj, name, /)>"
      ]
     },
     "execution_count": 43,
     "metadata": {},
     "output_type": "execute_result"
    }
   ],
   "source": [
    "delattr"
   ]
  },
  {
   "cell_type": "code",
   "execution_count": 46,
   "id": "31f6e306",
   "metadata": {},
   "outputs": [
    {
     "name": "stdout",
     "output_type": "stream",
     "text": [
      "Help on built-in function delattr in module builtins:\n",
      "\n",
      "delattr(obj, name, /)\n",
      "    Deletes the named attribute from the given object.\n",
      "    \n",
      "    delattr(x, 'y') is equivalent to ``del x.y''\n",
      "\n"
     ]
    }
   ],
   "source": [
    "help(delattr)"
   ]
  },
  {
   "cell_type": "code",
   "execution_count": 49,
   "id": "bd9a0ee6",
   "metadata": {},
   "outputs": [],
   "source": [
    "delattr(Employee,'location')"
   ]
  },
  {
   "cell_type": "code",
   "execution_count": 50,
   "id": "1b244396",
   "metadata": {},
   "outputs": [
    {
     "data": {
      "text/plain": [
       "mappingproxy({'__module__': '__main__',\n",
       "              '__doc__': 'Employee records ',\n",
       "              'company': 'TCS',\n",
       "              'section': 'IT',\n",
       "              '__dict__': <attribute '__dict__' of 'Employee' objects>,\n",
       "              '__weakref__': <attribute '__weakref__' of 'Employee' objects>})"
      ]
     },
     "execution_count": 50,
     "metadata": {},
     "output_type": "execute_result"
    }
   ],
   "source": [
    "Employee.__dict__"
   ]
  },
  {
   "cell_type": "code",
   "execution_count": 51,
   "id": "8791e6fc",
   "metadata": {},
   "outputs": [],
   "source": [
    "delattr(Employee,'company')"
   ]
  },
  {
   "cell_type": "code",
   "execution_count": 52,
   "id": "6738c04a",
   "metadata": {},
   "outputs": [
    {
     "data": {
      "text/plain": [
       "mappingproxy({'__module__': '__main__',\n",
       "              '__doc__': 'Employee records ',\n",
       "              'section': 'IT',\n",
       "              '__dict__': <attribute '__dict__' of 'Employee' objects>,\n",
       "              '__weakref__': <attribute '__weakref__' of 'Employee' objects>})"
      ]
     },
     "execution_count": 52,
     "metadata": {},
     "output_type": "execute_result"
    }
   ],
   "source": [
    "Employee.__dict__"
   ]
  },
  {
   "cell_type": "code",
   "execution_count": 53,
   "id": "0a60dd56",
   "metadata": {},
   "outputs": [],
   "source": [
    "del Employee.section"
   ]
  },
  {
   "cell_type": "code",
   "execution_count": 54,
   "id": "3d239c55",
   "metadata": {},
   "outputs": [
    {
     "data": {
      "text/plain": [
       "mappingproxy({'__module__': '__main__',\n",
       "              '__doc__': 'Employee records ',\n",
       "              '__dict__': <attribute '__dict__' of 'Employee' objects>,\n",
       "              '__weakref__': <attribute '__weakref__' of 'Employee' objects>})"
      ]
     },
     "execution_count": 54,
     "metadata": {},
     "output_type": "execute_result"
    }
   ],
   "source": [
    "Employee.__dict__"
   ]
  },
  {
   "cell_type": "code",
   "execution_count": null,
   "id": "17e18db4",
   "metadata": {},
   "outputs": [],
   "source": []
  }
 ],
 "metadata": {
  "kernelspec": {
   "display_name": "Python 3 (ipykernel)",
   "language": "python",
   "name": "python3"
  },
  "language_info": {
   "codemirror_mode": {
    "name": "ipython",
    "version": 3
   },
   "file_extension": ".py",
   "mimetype": "text/x-python",
   "name": "python",
   "nbconvert_exporter": "python",
   "pygments_lexer": "ipython3",
   "version": "3.10.4"
  }
 },
 "nbformat": 4,
 "nbformat_minor": 5
}
