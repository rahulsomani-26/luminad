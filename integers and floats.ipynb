{
 "cells": [
  {
   "cell_type": "code",
   "execution_count": 1,
   "id": "717912af",
   "metadata": {},
   "outputs": [],
   "source": [
    "a = 2022"
   ]
  },
  {
   "cell_type": "code",
   "execution_count": 4,
   "id": "891b1eac",
   "metadata": {},
   "outputs": [
    {
     "data": {
      "text/plain": [
       "<function print>"
      ]
     },
     "execution_count": 4,
     "metadata": {},
     "output_type": "execute_result"
    }
   ],
   "source": [
    "print"
   ]
  },
  {
   "cell_type": "code",
   "execution_count": 3,
   "id": "756357c8",
   "metadata": {},
   "outputs": [
    {
     "name": "stdout",
     "output_type": "stream",
     "text": [
      "2022\n"
     ]
    }
   ],
   "source": [
    "print(a)"
   ]
  },
  {
   "cell_type": "code",
   "execution_count": 5,
   "id": "85e6bf02",
   "metadata": {},
   "outputs": [
    {
     "data": {
      "text/plain": [
       "(2901999415152, int)"
      ]
     },
     "execution_count": 5,
     "metadata": {},
     "output_type": "execute_result"
    }
   ],
   "source": [
    "id(a), type(a)"
   ]
  },
  {
   "cell_type": "code",
   "execution_count": 9,
   "id": "aa4515ec",
   "metadata": {},
   "outputs": [],
   "source": [
    "b = int()"
   ]
  },
  {
   "cell_type": "code",
   "execution_count": 10,
   "id": "8fdd1ce2",
   "metadata": {},
   "outputs": [
    {
     "data": {
      "text/plain": [
       "0"
      ]
     },
     "execution_count": 10,
     "metadata": {},
     "output_type": "execute_result"
    }
   ],
   "source": [
    "b"
   ]
  },
  {
   "cell_type": "code",
   "execution_count": 11,
   "id": "d24ca984",
   "metadata": {},
   "outputs": [
    {
     "data": {
      "text/plain": [
       "int"
      ]
     },
     "execution_count": 11,
     "metadata": {},
     "output_type": "execute_result"
    }
   ],
   "source": [
    "type(b)"
   ]
  },
  {
   "cell_type": "code",
   "execution_count": 12,
   "id": "b5973633",
   "metadata": {},
   "outputs": [],
   "source": [
    "c = int(23)"
   ]
  },
  {
   "cell_type": "code",
   "execution_count": 13,
   "id": "359b2ce3",
   "metadata": {},
   "outputs": [
    {
     "data": {
      "text/plain": [
       "23"
      ]
     },
     "execution_count": 13,
     "metadata": {},
     "output_type": "execute_result"
    }
   ],
   "source": [
    "c"
   ]
  },
  {
   "cell_type": "code",
   "execution_count": 14,
   "id": "53afda2a",
   "metadata": {},
   "outputs": [],
   "source": [
    "d = float()"
   ]
  },
  {
   "cell_type": "code",
   "execution_count": 15,
   "id": "a5fd9e59",
   "metadata": {},
   "outputs": [
    {
     "data": {
      "text/plain": [
       "(0.0, 2902030077456, float)"
      ]
     },
     "execution_count": 15,
     "metadata": {},
     "output_type": "execute_result"
    }
   ],
   "source": [
    "d, id(d), type(d)"
   ]
  },
  {
   "cell_type": "code",
   "execution_count": 16,
   "id": "47b822c6",
   "metadata": {},
   "outputs": [],
   "source": [
    "d = float(22.78)"
   ]
  },
  {
   "cell_type": "code",
   "execution_count": 17,
   "id": "17582e79",
   "metadata": {},
   "outputs": [
    {
     "data": {
      "text/plain": [
       "(22.78, 2901999414512, float)"
      ]
     },
     "execution_count": 17,
     "metadata": {},
     "output_type": "execute_result"
    }
   ],
   "source": [
    "d, id(d), type(d)"
   ]
  },
  {
   "cell_type": "markdown",
   "id": "2c76e3e9",
   "metadata": {},
   "source": [
    "# Some of the common operations on integers "
   ]
  },
  {
   "cell_type": "code",
   "execution_count": 18,
   "id": "0ad0203b",
   "metadata": {},
   "outputs": [],
   "source": [
    "a = 10 \n",
    "b = 2"
   ]
  },
  {
   "cell_type": "code",
   "execution_count": 19,
   "id": "4a64d303",
   "metadata": {},
   "outputs": [
    {
     "data": {
      "text/plain": [
       "12"
      ]
     },
     "execution_count": 19,
     "metadata": {},
     "output_type": "execute_result"
    }
   ],
   "source": [
    "a+b "
   ]
  },
  {
   "cell_type": "code",
   "execution_count": 20,
   "id": "1ba2bfe2",
   "metadata": {},
   "outputs": [
    {
     "data": {
      "text/plain": [
       "8"
      ]
     },
     "execution_count": 20,
     "metadata": {},
     "output_type": "execute_result"
    }
   ],
   "source": [
    "a-b"
   ]
  },
  {
   "cell_type": "code",
   "execution_count": 21,
   "id": "e510c0c1",
   "metadata": {},
   "outputs": [
    {
     "data": {
      "text/plain": [
       "5.0"
      ]
     },
     "execution_count": 21,
     "metadata": {},
     "output_type": "execute_result"
    }
   ],
   "source": [
    "a/b"
   ]
  },
  {
   "cell_type": "markdown",
   "id": "100e66e7",
   "metadata": {},
   "source": [
    "# Floor Division operations // "
   ]
  },
  {
   "cell_type": "code",
   "execution_count": 23,
   "id": "684c64de",
   "metadata": {},
   "outputs": [
    {
     "data": {
      "text/plain": [
       "5"
      ]
     },
     "execution_count": 23,
     "metadata": {},
     "output_type": "execute_result"
    }
   ],
   "source": [
    "a//b"
   ]
  },
  {
   "cell_type": "markdown",
   "id": "ed963b34",
   "metadata": {},
   "source": [
    "# power "
   ]
  },
  {
   "cell_type": "code",
   "execution_count": 24,
   "id": "49634385",
   "metadata": {},
   "outputs": [
    {
     "data": {
      "text/plain": [
       "10"
      ]
     },
     "execution_count": 24,
     "metadata": {},
     "output_type": "execute_result"
    }
   ],
   "source": [
    "a"
   ]
  },
  {
   "cell_type": "code",
   "execution_count": 25,
   "id": "094affbf",
   "metadata": {},
   "outputs": [
    {
     "data": {
      "text/plain": [
       "100"
      ]
     },
     "execution_count": 25,
     "metadata": {},
     "output_type": "execute_result"
    }
   ],
   "source": [
    "a**2"
   ]
  },
  {
   "cell_type": "code",
   "execution_count": 26,
   "id": "13613aea",
   "metadata": {},
   "outputs": [
    {
     "data": {
      "text/plain": [
       "1000"
      ]
     },
     "execution_count": 26,
     "metadata": {},
     "output_type": "execute_result"
    }
   ],
   "source": [
    "a**3"
   ]
  },
  {
   "cell_type": "code",
   "execution_count": null,
   "id": "0a4ae71c",
   "metadata": {},
   "outputs": [],
   "source": []
  }
 ],
 "metadata": {
  "kernelspec": {
   "display_name": "Python 3 (ipykernel)",
   "language": "python",
   "name": "python3"
  },
  "language_info": {
   "codemirror_mode": {
    "name": "ipython",
    "version": 3
   },
   "file_extension": ".py",
   "mimetype": "text/x-python",
   "name": "python",
   "nbconvert_exporter": "python",
   "pygments_lexer": "ipython3",
   "version": "3.10.4"
  }
 },
 "nbformat": 4,
 "nbformat_minor": 5
}
