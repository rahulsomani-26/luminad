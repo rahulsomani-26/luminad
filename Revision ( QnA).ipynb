{
 "cells": [
  {
   "cell_type": "markdown",
   "id": "c11d08df",
   "metadata": {},
   "source": [
    "Q1 write a lamda function that accepts a string and returns the string in uppercase \n",
    "***"
   ]
  },
  {
   "cell_type": "markdown",
   "id": "b198ac5c",
   "metadata": {},
   "source": [
    "Q2. Write a function that takes two arguments, the first a value to look for , and a second an iterable \n",
    "    where the value needs to be looked for. If found, it should return the index position of the value\n",
    "otherwise it should return a message  not found \n",
    "***"
   ]
  },
  {
   "cell_type": "code",
   "execution_count": 3,
   "id": "9a8ae253",
   "metadata": {},
   "outputs": [],
   "source": [
    "fn = lambda a,b:a+b"
   ]
  },
  {
   "cell_type": "code",
   "execution_count": 4,
   "id": "f1ac627a",
   "metadata": {},
   "outputs": [
    {
     "data": {
      "text/plain": [
       "<function __main__.<lambda>(a, b)>"
      ]
     },
     "execution_count": 4,
     "metadata": {},
     "output_type": "execute_result"
    }
   ],
   "source": [
    "fn"
   ]
  },
  {
   "cell_type": "code",
   "execution_count": 5,
   "id": "7c6afb50",
   "metadata": {},
   "outputs": [
    {
     "data": {
      "text/plain": [
       "12"
      ]
     },
     "execution_count": 5,
     "metadata": {},
     "output_type": "execute_result"
    }
   ],
   "source": [
    "fn(10,2)"
   ]
  },
  {
   "cell_type": "code",
   "execution_count": 6,
   "id": "d0ef27f0",
   "metadata": {},
   "outputs": [
    {
     "name": "stdout",
     "output_type": "stream",
     "text": [
      "enter the string   krit\n",
      "KRIT\n"
     ]
    }
   ],
   "source": [
    "text = input(\"enter the string   \")\n",
    "(lambda text: print(text.upper()))(text.upper())\n",
    "\n"
   ]
  },
  {
   "cell_type": "code",
   "execution_count": 7,
   "id": "f13b74ac",
   "metadata": {},
   "outputs": [
    {
     "name": "stdout",
     "output_type": "stream",
     "text": [
      "PYTHON\n"
     ]
    }
   ],
   "source": [
    "text=\"python\"\n",
    "(lambda text:print(text.upper()))(text.upper())"
   ]
  },
  {
   "cell_type": "code",
   "execution_count": 8,
   "id": "98a00540",
   "metadata": {},
   "outputs": [
    {
     "data": {
      "text/plain": [
       "'GOKUL'"
      ]
     },
     "execution_count": 8,
     "metadata": {},
     "output_type": "execute_result"
    }
   ],
   "source": [
    "a = \"gokul\"\n",
    "y = lambda b:b.upper()\n",
    "y(a)"
   ]
  },
  {
   "cell_type": "code",
   "execution_count": 9,
   "id": "7dda2f2c",
   "metadata": {},
   "outputs": [],
   "source": [
    "def upper_me(msg):\n",
    "    return msg.upper() "
   ]
  },
  {
   "cell_type": "code",
   "execution_count": 10,
   "id": "1523d6bf",
   "metadata": {},
   "outputs": [
    {
     "data": {
      "text/plain": [
       "'SOM'"
      ]
     },
     "execution_count": 10,
     "metadata": {},
     "output_type": "execute_result"
    }
   ],
   "source": [
    "upper_me(\"som\")"
   ]
  },
  {
   "cell_type": "code",
   "execution_count": 11,
   "id": "42eee13f",
   "metadata": {},
   "outputs": [],
   "source": [
    "f = lambda msg:msg.upper() "
   ]
  },
  {
   "cell_type": "code",
   "execution_count": 12,
   "id": "18b6ed54",
   "metadata": {},
   "outputs": [
    {
     "data": {
      "text/plain": [
       "'RAH'"
      ]
     },
     "execution_count": 12,
     "metadata": {},
     "output_type": "execute_result"
    }
   ],
   "source": [
    "f(\"rah\")"
   ]
  },
  {
   "cell_type": "code",
   "execution_count": 20,
   "id": "6859f15d",
   "metadata": {},
   "outputs": [],
   "source": [
    "def my_func(val,seq):\n",
    "    \"\"\">>>my_seq(2,[1,4,5,2,3])\n",
    "        >>>3\n",
    "    \"\"\"\n",
    "    if val in seq:\n",
    "        return val, seq.index(val)\n",
    "    else:\n",
    "        return \" Not found \"\n",
    "    "
   ]
  },
  {
   "cell_type": "code",
   "execution_count": 21,
   "id": "759dfdaf",
   "metadata": {},
   "outputs": [
    {
     "data": {
      "text/plain": [
       "<function __main__.my_func(val, seq)>"
      ]
     },
     "execution_count": 21,
     "metadata": {},
     "output_type": "execute_result"
    }
   ],
   "source": [
    "my_func\n"
   ]
  },
  {
   "cell_type": "code",
   "execution_count": 22,
   "id": "44880bd4",
   "metadata": {},
   "outputs": [
    {
     "data": {
      "text/plain": [
       "(2, 1)"
      ]
     },
     "execution_count": 22,
     "metadata": {},
     "output_type": "execute_result"
    }
   ],
   "source": [
    "my_func(2,[1,2,3,4,5,6])\n"
   ]
  },
  {
   "cell_type": "code",
   "execution_count": 23,
   "id": "83b8b29a",
   "metadata": {},
   "outputs": [
    {
     "data": {
      "text/plain": [
       "' Not found '"
      ]
     },
     "execution_count": 23,
     "metadata": {},
     "output_type": "execute_result"
    }
   ],
   "source": [
    "my_func(7,[1,2,3,4,5,6])\n"
   ]
  },
  {
   "cell_type": "code",
   "execution_count": 24,
   "id": "38717b70",
   "metadata": {},
   "outputs": [
    {
     "data": {
      "text/plain": [
       "3"
      ]
     },
     "execution_count": 24,
     "metadata": {},
     "output_type": "execute_result"
    }
   ],
   "source": [
    "# [10:53 AM] Gokulakrishnan A (Guest)\n",
    "    \n",
    "def my_funct(val,seq):\n",
    "    for i in range(len(seq)):\n",
    "        if val in seq:\n",
    "            if(seq[i] == val):\n",
    "                return i\n",
    "        else:\n",
    "            return \"Element not found\"\n",
    "my_funct(5,[1,2,4,5,6])\n",
    "\n",
    "\n",
    "\n"
   ]
  },
  {
   "cell_type": "code",
   "execution_count": 26,
   "id": "ab808862",
   "metadata": {},
   "outputs": [
    {
     "name": "stdout",
     "output_type": "stream",
     "text": [
      "Found\n"
     ]
    }
   ],
   "source": [
    "text = 'python'\n",
    "if 'p' in text:\n",
    "    print('Found')\n",
    "else:\n",
    "    print(\"not found \")"
   ]
  },
  {
   "cell_type": "code",
   "execution_count": null,
   "id": "7a44057a",
   "metadata": {},
   "outputs": [],
   "source": [
    "def my_func(val,seq):\n",
    "    if val in seq:\n",
    "        return val, seq.index(val)\n",
    "    else:\n",
    "        return \" Not found \"\n",
    "    "
   ]
  },
  {
   "cell_type": "code",
   "execution_count": 27,
   "id": "e932f328",
   "metadata": {},
   "outputs": [
    {
     "name": "stdout",
     "output_type": "stream",
     "text": [
      "['__add__', '__class__', '__class_getitem__', '__contains__', '__delattr__', '__delitem__', '__dir__', '__doc__', '__eq__', '__format__', '__ge__', '__getattribute__', '__getitem__', '__gt__', '__hash__', '__iadd__', '__imul__', '__init__', '__init_subclass__', '__iter__', '__le__', '__len__', '__lt__', '__mul__', '__ne__', '__new__', '__reduce__', '__reduce_ex__', '__repr__', '__reversed__', '__rmul__', '__setattr__', '__setitem__', '__sizeof__', '__str__', '__subclasshook__', 'append', 'clear', 'copy', 'count', 'extend', 'index', 'insert', 'pop', 'remove', 'reverse', 'sort']\n"
     ]
    }
   ],
   "source": [
    "l = [1,2,3,4]\n",
    "print(dir(l))"
   ]
  },
  {
   "cell_type": "code",
   "execution_count": 28,
   "id": "f20a58cf",
   "metadata": {},
   "outputs": [
    {
     "data": {
      "text/plain": [
       "'Return first index of value.\\n\\nRaises ValueError if the value is not present.'"
      ]
     },
     "execution_count": 28,
     "metadata": {},
     "output_type": "execute_result"
    }
   ],
   "source": [
    "l.index.__doc__"
   ]
  },
  {
   "cell_type": "code",
   "execution_count": 31,
   "id": "c26dfbf3",
   "metadata": {},
   "outputs": [
    {
     "data": {
      "text/plain": [
       "1"
      ]
     },
     "execution_count": 31,
     "metadata": {},
     "output_type": "execute_result"
    }
   ],
   "source": [
    "l = [\"rahul\",\"ujjwal\",\"shwta\",\"gokul\"]\n",
    "l.index(\"ujjwal\")"
   ]
  },
  {
   "cell_type": "code",
   "execution_count": 32,
   "id": "a028faf3",
   "metadata": {},
   "outputs": [
    {
     "name": "stdout",
     "output_type": "stream",
     "text": [
      "Help on class enumerate in module builtins:\n",
      "\n",
      "class enumerate(object)\n",
      " |  enumerate(iterable, start=0)\n",
      " |  \n",
      " |  Return an enumerate object.\n",
      " |  \n",
      " |    iterable\n",
      " |      an object supporting iteration\n",
      " |  \n",
      " |  The enumerate object yields pairs containing a count (from start, which\n",
      " |  defaults to zero) and a value yielded by the iterable argument.\n",
      " |  \n",
      " |  enumerate is useful for obtaining an indexed list:\n",
      " |      (0, seq[0]), (1, seq[1]), (2, seq[2]), ...\n",
      " |  \n",
      " |  Methods defined here:\n",
      " |  \n",
      " |  __getattribute__(self, name, /)\n",
      " |      Return getattr(self, name).\n",
      " |  \n",
      " |  __iter__(self, /)\n",
      " |      Implement iter(self).\n",
      " |  \n",
      " |  __next__(self, /)\n",
      " |      Implement next(self).\n",
      " |  \n",
      " |  __reduce__(...)\n",
      " |      Return state information for pickling.\n",
      " |  \n",
      " |  ----------------------------------------------------------------------\n",
      " |  Class methods defined here:\n",
      " |  \n",
      " |  __class_getitem__(...) from builtins.type\n",
      " |      See PEP 585\n",
      " |  \n",
      " |  ----------------------------------------------------------------------\n",
      " |  Static methods defined here:\n",
      " |  \n",
      " |  __new__(*args, **kwargs) from builtins.type\n",
      " |      Create and return a new object.  See help(type) for accurate signature.\n",
      "\n"
     ]
    }
   ],
   "source": [
    "help(enumerate)"
   ]
  },
  {
   "cell_type": "code",
   "execution_count": 35,
   "id": "959ea097",
   "metadata": {},
   "outputs": [
    {
     "name": "stdout",
     "output_type": "stream",
     "text": [
      "(0, 'r')\n",
      "(1, 'a')\n",
      "(2, 'h')\n",
      "(3, 'u')\n",
      "(4, 'l')\n"
     ]
    }
   ],
   "source": [
    "for item in enumerate(\"rahul\"):\n",
    "    print(item)\n",
    "#     print(temp)"
   ]
  },
  {
   "cell_type": "markdown",
   "id": "952a5ac1",
   "metadata": {},
   "source": [
    "## Generator function \n",
    "  - The presence of a yield keyword within a function changes the behaviour of the function \n",
    "  - It is now no longer a plain ordinary function \n",
    "  - But, the function now becomes a generator function \n",
    "  - It supplies values on demand ( A very interesting feature and quite useful in a lot of cases ) "
   ]
  },
  {
   "cell_type": "code",
   "execution_count": 36,
   "id": "73bd2de5",
   "metadata": {},
   "outputs": [],
   "source": [
    "def func():\n",
    "    yield \"rahul\"\n",
    "    yield \"somani\"\n",
    "    yield 42\n",
    "    yield \"software trainer\"\n",
    "    yield \"India\""
   ]
  },
  {
   "cell_type": "code",
   "execution_count": 37,
   "id": "d2c41b80",
   "metadata": {},
   "outputs": [
    {
     "data": {
      "text/plain": [
       "<function __main__.func()>"
      ]
     },
     "execution_count": 37,
     "metadata": {},
     "output_type": "execute_result"
    }
   ],
   "source": [
    "func"
   ]
  },
  {
   "cell_type": "code",
   "execution_count": 38,
   "id": "0e787b96",
   "metadata": {},
   "outputs": [
    {
     "data": {
      "text/plain": [
       "<generator object func at 0x0000029670A3D310>"
      ]
     },
     "execution_count": 38,
     "metadata": {},
     "output_type": "execute_result"
    }
   ],
   "source": [
    "func()"
   ]
  },
  {
   "cell_type": "code",
   "execution_count": 39,
   "id": "c7ab6cee",
   "metadata": {},
   "outputs": [
    {
     "name": "stdout",
     "output_type": "stream",
     "text": [
      "['__annotations__', '__builtins__', '__call__', '__class__', '__closure__', '__code__', '__defaults__', '__delattr__', '__dict__', '__dir__', '__doc__', '__eq__', '__format__', '__ge__', '__get__', '__getattribute__', '__globals__', '__gt__', '__hash__', '__init__', '__init_subclass__', '__kwdefaults__', '__le__', '__lt__', '__module__', '__name__', '__ne__', '__new__', '__qualname__', '__reduce__', '__reduce_ex__', '__repr__', '__setattr__', '__sizeof__', '__str__', '__subclasshook__']\n"
     ]
    }
   ],
   "source": [
    "print(dir(func))"
   ]
  },
  {
   "cell_type": "code",
   "execution_count": 40,
   "id": "b68636f3",
   "metadata": {},
   "outputs": [],
   "source": [
    "f = func()"
   ]
  },
  {
   "cell_type": "code",
   "execution_count": 42,
   "id": "f86b2aec",
   "metadata": {},
   "outputs": [
    {
     "name": "stdout",
     "output_type": "stream",
     "text": [
      "['__class__', '__del__', '__delattr__', '__dir__', '__doc__', '__eq__', '__format__', '__ge__', '__getattribute__', '__gt__', '__hash__', '__init__', '__init_subclass__', '__iter__', '__le__', '__lt__', '__name__', '__ne__', '__new__', '__next__', '__qualname__', '__reduce__', '__reduce_ex__', '__repr__', '__setattr__', '__sizeof__', '__str__', '__subclasshook__', 'close', 'gi_code', 'gi_frame', 'gi_running', 'gi_yieldfrom', 'send', 'throw']\n"
     ]
    }
   ],
   "source": [
    "print(dir(f))"
   ]
  },
  {
   "cell_type": "code",
   "execution_count": 45,
   "id": "f8465989",
   "metadata": {},
   "outputs": [
    {
     "data": {
      "text/plain": [
       "42"
      ]
     },
     "execution_count": 45,
     "metadata": {},
     "output_type": "execute_result"
    }
   ],
   "source": [
    "f.__next__()"
   ]
  },
  {
   "cell_type": "code",
   "execution_count": 46,
   "id": "c3e18e55",
   "metadata": {},
   "outputs": [
    {
     "data": {
      "text/plain": [
       "'software trainer'"
      ]
     },
     "execution_count": 46,
     "metadata": {},
     "output_type": "execute_result"
    }
   ],
   "source": [
    "next(f)"
   ]
  },
  {
   "cell_type": "code",
   "execution_count": 47,
   "id": "5d00951c",
   "metadata": {},
   "outputs": [
    {
     "data": {
      "text/plain": [
       "'India'"
      ]
     },
     "execution_count": 47,
     "metadata": {},
     "output_type": "execute_result"
    }
   ],
   "source": [
    "next(f)"
   ]
  },
  {
   "cell_type": "code",
   "execution_count": 48,
   "id": "cde74d55",
   "metadata": {},
   "outputs": [
    {
     "ename": "StopIteration",
     "evalue": "",
     "output_type": "error",
     "traceback": [
      "\u001b[1;31m---------------------------------------------------------------------------\u001b[0m",
      "\u001b[1;31mStopIteration\u001b[0m                             Traceback (most recent call last)",
      "Input \u001b[1;32mIn [48]\u001b[0m, in \u001b[0;36m<cell line: 1>\u001b[1;34m()\u001b[0m\n\u001b[1;32m----> 1\u001b[0m \u001b[38;5;28;43mnext\u001b[39;49m\u001b[43m(\u001b[49m\u001b[43mf\u001b[49m\u001b[43m)\u001b[49m\n",
      "\u001b[1;31mStopIteration\u001b[0m: "
     ]
    }
   ],
   "source": [
    "next(f)"
   ]
  },
  {
   "cell_type": "code",
   "execution_count": null,
   "id": "f0c78960",
   "metadata": {},
   "outputs": [],
   "source": []
  }
 ],
 "metadata": {
  "kernelspec": {
   "display_name": "Python 3 (ipykernel)",
   "language": "python",
   "name": "python3"
  },
  "language_info": {
   "codemirror_mode": {
    "name": "ipython",
    "version": 3
   },
   "file_extension": ".py",
   "mimetype": "text/x-python",
   "name": "python",
   "nbconvert_exporter": "python",
   "pygments_lexer": "ipython3",
   "version": "3.10.4"
  }
 },
 "nbformat": 4,
 "nbformat_minor": 5
}
