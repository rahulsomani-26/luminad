{
 "cells": [
  {
   "cell_type": "markdown",
   "id": "23fccbbb",
   "metadata": {},
   "source": [
    "# Tuples \n",
    "***"
   ]
  },
  {
   "cell_type": "markdown",
   "id": "f27aedd9",
   "metadata": {},
   "source": [
    "` Tuple are data structure, that store data of homogeneous types (Not a neccessity) `\n",
    "\n",
    "- Immutable in type "
   ]
  },
  {
   "cell_type": "markdown",
   "id": "d5b1e2f9",
   "metadata": {},
   "source": [
    "Creating a tuple :\n",
    "\n",
    "    - using the comma operator \n",
    "    - using the tuple() constructor or factory method "
   ]
  },
  {
   "cell_type": "code",
   "execution_count": 4,
   "id": "6774b400",
   "metadata": {},
   "outputs": [
    {
     "data": {
      "text/plain": [
       "(tuple, 2153415513920, 3)"
      ]
     },
     "execution_count": 4,
     "metadata": {},
     "output_type": "execute_result"
    }
   ],
   "source": [
    "t1 = 1,2,3\n",
    "type(t1), id(t1), len(t1)"
   ]
  },
  {
   "cell_type": "code",
   "execution_count": 5,
   "id": "493b6bfa",
   "metadata": {},
   "outputs": [
    {
     "data": {
      "text/plain": [
       "(tuple, 2153415545344, 3)"
      ]
     },
     "execution_count": 5,
     "metadata": {},
     "output_type": "execute_result"
    }
   ],
   "source": [
    "t2 = (100,200,300)\n",
    "type(t2), id(t2), len(t2)\n"
   ]
  },
  {
   "cell_type": "markdown",
   "id": "26b6e42d",
   "metadata": {},
   "source": [
    "# An Empty tuple \n",
    "t3 = (,)\n",
    "print(t3, type(t3))\n",
    "# Because it is an empty tuple, a , leads python to raise an error "
   ]
  },
  {
   "cell_type": "code",
   "execution_count": 8,
   "id": "71c58a60",
   "metadata": {},
   "outputs": [
    {
     "name": "stdout",
     "output_type": "stream",
     "text": [
      "() <class 'tuple'>\n"
     ]
    }
   ],
   "source": [
    "# An Empty tuple \n",
    "t4 = ()\n",
    "print(t4, type(t4))"
   ]
  },
  {
   "cell_type": "code",
   "execution_count": 9,
   "id": "5d8b9ebf",
   "metadata": {},
   "outputs": [
    {
     "data": {
      "text/plain": [
       "tuple"
      ]
     },
     "execution_count": 9,
     "metadata": {},
     "output_type": "execute_result"
    }
   ],
   "source": [
    "tuple"
   ]
  },
  {
   "cell_type": "code",
   "execution_count": 11,
   "id": "7a144106",
   "metadata": {},
   "outputs": [
    {
     "name": "stdout",
     "output_type": "stream",
     "text": [
      " Hi , I am a <class 'tuple'> and my length is 0\n"
     ]
    }
   ],
   "source": [
    "t5 = tuple()\n",
    "print(' Hi , I am a {} and my length is {}'.format(type(t5),len(t5)))"
   ]
  },
  {
   "cell_type": "code",
   "execution_count": 12,
   "id": "6c50b171",
   "metadata": {},
   "outputs": [
    {
     "name": "stdout",
     "output_type": "stream",
     "text": [
      "Help on class tuple in module builtins:\n",
      "\n",
      "class tuple(object)\n",
      " |  tuple(iterable=(), /)\n",
      " |  \n",
      " |  Built-in immutable sequence.\n",
      " |  \n",
      " |  If no argument is given, the constructor returns an empty tuple.\n",
      " |  If iterable is specified the tuple is initialized from iterable's items.\n",
      " |  \n",
      " |  If the argument is a tuple, the return value is the same object.\n",
      " |  \n",
      " |  Built-in subclasses:\n",
      " |      asyncgen_hooks\n",
      " |      UnraisableHookArgs\n",
      " |  \n",
      " |  Methods defined here:\n",
      " |  \n",
      " |  __add__(self, value, /)\n",
      " |      Return self+value.\n",
      " |  \n",
      " |  __contains__(self, key, /)\n",
      " |      Return key in self.\n",
      " |  \n",
      " |  __eq__(self, value, /)\n",
      " |      Return self==value.\n",
      " |  \n",
      " |  __ge__(self, value, /)\n",
      " |      Return self>=value.\n",
      " |  \n",
      " |  __getattribute__(self, name, /)\n",
      " |      Return getattr(self, name).\n",
      " |  \n",
      " |  __getitem__(self, key, /)\n",
      " |      Return self[key].\n",
      " |  \n",
      " |  __getnewargs__(self, /)\n",
      " |  \n",
      " |  __gt__(self, value, /)\n",
      " |      Return self>value.\n",
      " |  \n",
      " |  __hash__(self, /)\n",
      " |      Return hash(self).\n",
      " |  \n",
      " |  __iter__(self, /)\n",
      " |      Implement iter(self).\n",
      " |  \n",
      " |  __le__(self, value, /)\n",
      " |      Return self<=value.\n",
      " |  \n",
      " |  __len__(self, /)\n",
      " |      Return len(self).\n",
      " |  \n",
      " |  __lt__(self, value, /)\n",
      " |      Return self<value.\n",
      " |  \n",
      " |  __mul__(self, value, /)\n",
      " |      Return self*value.\n",
      " |  \n",
      " |  __ne__(self, value, /)\n",
      " |      Return self!=value.\n",
      " |  \n",
      " |  __repr__(self, /)\n",
      " |      Return repr(self).\n",
      " |  \n",
      " |  __rmul__(self, value, /)\n",
      " |      Return value*self.\n",
      " |  \n",
      " |  count(self, value, /)\n",
      " |      Return number of occurrences of value.\n",
      " |  \n",
      " |  index(self, value, start=0, stop=9223372036854775807, /)\n",
      " |      Return first index of value.\n",
      " |      \n",
      " |      Raises ValueError if the value is not present.\n",
      " |  \n",
      " |  ----------------------------------------------------------------------\n",
      " |  Class methods defined here:\n",
      " |  \n",
      " |  __class_getitem__(...) from builtins.type\n",
      " |      See PEP 585\n",
      " |  \n",
      " |  ----------------------------------------------------------------------\n",
      " |  Static methods defined here:\n",
      " |  \n",
      " |  __new__(*args, **kwargs) from builtins.type\n",
      " |      Create and return a new object.  See help(type) for accurate signature.\n",
      "\n"
     ]
    }
   ],
   "source": [
    "help(tuple)"
   ]
  },
  {
   "cell_type": "markdown",
   "id": "f1eb81e2",
   "metadata": {},
   "source": [
    "## Tuple Constructor \n",
    "- tuple(iterable=(), /)"
   ]
  },
  {
   "cell_type": "code",
   "execution_count": 14,
   "id": "1f9b6412",
   "metadata": {},
   "outputs": [],
   "source": [
    "t6 = tuple((1,2,3,4))"
   ]
  },
  {
   "cell_type": "code",
   "execution_count": 16,
   "id": "d97d1f60",
   "metadata": {},
   "outputs": [
    {
     "data": {
      "text/plain": [
       "((1, 2, 3, 4), tuple, 2153444233424, 4)"
      ]
     },
     "execution_count": 16,
     "metadata": {},
     "output_type": "execute_result"
    }
   ],
   "source": [
    "t6, type(t6), id(t6), len(t6)"
   ]
  },
  {
   "cell_type": "markdown",
   "id": "25ceb888",
   "metadata": {},
   "source": [
    "### Look at the magic methods and functionalities provided by the tuple class \n",
    "***"
   ]
  },
  {
   "cell_type": "code",
   "execution_count": 17,
   "id": "4c5dd212",
   "metadata": {},
   "outputs": [
    {
     "name": "stdout",
     "output_type": "stream",
     "text": [
      "['__add__', '__class__', '__class_getitem__', '__contains__', '__delattr__', '__dir__', '__doc__', '__eq__', '__format__', '__ge__', '__getattribute__', '__getitem__', '__getnewargs__', '__gt__', '__hash__', '__init__', '__init_subclass__', '__iter__', '__le__', '__len__', '__lt__', '__mul__', '__ne__', '__new__', '__reduce__', '__reduce_ex__', '__repr__', '__rmul__', '__setattr__', '__sizeof__', '__str__', '__subclasshook__', 'count', 'index']\n"
     ]
    }
   ],
   "source": [
    "print(dir(tuple))"
   ]
  },
  {
   "cell_type": "code",
   "execution_count": 19,
   "id": "6efa0ffb",
   "metadata": {},
   "outputs": [
    {
     "data": {
      "text/plain": [
       "(<method 'count' of 'tuple' objects>, <method 'index' of 'tuple' objects>)"
      ]
     },
     "execution_count": 19,
     "metadata": {},
     "output_type": "execute_result"
    }
   ],
   "source": [
    "tuple.count, tuple.index"
   ]
  },
  {
   "cell_type": "code",
   "execution_count": 21,
   "id": "0397179f",
   "metadata": {},
   "outputs": [
    {
     "name": "stdout",
     "output_type": "stream",
     "text": [
      "School friends = ('Rahul', 'Ujjwal', 'Shweta', 'Ratnesh', 'Arrow'), Number of friends = 5\n",
      "Collge friends = ('Abhishek', 'Snigdha', 'Amit', 'Banerjee'), Number of friends = 4\n",
      "('Rahul', 'Ujjwal', 'Shweta', 'Ratnesh', 'Arrow', 'Abhishek', 'Snigdha', 'Amit', 'Banerjee')\n"
     ]
    }
   ],
   "source": [
    "school_friends = \"Rahul\", \"Ujjwal\",\"Shweta\",\"Ratnesh\",\"Arrow\"\n",
    "college_friends = \"Abhishek\",\"Snigdha\",\"Amit\",\"Banerjee\"\n",
    "\n",
    "# can tuples be concatented \n",
    "# can tuples be reassigned a value \n",
    "\n",
    "print(\"School friends = {}, Number of friends = {}\".format(school_friends,len(school_friends)))\n",
    "print(\"Collge friends = {}, Number of friends = {}\".format(college_friends,len(college_friends)))\n",
    "\n",
    "total_friends = school_friends + college_friends \n",
    "print(total_friends)\n"
   ]
  },
  {
   "cell_type": "code",
   "execution_count": 22,
   "id": "c451f000",
   "metadata": {},
   "outputs": [
    {
     "data": {
      "text/plain": [
       "('Rahul', 'Ujjwal', 'Shweta', 'Ratnesh', 'Arrow')"
      ]
     },
     "execution_count": 22,
     "metadata": {},
     "output_type": "execute_result"
    }
   ],
   "source": [
    "school_friends"
   ]
  },
  {
   "cell_type": "markdown",
   "id": "fb0a57c9",
   "metadata": {},
   "source": [
    "### Indexing in a tuple "
   ]
  },
  {
   "cell_type": "code",
   "execution_count": 24,
   "id": "4ecd21d7",
   "metadata": {},
   "outputs": [
    {
     "data": {
      "text/plain": [
       "('Ujjwal', 'Ratnesh')"
      ]
     },
     "execution_count": 24,
     "metadata": {},
     "output_type": "execute_result"
    }
   ],
   "source": [
    "school_friends[1], school_friends[-2]"
   ]
  },
  {
   "cell_type": "markdown",
   "id": "1f2f2c83",
   "metadata": {},
   "source": [
    "### Slicing a tuple "
   ]
  },
  {
   "cell_type": "code",
   "execution_count": 25,
   "id": "9dc9b556",
   "metadata": {},
   "outputs": [
    {
     "data": {
      "text/plain": [
       "('Abhishek', 'Snigdha', 'Amit', 'Banerjee')"
      ]
     },
     "execution_count": 25,
     "metadata": {},
     "output_type": "execute_result"
    }
   ],
   "source": [
    "college_friends"
   ]
  },
  {
   "cell_type": "code",
   "execution_count": 26,
   "id": "ca49da5e",
   "metadata": {},
   "outputs": [
    {
     "data": {
      "text/plain": [
       "('Abhishek', 'Snigdha', 'Amit')"
      ]
     },
     "execution_count": 26,
     "metadata": {},
     "output_type": "execute_result"
    }
   ],
   "source": [
    "college_friends[:3]"
   ]
  },
  {
   "cell_type": "code",
   "execution_count": 27,
   "id": "957c4f38",
   "metadata": {},
   "outputs": [
    {
     "data": {
      "text/plain": [
       "('Abhishek', 'Snigdha', 'Amit', 'Banerjee')"
      ]
     },
     "execution_count": 27,
     "metadata": {},
     "output_type": "execute_result"
    }
   ],
   "source": [
    "college_friends"
   ]
  },
  {
   "cell_type": "code",
   "execution_count": 29,
   "id": "73bf47f5",
   "metadata": {},
   "outputs": [
    {
     "ename": "TypeError",
     "evalue": "'tuple' object does not support item assignment",
     "output_type": "error",
     "traceback": [
      "\u001b[1;31m---------------------------------------------------------------------------\u001b[0m",
      "\u001b[1;31mTypeError\u001b[0m                                 Traceback (most recent call last)",
      "Input \u001b[1;32mIn [29]\u001b[0m, in \u001b[0;36m<cell line: 1>\u001b[1;34m()\u001b[0m\n\u001b[1;32m----> 1\u001b[0m college_friends[\u001b[38;5;241m0\u001b[39m] \u001b[38;5;241m=\u001b[39m \u001b[38;5;124m'\u001b[39m\u001b[38;5;124mSomani\u001b[39m\u001b[38;5;124m'\u001b[39m\n",
      "\u001b[1;31mTypeError\u001b[0m: 'tuple' object does not support item assignment"
     ]
    }
   ],
   "source": [
    "college_friends[0] = 'Somani'"
   ]
  },
  {
   "cell_type": "code",
   "execution_count": 30,
   "id": "0607e836",
   "metadata": {},
   "outputs": [],
   "source": [
    "t1 = 1,2,3\n",
    "t2 = 1,2,3 "
   ]
  },
  {
   "cell_type": "code",
   "execution_count": 31,
   "id": "e1fb37ab",
   "metadata": {},
   "outputs": [
    {
     "data": {
      "text/plain": [
       "(2153444297984, 2153415919424)"
      ]
     },
     "execution_count": 31,
     "metadata": {},
     "output_type": "execute_result"
    }
   ],
   "source": [
    "id(t1), id(t2)"
   ]
  },
  {
   "cell_type": "code",
   "execution_count": 32,
   "id": "c024552c",
   "metadata": {},
   "outputs": [],
   "source": [
    "t1 = 100,200,300"
   ]
  },
  {
   "cell_type": "code",
   "execution_count": 33,
   "id": "3f99ae6f",
   "metadata": {},
   "outputs": [
    {
     "data": {
      "text/plain": [
       "2153444072320"
      ]
     },
     "execution_count": 33,
     "metadata": {},
     "output_type": "execute_result"
    }
   ],
   "source": [
    "id(t1)"
   ]
  },
  {
   "cell_type": "markdown",
   "id": "b10bd801",
   "metadata": {},
   "source": [
    "## Can we make changes to an element in a tuple. If so how ? \n",
    "***"
   ]
  },
  {
   "cell_type": "code",
   "execution_count": 34,
   "id": "674bc2ab",
   "metadata": {},
   "outputs": [],
   "source": [
    "t = 'rahul',42,'software professional','Abu Dhabi'"
   ]
  },
  {
   "cell_type": "code",
   "execution_count": 35,
   "id": "e42b3236",
   "metadata": {},
   "outputs": [],
   "source": [
    "t2 = 1,2,3,4,5,6,7,8,9"
   ]
  },
  {
   "cell_type": "code",
   "execution_count": 36,
   "id": "3d784e06",
   "metadata": {},
   "outputs": [
    {
     "data": {
      "text/plain": [
       "(1, 2, 3, 4, 5, 6, 7, 8, 9)"
      ]
     },
     "execution_count": 36,
     "metadata": {},
     "output_type": "execute_result"
    }
   ],
   "source": [
    "t2"
   ]
  },
  {
   "cell_type": "code",
   "execution_count": 37,
   "id": "a37f5cb5",
   "metadata": {},
   "outputs": [
    {
     "data": {
      "text/plain": [
       "(1, 2, 3, 4, 5)"
      ]
     },
     "execution_count": 37,
     "metadata": {},
     "output_type": "execute_result"
    }
   ],
   "source": [
    "t2[0:5]"
   ]
  },
  {
   "cell_type": "code",
   "execution_count": 38,
   "id": "9f15603e",
   "metadata": {},
   "outputs": [
    {
     "data": {
      "text/plain": [
       "(1, 2, 3, 4, 5)"
      ]
     },
     "execution_count": 38,
     "metadata": {},
     "output_type": "execute_result"
    }
   ],
   "source": [
    "t2[0:5:1]"
   ]
  },
  {
   "cell_type": "code",
   "execution_count": 39,
   "id": "006c3007",
   "metadata": {},
   "outputs": [
    {
     "data": {
      "text/plain": [
       "(1, 3, 5)"
      ]
     },
     "execution_count": 39,
     "metadata": {},
     "output_type": "execute_result"
    }
   ],
   "source": [
    "t2[0:5:2]"
   ]
  },
  {
   "cell_type": "code",
   "execution_count": 42,
   "id": "e824537d",
   "metadata": {},
   "outputs": [
    {
     "name": "stdout",
     "output_type": "stream",
     "text": [
      " id of t = 0x1f56346db20\n",
      "--------------------Trying to change an element in the tuple--------------------\n",
      " Modified tuple = ('Somani', 42, 'software professional', 'Abu Dhabi') and id = 0x1f56346d800\n"
     ]
    }
   ],
   "source": [
    "t = 'rahul',42,'software professional','Abu Dhabi'\n",
    "print(\" id of t = {}\".format(hex(id(t))))\n",
    "print(\"Trying to change an element in the tuple\".center(80,'-'))\n",
    "\n",
    "# Step 1. Change the tuple to a list \n",
    "# step 2. Make changes in the list ( as list are mutable type ds)\n",
    "# step3. Change the list back to tuple \n",
    "\n",
    "l = list(t)\n",
    "l[0] = 'Somani'\n",
    "t = tuple(l)\n",
    "print(\" Modified tuple = {} and id = {}\".format(t,hex(id(t))))\n",
    "\n"
   ]
  },
  {
   "cell_type": "markdown",
   "id": "ec627f87",
   "metadata": {},
   "source": [
    "### Look for the presence of an element in a tuple / list / string \n",
    "***"
   ]
  },
  {
   "cell_type": "code",
   "execution_count": 43,
   "id": "97017fc9",
   "metadata": {},
   "outputs": [],
   "source": [
    "average = 10.5,23.33,67,15.89,19.67,20.0,50.0"
   ]
  },
  {
   "cell_type": "code",
   "execution_count": 44,
   "id": "1022356f",
   "metadata": {},
   "outputs": [
    {
     "data": {
      "text/plain": [
       "(2153443957664, tuple)"
      ]
     },
     "execution_count": 44,
     "metadata": {},
     "output_type": "execute_result"
    }
   ],
   "source": [
    "id(average), type(average)"
   ]
  },
  {
   "cell_type": "code",
   "execution_count": 45,
   "id": "103d4ad1",
   "metadata": {},
   "outputs": [
    {
     "name": "stdout",
     "output_type": "stream",
     "text": [
      "['__add__', '__class__', '__class_getitem__', '__contains__', '__delattr__', '__dir__', '__doc__', '__eq__', '__format__', '__ge__', '__getattribute__', '__getitem__', '__getnewargs__', '__gt__', '__hash__', '__init__', '__init_subclass__', '__iter__', '__le__', '__len__', '__lt__', '__mul__', '__ne__', '__new__', '__reduce__', '__reduce_ex__', '__repr__', '__rmul__', '__setattr__', '__sizeof__', '__str__', '__subclasshook__', 'count', 'index']\n"
     ]
    }
   ],
   "source": [
    "print(dir(tuple))"
   ]
  },
  {
   "cell_type": "code",
   "execution_count": 46,
   "id": "c735bfda",
   "metadata": {},
   "outputs": [
    {
     "data": {
      "text/plain": [
       "<slot wrapper '__contains__' of 'tuple' objects>"
      ]
     },
     "execution_count": 46,
     "metadata": {},
     "output_type": "execute_result"
    }
   ],
   "source": [
    "tuple.__contains__"
   ]
  },
  {
   "cell_type": "code",
   "execution_count": 49,
   "id": "6233365e",
   "metadata": {},
   "outputs": [],
   "source": [
    "average = 10.5,23.33,67,15.89,19.67,20.0,50.0\n",
    "\n",
    "result = 15.09 in average"
   ]
  },
  {
   "cell_type": "code",
   "execution_count": 50,
   "id": "92683787",
   "metadata": {},
   "outputs": [
    {
     "data": {
      "text/plain": [
       "False"
      ]
     },
     "execution_count": 50,
     "metadata": {},
     "output_type": "execute_result"
    }
   ],
   "source": [
    "result"
   ]
  },
  {
   "cell_type": "code",
   "execution_count": 51,
   "id": "0dc1d673",
   "metadata": {},
   "outputs": [
    {
     "data": {
      "text/plain": [
       "True"
      ]
     },
     "execution_count": 51,
     "metadata": {},
     "output_type": "execute_result"
    }
   ],
   "source": [
    "average.__contains__(50.0)"
   ]
  },
  {
   "cell_type": "markdown",
   "id": "64d5d4c0",
   "metadata": {},
   "source": [
    "### Points to ponder \n",
    "***\n",
    "When we use the in keyword, python goes and looks for the implementation of __contains__ . If it has \n",
    "been implemented , it gives us the result, otherwise throws an error "
   ]
  },
  {
   "cell_type": "code",
   "execution_count": 53,
   "id": "19044c12",
   "metadata": {},
   "outputs": [
    {
     "name": "stdout",
     "output_type": "stream",
     "text": [
      "['__add__', '__class__', '__contains__', '__delattr__', '__dir__', '__doc__', '__eq__', '__format__', '__ge__', '__getattribute__', '__getitem__', '__getnewargs__', '__gt__', '__hash__', '__init__', '__init_subclass__', '__iter__', '__le__', '__len__', '__lt__', '__mod__', '__mul__', '__ne__', '__new__', '__reduce__', '__reduce_ex__', '__repr__', '__rmod__', '__rmul__', '__setattr__', '__sizeof__', '__str__', '__subclasshook__', 'capitalize', 'casefold', 'center', 'count', 'encode', 'endswith', 'expandtabs', 'find', 'format', 'format_map', 'index', 'isalnum', 'isalpha', 'isascii', 'isdecimal', 'isdigit', 'isidentifier', 'islower', 'isnumeric', 'isprintable', 'isspace', 'istitle', 'isupper', 'join', 'ljust', 'lower', 'lstrip', 'maketrans', 'partition', 'removeprefix', 'removesuffix', 'replace', 'rfind', 'rindex', 'rjust', 'rpartition', 'rsplit', 'rstrip', 'split', 'splitlines', 'startswith', 'strip', 'swapcase', 'title', 'translate', 'upper', 'zfill']\n"
     ]
    },
    {
     "data": {
      "text/plain": [
       "True"
      ]
     },
     "execution_count": 53,
     "metadata": {},
     "output_type": "execute_result"
    }
   ],
   "source": [
    "msg = 'Hello world'\n",
    "# see whether __contains__ is implemented in the string class \n",
    "print(dir(msg))\n",
    "msg.__contains__('H')"
   ]
  },
  {
   "cell_type": "code",
   "execution_count": 54,
   "id": "ffd94610",
   "metadata": {},
   "outputs": [
    {
     "name": "stdout",
     "output_type": "stream",
     "text": [
      "['__abs__', '__add__', '__and__', '__bool__', '__ceil__', '__class__', '__delattr__', '__dir__', '__divmod__', '__doc__', '__eq__', '__float__', '__floor__', '__floordiv__', '__format__', '__ge__', '__getattribute__', '__getnewargs__', '__gt__', '__hash__', '__index__', '__init__', '__init_subclass__', '__int__', '__invert__', '__le__', '__lshift__', '__lt__', '__mod__', '__mul__', '__ne__', '__neg__', '__new__', '__or__', '__pos__', '__pow__', '__radd__', '__rand__', '__rdivmod__', '__reduce__', '__reduce_ex__', '__repr__', '__rfloordiv__', '__rlshift__', '__rmod__', '__rmul__', '__ror__', '__round__', '__rpow__', '__rrshift__', '__rshift__', '__rsub__', '__rtruediv__', '__rxor__', '__setattr__', '__sizeof__', '__str__', '__sub__', '__subclasshook__', '__truediv__', '__trunc__', '__xor__', 'as_integer_ratio', 'bit_count', 'bit_length', 'conjugate', 'denominator', 'from_bytes', 'imag', 'numerator', 'real', 'to_bytes']\n"
     ]
    }
   ],
   "source": [
    "print(dir(int))"
   ]
  },
  {
   "cell_type": "code",
   "execution_count": 56,
   "id": "9326604f",
   "metadata": {},
   "outputs": [
    {
     "data": {
      "text/plain": [
       "False"
      ]
     },
     "execution_count": 56,
     "metadata": {},
     "output_type": "execute_result"
    }
   ],
   "source": [
    "'__contains__' in dir(int)\n",
    "# This is the reason that we cannot use the in keyword to look for specific elements in an integer class"
   ]
  },
  {
   "cell_type": "code",
   "execution_count": 57,
   "id": "20798b7c",
   "metadata": {},
   "outputs": [
    {
     "data": {
      "text/plain": [
       "<method '__floor__' of 'int' objects>"
      ]
     },
     "execution_count": 57,
     "metadata": {},
     "output_type": "execute_result"
    }
   ],
   "source": [
    "int.__floor__"
   ]
  },
  {
   "cell_type": "code",
   "execution_count": 58,
   "id": "54b35103",
   "metadata": {},
   "outputs": [
    {
     "name": "stdout",
     "output_type": "stream",
     "text": [
      "Help on method_descriptor:\n",
      "\n",
      "__floor__(...)\n",
      "    Flooring an Integral returns itself.\n",
      "\n"
     ]
    }
   ],
   "source": [
    "help(int.__floor__)"
   ]
  },
  {
   "cell_type": "code",
   "execution_count": 61,
   "id": "c6645477",
   "metadata": {},
   "outputs": [
    {
     "data": {
      "text/plain": [
       "23"
      ]
     },
     "execution_count": 61,
     "metadata": {},
     "output_type": "execute_result"
    }
   ],
   "source": [
    "# The use of // , internally calls the _floor__\n",
    "23.54.__floor__()"
   ]
  },
  {
   "cell_type": "code",
   "execution_count": 63,
   "id": "746d1496",
   "metadata": {},
   "outputs": [
    {
     "data": {
      "text/plain": [
       "12"
      ]
     },
     "execution_count": 63,
     "metadata": {},
     "output_type": "execute_result"
    }
   ],
   "source": [
    "12.4.__floor__()"
   ]
  },
  {
   "cell_type": "code",
   "execution_count": 65,
   "id": "fcc7446d",
   "metadata": {},
   "outputs": [
    {
     "data": {
      "text/plain": [
       "'Flooring an Integral returns itself.'"
      ]
     },
     "execution_count": 65,
     "metadata": {},
     "output_type": "execute_result"
    }
   ],
   "source": [
    "int.__floor__.__doc__"
   ]
  },
  {
   "cell_type": "code",
   "execution_count": 66,
   "id": "f950d575",
   "metadata": {},
   "outputs": [
    {
     "data": {
      "text/plain": [
       "'Return the floor as an Integral.'"
      ]
     },
     "execution_count": 66,
     "metadata": {},
     "output_type": "execute_result"
    }
   ],
   "source": [
    "float.__floor__.__doc__"
   ]
  },
  {
   "cell_type": "code",
   "execution_count": 68,
   "id": "c5fedaed",
   "metadata": {},
   "outputs": [
    {
     "name": "stdout",
     "output_type": "stream",
     "text": [
      "Enter a floating value23.89\n",
      "23\n"
     ]
    }
   ],
   "source": [
    "val = float(input(\"Enter a floating value\"))\n",
    "print(val.__floor__())"
   ]
  },
  {
   "cell_type": "code",
   "execution_count": null,
   "id": "66951823",
   "metadata": {},
   "outputs": [],
   "source": []
  }
 ],
 "metadata": {
  "kernelspec": {
   "display_name": "Python 3 (ipykernel)",
   "language": "python",
   "name": "python3"
  },
  "language_info": {
   "codemirror_mode": {
    "name": "ipython",
    "version": 3
   },
   "file_extension": ".py",
   "mimetype": "text/x-python",
   "name": "python",
   "nbconvert_exporter": "python",
   "pygments_lexer": "ipython3",
   "version": "3.10.4"
  }
 },
 "nbformat": 4,
 "nbformat_minor": 5
}
