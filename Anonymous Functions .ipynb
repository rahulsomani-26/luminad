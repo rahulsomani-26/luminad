{
 "cells": [
  {
   "cell_type": "markdown",
   "id": "a11a2a62",
   "metadata": {},
   "source": [
    "# Anonymous Functions \n",
    "***\n",
    "- Function that has no name are known as Anonymous functions \n",
    "- They are also referred to as lambda functions "
   ]
  },
  {
   "cell_type": "markdown",
   "id": "d1438d0b",
   "metadata": {},
   "source": [
    "# Syntax to create a Anonymous function \n",
    " ``- Use the keyword lambda followed by the argument your function will take, followed by : and a return val``\n",
    "***"
   ]
  },
  {
   "cell_type": "code",
   "execution_count": 1,
   "id": "54bf5f93",
   "metadata": {},
   "outputs": [],
   "source": [
    "def adder(a,b):\n",
    "    return a+b "
   ]
  },
  {
   "cell_type": "code",
   "execution_count": 2,
   "id": "70fdd336",
   "metadata": {},
   "outputs": [
    {
     "data": {
      "text/plain": [
       "50"
      ]
     },
     "execution_count": 2,
     "metadata": {},
     "output_type": "execute_result"
    }
   ],
   "source": [
    "adder(20,30)"
   ]
  },
  {
   "cell_type": "code",
   "execution_count": 3,
   "id": "de76b56a",
   "metadata": {},
   "outputs": [
    {
     "data": {
      "text/plain": [
       "<function __main__.<lambda>(a, b)>"
      ]
     },
     "execution_count": 3,
     "metadata": {},
     "output_type": "execute_result"
    }
   ],
   "source": [
    "lambda a,b:a+b"
   ]
  },
  {
   "cell_type": "code",
   "execution_count": 4,
   "id": "2a751ee4",
   "metadata": {},
   "outputs": [],
   "source": [
    "f = lambda a,b:a+b"
   ]
  },
  {
   "cell_type": "code",
   "execution_count": 6,
   "id": "b3edfa10",
   "metadata": {},
   "outputs": [
    {
     "data": {
      "text/plain": [
       "<function __main__.<lambda>(a, b)>"
      ]
     },
     "execution_count": 6,
     "metadata": {},
     "output_type": "execute_result"
    }
   ],
   "source": [
    "f"
   ]
  },
  {
   "cell_type": "code",
   "execution_count": 7,
   "id": "9d49f808",
   "metadata": {},
   "outputs": [
    {
     "data": {
      "text/plain": [
       "30"
      ]
     },
     "execution_count": 7,
     "metadata": {},
     "output_type": "execute_result"
    }
   ],
   "source": [
    "f(10,20)"
   ]
  },
  {
   "cell_type": "markdown",
   "id": "807c5a89",
   "metadata": {},
   "source": [
    "Write a function that takes list of friends as an argument.\n",
    "That function should then ask for a user input \n",
    "Based on the input, look for the presence of the friend in the list \n",
    "If found, print \"Friend Found\", otherwise print \" Friend not found \""
   ]
  },
  {
   "cell_type": "code",
   "execution_count": 8,
   "id": "2d287434",
   "metadata": {},
   "outputs": [],
   "source": [
    "def my_func(seq):\n",
    "    \"\"\"Looks for a specific friend in the list and returns True if found. False otherwise\"\"\"\n",
    "    name = input(\"Enter name to look for \")\n",
    "    if name in seq:\n",
    "        print(\" Found \")\n",
    "    else:\n",
    "        print(\"Not found \")"
   ]
  },
  {
   "cell_type": "code",
   "execution_count": 9,
   "id": "a9643f42",
   "metadata": {},
   "outputs": [
    {
     "data": {
      "text/plain": [
       "<function __main__.my_func(seq)>"
      ]
     },
     "execution_count": 9,
     "metadata": {},
     "output_type": "execute_result"
    }
   ],
   "source": [
    "my_func"
   ]
  },
  {
   "cell_type": "code",
   "execution_count": 10,
   "id": "958b882c",
   "metadata": {},
   "outputs": [
    {
     "data": {
      "text/plain": [
       "'Looks for a specific friend in the list and returns True if found. False otherwise'"
      ]
     },
     "execution_count": 10,
     "metadata": {},
     "output_type": "execute_result"
    }
   ],
   "source": [
    "my_func.__doc__"
   ]
  },
  {
   "cell_type": "code",
   "execution_count": 11,
   "id": "08deb5c9",
   "metadata": {},
   "outputs": [
    {
     "name": "stdout",
     "output_type": "stream",
     "text": [
      "Help on function my_func in module __main__:\n",
      "\n",
      "my_func(seq)\n",
      "    Looks for a specific friend in the list and returns True if found. False otherwise\n",
      "\n"
     ]
    }
   ],
   "source": [
    "help(my_func)"
   ]
  },
  {
   "cell_type": "code",
   "execution_count": 14,
   "id": "6efbf210",
   "metadata": {},
   "outputs": [
    {
     "name": "stdout",
     "output_type": "stream",
     "text": [
      "Enter name to look for ajay\n",
      "Not found \n"
     ]
    }
   ],
   "source": [
    "friend_list = [\"Rahul\",\"Ajay\",\"Vibha\",\"Ujjwal\"]\n",
    "my_func(friend_list)"
   ]
  },
  {
   "cell_type": "markdown",
   "id": "a829ff4e",
   "metadata": {},
   "source": [
    "Function to reverse a sequence ( string, list, tuple)"
   ]
  },
  {
   "cell_type": "code",
   "execution_count": 16,
   "id": "bf07b31a",
   "metadata": {},
   "outputs": [],
   "source": [
    "def reverse(seq):\n",
    "    \"\"\">>>reverse(\"rahul\")\n",
    "       >>>\"luhar\"\n",
    "    \"\"\"\n",
    "    return seq[::-1]"
   ]
  },
  {
   "cell_type": "code",
   "execution_count": 17,
   "id": "2c2e2d7d",
   "metadata": {},
   "outputs": [
    {
     "data": {
      "text/plain": [
       "<function __main__.reverse(seq)>"
      ]
     },
     "execution_count": 17,
     "metadata": {},
     "output_type": "execute_result"
    }
   ],
   "source": [
    "reverse"
   ]
  },
  {
   "cell_type": "code",
   "execution_count": 18,
   "id": "fde9dfca",
   "metadata": {},
   "outputs": [
    {
     "name": "stdout",
     "output_type": "stream",
     "text": [
      "Help on function reverse in module __main__:\n",
      "\n",
      "reverse(seq)\n",
      "    >>>reverse(\"rahul\")\n",
      "    >>>\"luhar\"\n",
      "\n"
     ]
    }
   ],
   "source": [
    "help(reverse)"
   ]
  },
  {
   "cell_type": "code",
   "execution_count": 19,
   "id": "1adfef51",
   "metadata": {},
   "outputs": [
    {
     "data": {
      "text/plain": [
       "'luhar'"
      ]
     },
     "execution_count": 19,
     "metadata": {},
     "output_type": "execute_result"
    }
   ],
   "source": [
    "reverse(\"rahul\")"
   ]
  },
  {
   "cell_type": "code",
   "execution_count": 20,
   "id": "008230d5",
   "metadata": {},
   "outputs": [
    {
     "data": {
      "text/plain": [
       "[5, 4, 3, 2, 1]"
      ]
     },
     "execution_count": 20,
     "metadata": {},
     "output_type": "execute_result"
    }
   ],
   "source": [
    "reverse([1,2,3,4,5])"
   ]
  },
  {
   "cell_type": "code",
   "execution_count": 21,
   "id": "5c5ee92d",
   "metadata": {},
   "outputs": [
    {
     "data": {
      "text/plain": [
       "(500, 400, 300, 200, 100)"
      ]
     },
     "execution_count": 21,
     "metadata": {},
     "output_type": "execute_result"
    }
   ],
   "source": [
    "reverse((100,200,300,400,500))"
   ]
  },
  {
   "cell_type": "markdown",
   "id": "b7ea1bb1",
   "metadata": {},
   "source": [
    "## Write a function that tests for the type of input and will print the input type "
   ]
  },
  {
   "cell_type": "code",
   "execution_count": 22,
   "id": "88b293a9",
   "metadata": {},
   "outputs": [],
   "source": [
    "def show_type(data):\n",
    "    print(type(data))\n",
    "    "
   ]
  },
  {
   "cell_type": "code",
   "execution_count": 23,
   "id": "64810589",
   "metadata": {},
   "outputs": [
    {
     "name": "stdout",
     "output_type": "stream",
     "text": [
      "<class 'int'>\n"
     ]
    }
   ],
   "source": [
    "show_type(23)"
   ]
  },
  {
   "cell_type": "code",
   "execution_count": 24,
   "id": "f06c9a1e",
   "metadata": {},
   "outputs": [
    {
     "name": "stdout",
     "output_type": "stream",
     "text": [
      "<class 'str'>\n"
     ]
    }
   ],
   "source": [
    "show_type(\"rahul\")"
   ]
  },
  {
   "cell_type": "code",
   "execution_count": 25,
   "id": "2c6d58c3",
   "metadata": {},
   "outputs": [
    {
     "name": "stdout",
     "output_type": "stream",
     "text": [
      "<class 'bool'>\n"
     ]
    }
   ],
   "source": [
    "show_type(True)"
   ]
  },
  {
   "cell_type": "code",
   "execution_count": 26,
   "id": "a67ae13c",
   "metadata": {},
   "outputs": [
    {
     "name": "stdout",
     "output_type": "stream",
     "text": [
      "<class 'list'>\n"
     ]
    }
   ],
   "source": [
    "show_type([1,2])"
   ]
  },
  {
   "cell_type": "code",
   "execution_count": 27,
   "id": "b3bfce2b",
   "metadata": {},
   "outputs": [
    {
     "name": "stdout",
     "output_type": "stream",
     "text": [
      "<class 'set'>\n"
     ]
    }
   ],
   "source": [
    "show_type({1,2})"
   ]
  },
  {
   "cell_type": "markdown",
   "id": "76c63c7d",
   "metadata": {},
   "source": [
    "write a function that takes a list of integers, and returns a list that only consist of unique elements "
   ]
  },
  {
   "cell_type": "code",
   "execution_count": 28,
   "id": "7d704481",
   "metadata": {},
   "outputs": [],
   "source": [
    "l = [1,2,3,4,1,2,5,3,1,2]"
   ]
  },
  {
   "cell_type": "code",
   "execution_count": 29,
   "id": "83683b54",
   "metadata": {},
   "outputs": [
    {
     "data": {
      "text/plain": [
       "(10, [1, 2, 3, 4, 1, 2, 5, 3, 1, 2])"
      ]
     },
     "execution_count": 29,
     "metadata": {},
     "output_type": "execute_result"
    }
   ],
   "source": [
    "len(l), l"
   ]
  },
  {
   "cell_type": "code",
   "execution_count": 39,
   "id": "9c255ed7",
   "metadata": {},
   "outputs": [],
   "source": [
    "def return_unique(seq):\n",
    "    \"\"\"returns a list of unique elements\"\"\"\n",
    "    temp = set(seq)\n",
    "    print(temp)\n",
    "    seq = list(temp)\n",
    "    return seq\n",
    "    \n",
    "    "
   ]
  },
  {
   "cell_type": "code",
   "execution_count": 40,
   "id": "db86b036",
   "metadata": {},
   "outputs": [
    {
     "name": "stdout",
     "output_type": "stream",
     "text": [
      "{1, 2, 3, 4, 5, 6, 7}\n"
     ]
    },
    {
     "data": {
      "text/plain": [
       "[1, 2, 3, 4, 5, 6, 7]"
      ]
     },
     "execution_count": 40,
     "metadata": {},
     "output_type": "execute_result"
    }
   ],
   "source": [
    "l = [1,2,3,1,2,1,2,4,5,6,7]\n",
    "return_unique(l)"
   ]
  },
  {
   "cell_type": "code",
   "execution_count": 41,
   "id": "b11d811d",
   "metadata": {},
   "outputs": [
    {
     "data": {
      "text/plain": [
       "{}"
      ]
     },
     "execution_count": 41,
     "metadata": {},
     "output_type": "execute_result"
    }
   ],
   "source": [
    "return_unique.__dict__"
   ]
  },
  {
   "cell_type": "code",
   "execution_count": 42,
   "id": "cc511780",
   "metadata": {},
   "outputs": [],
   "source": [
    "return_unique.version = '1.0.0'\n",
    "return_unique.author = 'Rahul Somani'"
   ]
  },
  {
   "cell_type": "code",
   "execution_count": 43,
   "id": "e4040c4f",
   "metadata": {},
   "outputs": [
    {
     "data": {
      "text/plain": [
       "{'version': '1.0.0', 'author': 'Rahul Somani'}"
      ]
     },
     "execution_count": 43,
     "metadata": {},
     "output_type": "execute_result"
    }
   ],
   "source": [
    "return_unique.__dict__"
   ]
  },
  {
   "cell_type": "code",
   "execution_count": null,
   "id": "0e202ff9",
   "metadata": {},
   "outputs": [],
   "source": []
  },
  {
   "cell_type": "code",
   "execution_count": 34,
   "id": "aa27cd06",
   "metadata": {},
   "outputs": [
    {
     "data": {
      "text/plain": [
       "(range, type)"
      ]
     },
     "execution_count": 34,
     "metadata": {},
     "output_type": "execute_result"
    }
   ],
   "source": [
    "range, type(range)"
   ]
  },
  {
   "cell_type": "code",
   "execution_count": 33,
   "id": "2ac8d9da",
   "metadata": {},
   "outputs": [
    {
     "name": "stdout",
     "output_type": "stream",
     "text": [
      "range(stop) -> range object\n",
      "range(start, stop[, step]) -> range object\n",
      "\n",
      "Return an object that produces a sequence of integers from start (inclusive)\n",
      "to stop (exclusive) by step.  range(i, j) produces i, i+1, i+2, ..., j-1.\n",
      "start defaults to 0, and stop is omitted!  range(4) produces 0, 1, 2, 3.\n",
      "These are exactly the valid indices for a list of 4 elements.\n",
      "When step is given, it specifies the increment (or decrement).\n"
     ]
    }
   ],
   "source": [
    "print(range.__doc__)"
   ]
  },
  {
   "cell_type": "code",
   "execution_count": 35,
   "id": "17cdf394",
   "metadata": {},
   "outputs": [
    {
     "name": "stdout",
     "output_type": "stream",
     "text": [
      "0\t1\t2\t3\t4\t5\t6\t7\t8\t9\t"
     ]
    }
   ],
   "source": [
    "for i in range(10):\n",
    "    print(i,end='\\t')"
   ]
  },
  {
   "cell_type": "code",
   "execution_count": 38,
   "id": "29080c83",
   "metadata": {},
   "outputs": [
    {
     "name": "stdout",
     "output_type": "stream",
     "text": [
      "10\t11\t12\t13\t14\t15\t16\t17\t18\t19\t20\t21\t22\t23\t24\t25\t26\t27\t28\t29\t30\t31\t32\t33\t34\t35\t36\t37\t38\t39\t40\t41\t42\t43\t44\t45\t46\t47\t48\t49\t50\t51\t52\t53\t54\t55\t56\t57\t58\t59\t60\t61\t62\t63\t64\t65\t66\t67\t68\t69\t70\t71\t72\t73\t74\t75\t76\t77\t78\t79\t80\t81\t82\t83\t84\t85\t86\t87\t88\t89\t90\t91\t92\t93\t94\t95\t96\t97\t98\t99\t"
     ]
    }
   ],
   "source": [
    "for element in range(10,100):\n",
    "    print(element,end='\\t')"
   ]
  },
  {
   "cell_type": "markdown",
   "id": "9a705327",
   "metadata": {},
   "source": [
    "### write a function that mimics the range function/ method \n",
    "***"
   ]
  },
  {
   "cell_type": "markdown",
   "id": "d0586d8b",
   "metadata": {},
   "source": [
    "### Write a function that takes sequence as an input, and returns the average\n",
    "***"
   ]
  },
  {
   "cell_type": "code",
   "execution_count": 3,
   "id": "457638de",
   "metadata": {},
   "outputs": [],
   "source": [
    "def mrange(start=0,step = 1):\n",
    "    \"\"\"Mimics the range function/method\n",
    "       Returns a list of numbers \n",
    "       >>> mrange(10)\n",
    "       >>> [0,1,2,3,4,5,6,7,8,9]\n",
    "    \"\"\"\n",
    "    l =[]\n",
    "    while start < 50:\n",
    "        l.append(start)\n",
    "        start = start + step\n",
    "    return l \n",
    "    "
   ]
  },
  {
   "cell_type": "code",
   "execution_count": 5,
   "id": "d921f46e",
   "metadata": {},
   "outputs": [
    {
     "name": "stdout",
     "output_type": "stream",
     "text": [
      "[0, 1, 2, 3, 4, 5, 6, 7, 8, 9, 10, 11, 12, 13, 14, 15, 16, 17, 18, 19, 20, 21, 22, 23, 24, 25, 26, 27, 28, 29, 30, 31, 32, 33, 34, 35, 36, 37, 38, 39, 40, 41, 42, 43, 44, 45, 46, 47, 48, 49]\n"
     ]
    }
   ],
   "source": [
    "print(mrange())"
   ]
  },
  {
   "cell_type": "code",
   "execution_count": 6,
   "id": "678baa61",
   "metadata": {},
   "outputs": [
    {
     "name": "stdout",
     "output_type": "stream",
     "text": [
      "[10, 12, 14, 16, 18, 20, 22, 24, 26, 28, 30, 32, 34, 36, 38, 40, 42, 44, 46, 48]\n"
     ]
    }
   ],
   "source": [
    "print(mrange(10,2))"
   ]
  },
  {
   "cell_type": "code",
   "execution_count": 7,
   "id": "74701b29",
   "metadata": {},
   "outputs": [
    {
     "name": "stdout",
     "output_type": "stream",
     "text": [
      "Help on function mrange in module __main__:\n",
      "\n",
      "mrange(start=0, step=1)\n",
      "    Mimics the range function/method\n",
      "    Returns a list of numbers \n",
      "    >>> mrange(10)\n",
      "    >>> [0,1,2,3,4,5,6,7,8,9]\n",
      "\n"
     ]
    }
   ],
   "source": [
    "help(mrange)"
   ]
  },
  {
   "cell_type": "code",
   "execution_count": 8,
   "id": "b7037105",
   "metadata": {},
   "outputs": [
    {
     "data": {
      "text/plain": [
       "'Mimics the range function/method\\n       Returns a list of numbers \\n       >>> mrange(10)\\n       >>> [0,1,2,3,4,5,6,7,8,9]\\n    '"
      ]
     },
     "execution_count": 8,
     "metadata": {},
     "output_type": "execute_result"
    }
   ],
   "source": [
    "mrange.__doc__"
   ]
  },
  {
   "cell_type": "code",
   "execution_count": 14,
   "id": "c11ea515",
   "metadata": {},
   "outputs": [],
   "source": [
    "def averager(seq):\n",
    "    \"\"\" Returns the average of the sequence\"\"\"\n",
    "#     if type(seq) !=list or type(seq) !=tuple:\n",
    "#         print(\"Cannot find the average\")\n",
    "#         return \n",
    "    return sum(seq)/len(seq)"
   ]
  },
  {
   "cell_type": "code",
   "execution_count": 16,
   "id": "5289e19a",
   "metadata": {},
   "outputs": [
    {
     "data": {
      "text/plain": [
       "3.0"
      ]
     },
     "execution_count": 16,
     "metadata": {},
     "output_type": "execute_result"
    }
   ],
   "source": [
    "averager([1,2,3,4,5])"
   ]
  },
  {
   "cell_type": "code",
   "execution_count": 20,
   "id": "cea25b47",
   "metadata": {},
   "outputs": [],
   "source": [
    "def averager(seq):\n",
    "    \"\"\" Returns the average of the sequence\"\"\"\n",
    "    if type(seq) is list:\n",
    "         return sum(seq)/len(seq)\n",
    "    else:\n",
    "        print(\"Cannot find the average\")"
   ]
  },
  {
   "cell_type": "code",
   "execution_count": 21,
   "id": "d3df02c6",
   "metadata": {},
   "outputs": [
    {
     "name": "stdout",
     "output_type": "stream",
     "text": [
      "Cannot find the average\n"
     ]
    }
   ],
   "source": [
    "averager((1,2))"
   ]
  },
  {
   "cell_type": "code",
   "execution_count": 22,
   "id": "29f5c818",
   "metadata": {},
   "outputs": [
    {
     "data": {
      "text/plain": [
       "2.0"
      ]
     },
     "execution_count": 22,
     "metadata": {},
     "output_type": "execute_result"
    }
   ],
   "source": [
    "averager([1,2,3])"
   ]
  },
  {
   "cell_type": "code",
   "execution_count": null,
   "id": "43471b0e",
   "metadata": {},
   "outputs": [],
   "source": []
  }
 ],
 "metadata": {
  "kernelspec": {
   "display_name": "Python 3 (ipykernel)",
   "language": "python",
   "name": "python3"
  },
  "language_info": {
   "codemirror_mode": {
    "name": "ipython",
    "version": 3
   },
   "file_extension": ".py",
   "mimetype": "text/x-python",
   "name": "python",
   "nbconvert_exporter": "python",
   "pygments_lexer": "ipython3",
   "version": "3.10.4"
  }
 },
 "nbformat": 4,
 "nbformat_minor": 5
}
