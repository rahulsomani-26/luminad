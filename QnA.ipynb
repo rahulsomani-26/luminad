{
 "cells": [
  {
   "cell_type": "markdown",
   "id": "a7492642",
   "metadata": {},
   "source": [
    "# split\n",
    "***"
   ]
  },
  {
   "cell_type": "code",
   "execution_count": 1,
   "id": "d1ee4b21",
   "metadata": {},
   "outputs": [
    {
     "data": {
      "text/plain": [
       "<method 'split' of 'str' objects>"
      ]
     },
     "execution_count": 1,
     "metadata": {},
     "output_type": "execute_result"
    }
   ],
   "source": [
    "str.split"
   ]
  },
  {
   "cell_type": "code",
   "execution_count": 2,
   "id": "3fa6b1ef",
   "metadata": {},
   "outputs": [
    {
     "name": "stdout",
     "output_type": "stream",
     "text": [
      "Help on method_descriptor:\n",
      "\n",
      "split(self, /, sep=None, maxsplit=-1)\n",
      "    Return a list of the words in the string, using sep as the delimiter string.\n",
      "    \n",
      "    sep\n",
      "      The delimiter according which to split the string.\n",
      "      None (the default value) means split according to any whitespace,\n",
      "      and discard empty strings from the result.\n",
      "    maxsplit\n",
      "      Maximum number of splits to do.\n",
      "      -1 (the default value) means no limit.\n",
      "\n"
     ]
    }
   ],
   "source": [
    "help(str.split)"
   ]
  },
  {
   "cell_type": "code",
   "execution_count": null,
   "id": "98f89705",
   "metadata": {},
   "outputs": [],
   "source": []
  },
  {
   "cell_type": "code",
   "execution_count": 3,
   "id": "983f3ab6",
   "metadata": {},
   "outputs": [
    {
     "data": {
      "text/plain": [
       "['rahul', 'somani']"
      ]
     },
     "execution_count": 3,
     "metadata": {},
     "output_type": "execute_result"
    }
   ],
   "source": [
    "\"rahul somani\".split()"
   ]
  },
  {
   "cell_type": "code",
   "execution_count": 5,
   "id": "47ef5a00",
   "metadata": {},
   "outputs": [],
   "source": [
    "result = \"rahul@gmail.com\".split('@')"
   ]
  },
  {
   "cell_type": "code",
   "execution_count": 6,
   "id": "44180974",
   "metadata": {},
   "outputs": [
    {
     "data": {
      "text/plain": [
       "(list, ['rahul', 'gmail.com'], 1401742041664)"
      ]
     },
     "execution_count": 6,
     "metadata": {},
     "output_type": "execute_result"
    }
   ],
   "source": [
    "type(result), result, id(result)"
   ]
  },
  {
   "cell_type": "code",
   "execution_count": 7,
   "id": "16e3e98f",
   "metadata": {},
   "outputs": [
    {
     "data": {
      "text/plain": [
       "['Python', 'is', 'fun', '']"
      ]
     },
     "execution_count": 7,
     "metadata": {},
     "output_type": "execute_result"
    }
   ],
   "source": [
    "\"Python is fun \".split(\" \")"
   ]
  },
  {
   "cell_type": "code",
   "execution_count": 9,
   "id": "03f31286",
   "metadata": {},
   "outputs": [
    {
     "data": {
      "text/plain": [
       "['we', 'thepeople']"
      ]
     },
     "execution_count": 9,
     "metadata": {},
     "output_type": "execute_result"
    }
   ],
   "source": [
    "\"wearethepeople\".split(\"are\")"
   ]
  },
  {
   "cell_type": "code",
   "execution_count": 10,
   "id": "f76e004a",
   "metadata": {},
   "outputs": [
    {
     "data": {
      "text/plain": [
       "['Rahul,', ',Amit,Ashish']"
      ]
     },
     "execution_count": 10,
     "metadata": {},
     "output_type": "execute_result"
    }
   ],
   "source": [
    "\"Rahul,ujjwal,Amit,Ashish\".split(\"ujjwal\")"
   ]
  },
  {
   "cell_type": "code",
   "execution_count": 19,
   "id": "3262f00f",
   "metadata": {},
   "outputs": [],
   "source": [
    "result = \"Rahul,ujjwal,Amit,Ashish\".split(\",\")"
   ]
  },
  {
   "cell_type": "code",
   "execution_count": 20,
   "id": "f943a7ea",
   "metadata": {},
   "outputs": [
    {
     "data": {
      "text/plain": [
       "['Rahul', 'ujjwal', 'Amit', 'Ashish']"
      ]
     },
     "execution_count": 20,
     "metadata": {},
     "output_type": "execute_result"
    }
   ],
   "source": [
    "result"
   ]
  },
  {
   "cell_type": "code",
   "execution_count": 21,
   "id": "eb922e6a",
   "metadata": {},
   "outputs": [],
   "source": [
    "result[2]=None"
   ]
  },
  {
   "cell_type": "code",
   "execution_count": 23,
   "id": "d31aa95a",
   "metadata": {},
   "outputs": [],
   "source": [
    "result[2] = ''"
   ]
  },
  {
   "cell_type": "raw",
   "id": "1580265a",
   "metadata": {},
   "source": []
  },
  {
   "cell_type": "code",
   "execution_count": 24,
   "id": "d9f322ee",
   "metadata": {},
   "outputs": [
    {
     "data": {
      "text/plain": [
       "['Rahul', 'ujjwal', '', 'Ashish']"
      ]
     },
     "execution_count": 24,
     "metadata": {},
     "output_type": "execute_result"
    }
   ],
   "source": [
    "result"
   ]
  },
  {
   "cell_type": "code",
   "execution_count": 26,
   "id": "42e7bdcb",
   "metadata": {},
   "outputs": [],
   "source": [
    "result = 'Arun,Vijay,lokesh,Virat'.split(',')"
   ]
  },
  {
   "cell_type": "code",
   "execution_count": 27,
   "id": "33017b59",
   "metadata": {},
   "outputs": [
    {
     "data": {
      "text/plain": [
       "['Arun', 'Vijay', 'lokesh', 'Virat']"
      ]
     },
     "execution_count": 27,
     "metadata": {},
     "output_type": "execute_result"
    }
   ],
   "source": [
    "result "
   ]
  },
  {
   "cell_type": "code",
   "execution_count": 28,
   "id": "d7dee23e",
   "metadata": {},
   "outputs": [
    {
     "data": {
      "text/plain": [
       "'Vijay'"
      ]
     },
     "execution_count": 28,
     "metadata": {},
     "output_type": "execute_result"
    }
   ],
   "source": [
    "result[1]"
   ]
  },
  {
   "cell_type": "code",
   "execution_count": 29,
   "id": "6bf1c93d",
   "metadata": {},
   "outputs": [
    {
     "data": {
      "text/plain": [
       "'Vijay'"
      ]
     },
     "execution_count": 29,
     "metadata": {},
     "output_type": "execute_result"
    }
   ],
   "source": [
    "'Arun,Vijay,lokesh,Virat'.split(',')[1]"
   ]
  },
  {
   "cell_type": "code",
   "execution_count": 30,
   "id": "6f2e0eb1",
   "metadata": {},
   "outputs": [
    {
     "data": {
      "text/plain": [
       "'Vijay'"
      ]
     },
     "execution_count": 30,
     "metadata": {},
     "output_type": "execute_result"
    }
   ],
   "source": [
    "'Arun,Vijay,lokesh,Virat'.split(',').__getitem__(1)"
   ]
  },
  {
   "cell_type": "markdown",
   "id": "775ed919",
   "metadata": {},
   "source": [
    "'Arun,Vijay,lokesh,Virat'.split(',')\n",
    "\n",
    "output = ['Arun','Vijay,lokesh,Virat']\n",
    "\n"
   ]
  },
  {
   "cell_type": "code",
   "execution_count": 39,
   "id": "f1e8bb5f",
   "metadata": {},
   "outputs": [
    {
     "ename": "TypeError",
     "evalue": "can only concatenate str (not \"list\") to str",
     "output_type": "error",
     "traceback": [
      "\u001b[1;31m---------------------------------------------------------------------------\u001b[0m",
      "\u001b[1;31mTypeError\u001b[0m                                 Traceback (most recent call last)",
      "Input \u001b[1;32mIn [39]\u001b[0m, in \u001b[0;36m<cell line: 1>\u001b[1;34m()\u001b[0m\n\u001b[1;32m----> 1\u001b[0m \u001b[38;5;124;43m'\u001b[39;49m\u001b[38;5;124;43mArun,Vijay,lokesh,Virat\u001b[39;49m\u001b[38;5;124;43m'\u001b[39;49m\u001b[38;5;241;43m.\u001b[39;49m\u001b[43msplit\u001b[49m\u001b[43m(\u001b[49m\u001b[38;5;124;43m'\u001b[39;49m\u001b[38;5;124;43m,\u001b[39;49m\u001b[38;5;124;43m'\u001b[39;49m\u001b[43m)\u001b[49m\u001b[43m[\u001b[49m\u001b[38;5;241;43m0\u001b[39;49m\u001b[43m]\u001b[49m\u001b[43m \u001b[49m\u001b[38;5;241;43m+\u001b[39;49m\u001b[43m \u001b[49m\u001b[38;5;124;43m'\u001b[39;49m\u001b[38;5;124;43mArun,Vijay,lokesh,Virat\u001b[39;49m\u001b[38;5;124;43m'\u001b[39;49m\u001b[38;5;241;43m.\u001b[39;49m\u001b[43msplit\u001b[49m\u001b[43m(\u001b[49m\u001b[38;5;124;43m'\u001b[39;49m\u001b[38;5;124;43m,\u001b[39;49m\u001b[38;5;124;43m'\u001b[39;49m\u001b[43m)\u001b[49m\u001b[43m[\u001b[49m\u001b[38;5;241;43m1\u001b[39;49m\u001b[43m:\u001b[49m\u001b[43m]\u001b[49m\n",
      "\u001b[1;31mTypeError\u001b[0m: can only concatenate str (not \"list\") to str"
     ]
    }
   ],
   "source": [
    "'Arun,Vijay,lokesh,Virat'.split(',')[0] "
   ]
  },
  {
   "cell_type": "code",
   "execution_count": 44,
   "id": "b9300d1e",
   "metadata": {},
   "outputs": [
    {
     "data": {
      "text/plain": [
       "\"['Vijay', 'lokesh', 'Virat']\""
      ]
     },
     "execution_count": 44,
     "metadata": {},
     "output_type": "execute_result"
    }
   ],
   "source": [
    "\"\".join( str('Arun,Vijay,lokesh,Virat'.split(',')[1:]))"
   ]
  },
  {
   "cell_type": "code",
   "execution_count": 47,
   "id": "7edf5ada",
   "metadata": {},
   "outputs": [],
   "source": [
    "res = 'Arun,Vijay,lokesh,Virat'.split(',')\n",
    "result = []"
   ]
  },
  {
   "cell_type": "code",
   "execution_count": 56,
   "id": "f665171d",
   "metadata": {},
   "outputs": [
    {
     "data": {
      "text/plain": [
       "['Arun',\n",
       " 'Vijay',\n",
       " 'lokesh',\n",
       " 'Virat',\n",
       " 'Arun',\n",
       " 'V',\n",
       " 'i',\n",
       " 'j',\n",
       " 'a',\n",
       " 'y',\n",
       " 'l',\n",
       " 'o',\n",
       " 'k',\n",
       " 'e',\n",
       " 's',\n",
       " 'h',\n",
       " 'V',\n",
       " 'i',\n",
       " 'r',\n",
       " 'a',\n",
       " 't',\n",
       " 'Arun']"
      ]
     },
     "execution_count": 56,
     "metadata": {},
     "output_type": "execute_result"
    }
   ],
   "source": [
    "result\n"
   ]
  },
  {
   "cell_type": "code",
   "execution_count": 55,
   "id": "8edfa996",
   "metadata": {},
   "outputs": [
    {
     "data": {
      "text/plain": [
       "['Arun',\n",
       " 'Vijay',\n",
       " 'lokesh',\n",
       " 'Virat',\n",
       " 'Arun',\n",
       " 'V',\n",
       " 'i',\n",
       " 'j',\n",
       " 'a',\n",
       " 'y',\n",
       " 'l',\n",
       " 'o',\n",
       " 'k',\n",
       " 'e',\n",
       " 's',\n",
       " 'h',\n",
       " 'V',\n",
       " 'i',\n",
       " 'r',\n",
       " 'a',\n",
       " 't',\n",
       " 'Arun']"
      ]
     },
     "execution_count": 55,
     "metadata": {},
     "output_type": "execute_result"
    }
   ],
   "source": [
    "result"
   ]
  },
  {
   "cell_type": "code",
   "execution_count": null,
   "id": "041d6918",
   "metadata": {},
   "outputs": [],
   "source": []
  }
 ],
 "metadata": {
  "kernelspec": {
   "display_name": "Python 3 (ipykernel)",
   "language": "python",
   "name": "python3"
  },
  "language_info": {
   "codemirror_mode": {
    "name": "ipython",
    "version": 3
   },
   "file_extension": ".py",
   "mimetype": "text/x-python",
   "name": "python",
   "nbconvert_exporter": "python",
   "pygments_lexer": "ipython3",
   "version": "3.10.4"
  }
 },
 "nbformat": 4,
 "nbformat_minor": 5
}
