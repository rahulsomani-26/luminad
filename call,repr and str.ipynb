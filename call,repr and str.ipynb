{
 "cells": [
  {
   "cell_type": "markdown",
   "id": "ac4c8621",
   "metadata": {},
   "source": [
    "# str and repr\n",
    "***\n",
    "- Used to create a string representation of an object.\n",
    "- repr is used by developers "
   ]
  },
  {
   "cell_type": "code",
   "execution_count": 1,
   "id": "3e4b2184",
   "metadata": {},
   "outputs": [],
   "source": [
    "class Animal:\n",
    "    def __init__(self,name,breed):\n",
    "        self.name = name \n",
    "        self.breed = breed\n",
    "        \n",
    "    def __repr__(self):\n",
    "        print(\"__repr__ called \")\n",
    "        return 'Animal(name={}, breed = {})'.format(self.name,self.breed)\n",
    "    \n",
    "    def __str__(self):\n",
    "        print(\"__str__ called\")\n",
    "        return  'Animal(name={}, breed = {})'.format(self.name,self.breed)"
   ]
  },
  {
   "cell_type": "code",
   "execution_count": 2,
   "id": "d3797255",
   "metadata": {},
   "outputs": [],
   "source": [
    "a = Animal('Arrow','German Shephard')\n",
    "b = Animal('Bow','Doberman')"
   ]
  },
  {
   "cell_type": "code",
   "execution_count": 3,
   "id": "8076c4a7",
   "metadata": {},
   "outputs": [
    {
     "name": "stdout",
     "output_type": "stream",
     "text": [
      "__repr__ called \n"
     ]
    },
    {
     "data": {
      "text/plain": [
       "Animal(name=Arrow, breed = German Shephard)"
      ]
     },
     "execution_count": 3,
     "metadata": {},
     "output_type": "execute_result"
    }
   ],
   "source": [
    "a"
   ]
  },
  {
   "cell_type": "code",
   "execution_count": 4,
   "id": "74be1e55",
   "metadata": {},
   "outputs": [
    {
     "name": "stdout",
     "output_type": "stream",
     "text": [
      "__str__ called\n",
      "Animal(name=Arrow, breed = German Shephard)\n"
     ]
    }
   ],
   "source": [
    "print(a)"
   ]
  },
  {
   "cell_type": "code",
   "execution_count": 5,
   "id": "a9b2aaab",
   "metadata": {},
   "outputs": [
    {
     "name": "stdout",
     "output_type": "stream",
     "text": [
      "__str__ called\n"
     ]
    },
    {
     "data": {
      "text/plain": [
       "'Animal(name=Bow, breed = Doberman)'"
      ]
     },
     "execution_count": 5,
     "metadata": {},
     "output_type": "execute_result"
    }
   ],
   "source": [
    "str(b)"
   ]
  },
  {
   "cell_type": "code",
   "execution_count": 6,
   "id": "17202d59",
   "metadata": {},
   "outputs": [],
   "source": [
    "class Square:\n",
    "    def __init__(self,n):\n",
    "        print(\"__init__ called\")\n",
    "        self.n = n \n",
    "        \n",
    "    def getsquare(self):\n",
    "        return self.n**2\n",
    "    \n",
    "    def __repr__(self):\n",
    "        return 'Square({})'.format(self.n)\n",
    "    \n",
    "        "
   ]
  },
  {
   "cell_type": "code",
   "execution_count": 7,
   "id": "ae494f90",
   "metadata": {},
   "outputs": [
    {
     "name": "stdout",
     "output_type": "stream",
     "text": [
      "__init__ called\n"
     ]
    }
   ],
   "source": [
    "s = Square(5)"
   ]
  },
  {
   "cell_type": "code",
   "execution_count": 8,
   "id": "30d026ca",
   "metadata": {},
   "outputs": [
    {
     "data": {
      "text/plain": [
       "25"
      ]
     },
     "execution_count": 8,
     "metadata": {},
     "output_type": "execute_result"
    }
   ],
   "source": [
    "s.getsquare()"
   ]
  },
  {
   "cell_type": "code",
   "execution_count": 13,
   "id": "c658bf40",
   "metadata": {},
   "outputs": [],
   "source": [
    "class Square:\n",
    "\n",
    "    def __init__(self,n):\n",
    "        print(\"__init__ called\")\n",
    "        self.n = n \n",
    "        \n",
    "    def __call__(self):\n",
    "        return self.n**2\n",
    "    \n",
    "    def __repr__(self):\n",
    "        return 'Square({})'.format(self.n)\n",
    "    \n",
    "        "
   ]
  },
  {
   "cell_type": "code",
   "execution_count": 14,
   "id": "45e4166c",
   "metadata": {},
   "outputs": [
    {
     "name": "stdout",
     "output_type": "stream",
     "text": [
      "__init__ called\n"
     ]
    }
   ],
   "source": [
    "s = Square(6)"
   ]
  },
  {
   "cell_type": "code",
   "execution_count": 15,
   "id": "38d3880a",
   "metadata": {},
   "outputs": [
    {
     "data": {
      "text/plain": [
       "Square(6)"
      ]
     },
     "execution_count": 15,
     "metadata": {},
     "output_type": "execute_result"
    }
   ],
   "source": [
    "s"
   ]
  },
  {
   "cell_type": "code",
   "execution_count": 16,
   "id": "1ead59db",
   "metadata": {},
   "outputs": [
    {
     "data": {
      "text/plain": [
       "36"
      ]
     },
     "execution_count": 16,
     "metadata": {},
     "output_type": "execute_result"
    }
   ],
   "source": [
    "s()"
   ]
  },
  {
   "cell_type": "markdown",
   "id": "108f9f8c",
   "metadata": {},
   "source": [
    "# The ` __call__` implementation makes your object callable "
   ]
  },
  {
   "cell_type": "code",
   "execution_count": 17,
   "id": "d6b28dc9",
   "metadata": {},
   "outputs": [
    {
     "data": {
      "text/plain": [
       "<function callable(obj, /)>"
      ]
     },
     "execution_count": 17,
     "metadata": {},
     "output_type": "execute_result"
    }
   ],
   "source": [
    "callable"
   ]
  },
  {
   "cell_type": "code",
   "execution_count": 18,
   "id": "62a86bd0",
   "metadata": {},
   "outputs": [
    {
     "data": {
      "text/plain": [
       "True"
      ]
     },
     "execution_count": 18,
     "metadata": {},
     "output_type": "execute_result"
    }
   ],
   "source": [
    "callable(print)"
   ]
  },
  {
   "cell_type": "code",
   "execution_count": 19,
   "id": "a2e11605",
   "metadata": {},
   "outputs": [
    {
     "name": "stderr",
     "output_type": "stream",
     "text": [
      "<>:1: SyntaxWarning: 'int' object is not callable; perhaps you missed a comma?\n",
      "<>:1: SyntaxWarning: 'int' object is not callable; perhaps you missed a comma?\n",
      "C:\\Users\\Rahul somani\\AppData\\Local\\Temp\\ipykernel_10904\\502983514.py:1: SyntaxWarning: 'int' object is not callable; perhaps you missed a comma?\n",
      "  3()\n",
      "C:\\Users\\Rahul somani\\AppData\\Local\\Temp\\ipykernel_10904\\502983514.py:1: SyntaxWarning: 'int' object is not callable; perhaps you missed a comma?\n",
      "  3()\n",
      "C:\\Users\\Rahul somani\\AppData\\Local\\Temp\\ipykernel_10904\\502983514.py:1: SyntaxWarning: 'int' object is not callable; perhaps you missed a comma?\n",
      "  3()\n"
     ]
    },
    {
     "ename": "TypeError",
     "evalue": "'int' object is not callable",
     "output_type": "error",
     "traceback": [
      "\u001b[1;31m---------------------------------------------------------------------------\u001b[0m",
      "\u001b[1;31mTypeError\u001b[0m                                 Traceback (most recent call last)",
      "Input \u001b[1;32mIn [19]\u001b[0m, in \u001b[0;36m<cell line: 1>\u001b[1;34m()\u001b[0m\n\u001b[1;32m----> 1\u001b[0m \u001b[38;5;241;43m3\u001b[39;49m\u001b[43m(\u001b[49m\u001b[43m)\u001b[49m\n",
      "\u001b[1;31mTypeError\u001b[0m: 'int' object is not callable"
     ]
    }
   ],
   "source": [
    "3()"
   ]
  },
  {
   "cell_type": "code",
   "execution_count": 20,
   "id": "bc43473b",
   "metadata": {},
   "outputs": [
    {
     "data": {
      "text/plain": [
       "True"
      ]
     },
     "execution_count": 20,
     "metadata": {},
     "output_type": "execute_result"
    }
   ],
   "source": [
    "callable(s)"
   ]
  },
  {
   "cell_type": "markdown",
   "id": "75d51716",
   "metadata": {},
   "source": [
    "## write a class that accepts a sequence of numbers ( list, tuple ) and returns the sum of the sequence\n",
    "***\n",
    " - implement the `__call__` to achieve the desired output "
   ]
  },
  {
   "cell_type": "code",
   "execution_count": 22,
   "id": "377fb8cf",
   "metadata": {},
   "outputs": [],
   "source": [
    "class Adder:\n",
    "    def __init__(self,seq):\n",
    "        if type(seq) == list or type(seq) == tuple:\n",
    "            self.seq = seq\n",
    "            print(\"Sequence initialized\")\n",
    "            \n",
    "    def __repr__(self):\n",
    "        return 'Adder({})'.format(self.seq)\n",
    "    \n",
    "    def __call__(self):\n",
    "        return sum(self.seq)\n",
    "        "
   ]
  },
  {
   "cell_type": "code",
   "execution_count": 23,
   "id": "55db8ce2",
   "metadata": {},
   "outputs": [
    {
     "name": "stdout",
     "output_type": "stream",
     "text": [
      "Sequence initialized\n"
     ]
    }
   ],
   "source": [
    "a = Adder([1,2,3,4,5])\n"
   ]
  },
  {
   "cell_type": "code",
   "execution_count": 24,
   "id": "c52b0ff9",
   "metadata": {},
   "outputs": [
    {
     "name": "stdout",
     "output_type": "stream",
     "text": [
      "Sequence initialized\n"
     ]
    }
   ],
   "source": [
    "b = Adder((10,20,30))"
   ]
  },
  {
   "cell_type": "code",
   "execution_count": 25,
   "id": "d1ffbb7e",
   "metadata": {},
   "outputs": [
    {
     "data": {
      "text/plain": [
       "15"
      ]
     },
     "execution_count": 25,
     "metadata": {},
     "output_type": "execute_result"
    }
   ],
   "source": [
    "a()"
   ]
  },
  {
   "cell_type": "code",
   "execution_count": 26,
   "id": "def37daa",
   "metadata": {},
   "outputs": [
    {
     "data": {
      "text/plain": [
       "60"
      ]
     },
     "execution_count": 26,
     "metadata": {},
     "output_type": "execute_result"
    }
   ],
   "source": [
    "b()"
   ]
  },
  {
   "cell_type": "code",
   "execution_count": 27,
   "id": "261e9e77",
   "metadata": {},
   "outputs": [
    {
     "data": {
      "text/plain": [
       "Adder([1, 2, 3, 4, 5])"
      ]
     },
     "execution_count": 27,
     "metadata": {},
     "output_type": "execute_result"
    }
   ],
   "source": [
    "a"
   ]
  },
  {
   "cell_type": "code",
   "execution_count": 28,
   "id": "35ce5ba3",
   "metadata": {},
   "outputs": [
    {
     "data": {
      "text/plain": [
       "Adder((10, 20, 30))"
      ]
     },
     "execution_count": 28,
     "metadata": {},
     "output_type": "execute_result"
    }
   ],
   "source": [
    "b"
   ]
  },
  {
   "cell_type": "markdown",
   "id": "b75c346c",
   "metadata": {},
   "source": [
    "Implement a class that \n",
    " - takes in a sequence of heterogenous items \n",
    " - override the ` __call__ ` method that dumps integers values into a list \n"
   ]
  },
  {
   "cell_type": "markdown",
   "id": "05885a2e",
   "metadata": {},
   "source": [
    "input_list = ['Strings','46',True,20,34.56,540,False]\n",
    "the output_list : [20,540]\n",
    "    \n"
   ]
  },
  {
   "cell_type": "code",
   "execution_count": 29,
   "id": "53d9e096",
   "metadata": {},
   "outputs": [],
   "source": [
    "class DumpInt:\n",
    "    output = []\n",
    "    def __init__(self,seq):\n",
    "        self.seq = seq\n",
    "    \n",
    "    def __call__(self):\n",
    "        for item in self.seq:\n",
    "            if type(item)== int:\n",
    "                self.output.append(item)\n",
    "        return self.output\n",
    "        "
   ]
  },
  {
   "cell_type": "code",
   "execution_count": 30,
   "id": "2c26f317",
   "metadata": {},
   "outputs": [],
   "source": [
    "d = DumpInt([1,2,True,2.4,\"rahu\"])"
   ]
  },
  {
   "cell_type": "code",
   "execution_count": 31,
   "id": "f8d6adc0",
   "metadata": {},
   "outputs": [
    {
     "data": {
      "text/plain": [
       "[1, 2]"
      ]
     },
     "execution_count": 31,
     "metadata": {},
     "output_type": "execute_result"
    }
   ],
   "source": [
    "d()"
   ]
  },
  {
   "cell_type": "code",
   "execution_count": 37,
   "id": "777a2d14",
   "metadata": {},
   "outputs": [
    {
     "data": {
      "text/plain": [
       "mappingproxy({'__module__': '__main__',\n",
       "              'output': [1, 2],\n",
       "              '__init__': <function __main__.DumpInt.__init__(self, seq)>,\n",
       "              '__call__': <function __main__.DumpInt.__call__(self)>,\n",
       "              '__dict__': <attribute '__dict__' of 'DumpInt' objects>,\n",
       "              '__weakref__': <attribute '__weakref__' of 'DumpInt' objects>,\n",
       "              '__doc__': None})"
      ]
     },
     "execution_count": 37,
     "metadata": {},
     "output_type": "execute_result"
    }
   ],
   "source": [
    "DumpInt.__dict__"
   ]
  },
  {
   "cell_type": "code",
   "execution_count": 38,
   "id": "b92f618a",
   "metadata": {},
   "outputs": [
    {
     "data": {
      "text/plain": [
       "{'seq': [1, 2, True, 2.4, 'rahu']}"
      ]
     },
     "execution_count": 38,
     "metadata": {},
     "output_type": "execute_result"
    }
   ],
   "source": [
    "d.__dict__"
   ]
  },
  {
   "cell_type": "code",
   "execution_count": null,
   "id": "7f84a532",
   "metadata": {},
   "outputs": [],
   "source": []
  },
  {
   "cell_type": "code",
   "execution_count": null,
   "id": "3581a081",
   "metadata": {},
   "outputs": [],
   "source": []
  },
  {
   "cell_type": "code",
   "execution_count": 39,
   "id": "7e456f46",
   "metadata": {},
   "outputs": [],
   "source": [
    "class Sample:\n",
    "    \n",
    "    def __init__(self,seq):\n",
    "        self.seq = seq\n",
    "       \n",
    "    def __call__(self):\n",
    "        output = []\n",
    "        for i in self.seq:\n",
    "            if (type(i) == int):\n",
    "                output.append(i)\n",
    "                \n",
    "        return output"
   ]
  },
  {
   "cell_type": "code",
   "execution_count": 40,
   "id": "5513b6eb",
   "metadata": {},
   "outputs": [],
   "source": [
    "s = Sample([1,2,3,True,'Gokul',False])"
   ]
  },
  {
   "cell_type": "code",
   "execution_count": 41,
   "id": "9441e56d",
   "metadata": {},
   "outputs": [
    {
     "data": {
      "text/plain": [
       "[1, 2, 3]"
      ]
     },
     "execution_count": 41,
     "metadata": {},
     "output_type": "execute_result"
    }
   ],
   "source": [
    "s()"
   ]
  },
  {
   "cell_type": "code",
   "execution_count": 35,
   "id": "863867ff",
   "metadata": {},
   "outputs": [
    {
     "data": {
      "text/plain": [
       "mappingproxy({'__module__': '__main__',\n",
       "              '__init__': <function __main__.Sample.__init__(self, seq)>,\n",
       "              '__call__': <function __main__.Sample.__call__(self)>,\n",
       "              '__dict__': <attribute '__dict__' of 'Sample' objects>,\n",
       "              '__weakref__': <attribute '__weakref__' of 'Sample' objects>,\n",
       "              '__doc__': None})"
      ]
     },
     "execution_count": 35,
     "metadata": {},
     "output_type": "execute_result"
    }
   ],
   "source": [
    "Sample.__dict__"
   ]
  },
  {
   "cell_type": "code",
   "execution_count": 36,
   "id": "14540ae5",
   "metadata": {},
   "outputs": [
    {
     "data": {
      "text/plain": [
       "{'seq': [1, 2, 3, True, 'Gokul', False]}"
      ]
     },
     "execution_count": 36,
     "metadata": {},
     "output_type": "execute_result"
    }
   ],
   "source": [
    "s.__dict__"
   ]
  },
  {
   "cell_type": "code",
   "execution_count": 42,
   "id": "20278941",
   "metadata": {},
   "outputs": [],
   "source": [
    "class Average:\n",
    "    def __init__(self,n):\n",
    "        self.n=n\n",
    "    def __call__(self):\n",
    "        return sum(self.n)/len(self.n)"
   ]
  },
  {
   "cell_type": "code",
   "execution_count": 45,
   "id": "2eb5690c",
   "metadata": {},
   "outputs": [],
   "source": [
    "a = Average([10,20,30])"
   ]
  },
  {
   "cell_type": "code",
   "execution_count": 46,
   "id": "2ccaf654",
   "metadata": {},
   "outputs": [
    {
     "data": {
      "text/plain": [
       "20.0"
      ]
     },
     "execution_count": 46,
     "metadata": {},
     "output_type": "execute_result"
    }
   ],
   "source": [
    "a()"
   ]
  },
  {
   "cell_type": "code",
   "execution_count": null,
   "id": "c0dd1a5c",
   "metadata": {},
   "outputs": [],
   "source": []
  }
 ],
 "metadata": {
  "kernelspec": {
   "display_name": "Python 3 (ipykernel)",
   "language": "python",
   "name": "python3"
  },
  "language_info": {
   "codemirror_mode": {
    "name": "ipython",
    "version": 3
   },
   "file_extension": ".py",
   "mimetype": "text/x-python",
   "name": "python",
   "nbconvert_exporter": "python",
   "pygments_lexer": "ipython3",
   "version": "3.10.4"
  }
 },
 "nbformat": 4,
 "nbformat_minor": 5
}
