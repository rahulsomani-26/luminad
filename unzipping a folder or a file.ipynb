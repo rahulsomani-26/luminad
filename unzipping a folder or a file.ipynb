{
 "cells": [
  {
   "cell_type": "code",
   "execution_count": 1,
   "id": "017a25af",
   "metadata": {},
   "outputs": [],
   "source": [
    "from zipfile import ZipFile as zf "
   ]
  },
  {
   "cell_type": "code",
   "execution_count": 4,
   "id": "0b8ccd1d",
   "metadata": {},
   "outputs": [
    {
     "data": {
      "text/plain": [
       "(zipfile.ZipFile, type, 2443849616528)"
      ]
     },
     "execution_count": 4,
     "metadata": {},
     "output_type": "execute_result"
    }
   ],
   "source": [
    "zf, type(zf), id(zf)"
   ]
  },
  {
   "cell_type": "code",
   "execution_count": 5,
   "id": "b2a3ba95",
   "metadata": {},
   "outputs": [
    {
     "name": "stdout",
     "output_type": "stream",
     "text": [
      "['_RealGetContents', '__class__', '__del__', '__delattr__', '__dict__', '__dir__', '__doc__', '__enter__', '__eq__', '__exit__', '__format__', '__ge__', '__getattribute__', '__gt__', '__hash__', '__init__', '__init_subclass__', '__le__', '__lt__', '__module__', '__ne__', '__new__', '__reduce__', '__reduce_ex__', '__repr__', '__setattr__', '__sizeof__', '__str__', '__subclasshook__', '__weakref__', '_extract_member', '_fpclose', '_open_to_write', '_sanitize_windows_name', '_windows_illegal_name_trans_table', '_write_end_record', '_writecheck', 'close', 'comment', 'extract', 'extractall', 'fp', 'getinfo', 'infolist', 'namelist', 'open', 'printdir', 'read', 'setpassword', 'testzip', 'write', 'writestr']\n"
     ]
    }
   ],
   "source": [
    "print(dir(zf))"
   ]
  },
  {
   "cell_type": "code",
   "execution_count": 6,
   "id": "5ad6d0d0",
   "metadata": {},
   "outputs": [],
   "source": [
    "import os \n",
    "import sys "
   ]
  },
  {
   "cell_type": "code",
   "execution_count": 8,
   "id": "1f09078e",
   "metadata": {},
   "outputs": [
    {
     "name": "stdout",
     "output_type": "stream",
     "text": [
      "C:\\Users\\Rahul somani\\Desktop\\levelup\\day-six\n"
     ]
    }
   ],
   "source": [
    "print(os.getcwd())"
   ]
  },
  {
   "cell_type": "code",
   "execution_count": 9,
   "id": "af601fc3",
   "metadata": {},
   "outputs": [
    {
     "data": {
      "text/plain": [
       "<module 'ntpath' from 'C:\\\\Users\\\\Rahul somani\\\\AppData\\\\Local\\\\Programs\\\\Python\\\\Python310\\\\lib\\\\ntpath.py'>"
      ]
     },
     "execution_count": 9,
     "metadata": {},
     "output_type": "execute_result"
    }
   ],
   "source": [
    "os.path"
   ]
  },
  {
   "cell_type": "code",
   "execution_count": 10,
   "id": "ab4fc7a8",
   "metadata": {},
   "outputs": [],
   "source": [
    "# Using the context manager for opening a file\n",
    "with open('test.txt','w') as f:\n",
    "    f.write(\"Hello, i am using a context manager so that i dont have to close the file\")\n",
    "    f.write(\"The context manager will close the file automatically\")\n"
   ]
  },
  {
   "cell_type": "code",
   "execution_count": 12,
   "id": "6f270798",
   "metadata": {},
   "outputs": [
    {
     "name": "stdout",
     "output_type": "stream",
     "text": [
      "Hello, i am using a context manager so that i dont have to close the fileThe context manager will close the file automatically\n"
     ]
    }
   ],
   "source": [
    "with open('test.txt','r') as f:\n",
    "        print(f.read())"
   ]
  },
  {
   "cell_type": "markdown",
   "id": "bda81787",
   "metadata": {},
   "source": [
    "The context manager implements two protocols \n",
    "\n",
    "    - __enter__ \n",
    "    \n",
    "    - __exit__ "
   ]
  },
  {
   "cell_type": "code",
   "execution_count": 17,
   "id": "2249e861",
   "metadata": {},
   "outputs": [
    {
     "name": "stdout",
     "output_type": "stream",
     "text": [
      "File Name                                             Modified             Size\n",
      "What is a Module.ipynb                         2018-02-08 22:20:54        31484\n"
     ]
    }
   ],
   "source": [
    "import os, sys\n",
    "from zipfile import ZipFile \n",
    "zippedfile = r'C:\\Users\\Rahul somani\\Downloads\\module.zip'\n",
    "os.chdir(r'C:\\Users\\Rahul somani\\Desktop')\n",
    "with ZipFile(zippedfile,'r') as z:\n",
    "    z.printdir()\n",
    "    z.extractall()"
   ]
  },
  {
   "cell_type": "code",
   "execution_count": null,
   "id": "16730ab5",
   "metadata": {},
   "outputs": [],
   "source": []
  }
 ],
 "metadata": {
  "kernelspec": {
   "display_name": "Python 3 (ipykernel)",
   "language": "python",
   "name": "python3"
  },
  "language_info": {
   "codemirror_mode": {
    "name": "ipython",
    "version": 3
   },
   "file_extension": ".py",
   "mimetype": "text/x-python",
   "name": "python",
   "nbconvert_exporter": "python",
   "pygments_lexer": "ipython3",
   "version": "3.10.4"
  }
 },
 "nbformat": 4,
 "nbformat_minor": 5
}
