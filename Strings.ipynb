{
 "cells": [
  {
   "cell_type": "markdown",
   "id": "8b2d84b2",
   "metadata": {},
   "source": [
    "# String is a data type, that stores multiples values at the same time .. \n",
    "\n",
    "` Strings are represented using '' or \"\" or \"\"\" \"\"\" `"
   ]
  },
  {
   "cell_type": "code",
   "execution_count": 1,
   "id": "c04db147",
   "metadata": {},
   "outputs": [],
   "source": [
    "text = \"This is the first python session \""
   ]
  },
  {
   "cell_type": "code",
   "execution_count": 2,
   "id": "392e9dfd",
   "metadata": {},
   "outputs": [
    {
     "data": {
      "text/plain": [
       "(2795792226832, str)"
      ]
     },
     "execution_count": 2,
     "metadata": {},
     "output_type": "execute_result"
    }
   ],
   "source": [
    "id(text), type(text)"
   ]
  },
  {
   "cell_type": "markdown",
   "id": "5f975502",
   "metadata": {},
   "source": [
    "# On a string object indexing and slicing are possible "
   ]
  },
  {
   "cell_type": "code",
   "execution_count": 3,
   "id": "592083ee",
   "metadata": {},
   "outputs": [
    {
     "data": {
      "text/plain": [
       "'This is the first python session '"
      ]
     },
     "execution_count": 3,
     "metadata": {},
     "output_type": "execute_result"
    }
   ],
   "source": [
    "text"
   ]
  },
  {
   "cell_type": "code",
   "execution_count": 4,
   "id": "e3180242",
   "metadata": {},
   "outputs": [
    {
     "data": {
      "text/plain": [
       "'T'"
      ]
     },
     "execution_count": 4,
     "metadata": {},
     "output_type": "execute_result"
    }
   ],
   "source": [
    "text[0]"
   ]
  },
  {
   "cell_type": "code",
   "execution_count": 5,
   "id": "ee35e175",
   "metadata": {},
   "outputs": [
    {
     "data": {
      "text/plain": [
       "'i'"
      ]
     },
     "execution_count": 5,
     "metadata": {},
     "output_type": "execute_result"
    }
   ],
   "source": [
    "text[2]"
   ]
  },
  {
   "cell_type": "code",
   "execution_count": 6,
   "id": "7529363a",
   "metadata": {},
   "outputs": [],
   "source": [
    "text = \"python\""
   ]
  },
  {
   "cell_type": "code",
   "execution_count": 8,
   "id": "471b41aa",
   "metadata": {},
   "outputs": [
    {
     "data": {
      "text/plain": [
       "('n', 'o', 'h')"
      ]
     },
     "execution_count": 8,
     "metadata": {},
     "output_type": "execute_result"
    }
   ],
   "source": [
    "text[-1], text[-2], text[-3]"
   ]
  },
  {
   "cell_type": "code",
   "execution_count": 9,
   "id": "dd7dcb42",
   "metadata": {},
   "outputs": [
    {
     "ename": "IndexError",
     "evalue": "string index out of range",
     "output_type": "error",
     "traceback": [
      "\u001b[1;31m---------------------------------------------------------------------------\u001b[0m",
      "\u001b[1;31mIndexError\u001b[0m                                Traceback (most recent call last)",
      "Input \u001b[1;32mIn [9]\u001b[0m, in \u001b[0;36m<cell line: 1>\u001b[1;34m()\u001b[0m\n\u001b[1;32m----> 1\u001b[0m \u001b[43mtext\u001b[49m\u001b[43m[\u001b[49m\u001b[38;5;241;43m100\u001b[39;49m\u001b[43m]\u001b[49m\n",
      "\u001b[1;31mIndexError\u001b[0m: string index out of range"
     ]
    }
   ],
   "source": [
    "text[100]"
   ]
  },
  {
   "cell_type": "code",
   "execution_count": 10,
   "id": "8f32a8bc",
   "metadata": {},
   "outputs": [
    {
     "name": "stdout",
     "output_type": "stream",
     "text": [
      "['__add__', '__class__', '__contains__', '__delattr__', '__dir__', '__doc__', '__eq__', '__format__', '__ge__', '__getattribute__', '__getitem__', '__getnewargs__', '__gt__', '__hash__', '__init__', '__init_subclass__', '__iter__', '__le__', '__len__', '__lt__', '__mod__', '__mul__', '__ne__', '__new__', '__reduce__', '__reduce_ex__', '__repr__', '__rmod__', '__rmul__', '__setattr__', '__sizeof__', '__str__', '__subclasshook__', 'capitalize', 'casefold', 'center', 'count', 'encode', 'endswith', 'expandtabs', 'find', 'format', 'format_map', 'index', 'isalnum', 'isalpha', 'isascii', 'isdecimal', 'isdigit', 'isidentifier', 'islower', 'isnumeric', 'isprintable', 'isspace', 'istitle', 'isupper', 'join', 'ljust', 'lower', 'lstrip', 'maketrans', 'partition', 'removeprefix', 'removesuffix', 'replace', 'rfind', 'rindex', 'rjust', 'rpartition', 'rsplit', 'rstrip', 'split', 'splitlines', 'startswith', 'strip', 'swapcase', 'title', 'translate', 'upper', 'zfill']\n"
     ]
    }
   ],
   "source": [
    "print(dir(text))"
   ]
  },
  {
   "cell_type": "markdown",
   "id": "6a79a6af",
   "metadata": {},
   "source": [
    "# Dunder --> Double underscore "
   ]
  },
  {
   "cell_type": "code",
   "execution_count": 11,
   "id": "76b90323",
   "metadata": {},
   "outputs": [
    {
     "data": {
      "text/plain": [
       "'python'"
      ]
     },
     "execution_count": 11,
     "metadata": {},
     "output_type": "execute_result"
    }
   ],
   "source": [
    "text"
   ]
  },
  {
   "cell_type": "code",
   "execution_count": 12,
   "id": "0c848c7d",
   "metadata": {},
   "outputs": [
    {
     "data": {
      "text/plain": [
       "<method-wrapper '__getitem__' of str object at 0x0000028AF04354B0>"
      ]
     },
     "execution_count": 12,
     "metadata": {},
     "output_type": "execute_result"
    }
   ],
   "source": [
    "text.__getitem__"
   ]
  },
  {
   "cell_type": "code",
   "execution_count": 14,
   "id": "b6039fa1",
   "metadata": {},
   "outputs": [
    {
     "data": {
      "text/plain": [
       "('p', 'p')"
      ]
     },
     "execution_count": 14,
     "metadata": {},
     "output_type": "execute_result"
    }
   ],
   "source": [
    "text.__getitem__(0) , text[0]"
   ]
  },
  {
   "cell_type": "code",
   "execution_count": 15,
   "id": "e41f4d31",
   "metadata": {},
   "outputs": [
    {
     "name": "stdout",
     "output_type": "stream",
     "text": [
      "['__add__', '__class__', '__contains__', '__delattr__', '__dir__', '__doc__', '__eq__', '__format__', '__ge__', '__getattribute__', '__getitem__', '__getnewargs__', '__gt__', '__hash__', '__init__', '__init_subclass__', '__iter__', '__le__', '__len__', '__lt__', '__mod__', '__mul__', '__ne__', '__new__', '__reduce__', '__reduce_ex__', '__repr__', '__rmod__', '__rmul__', '__setattr__', '__sizeof__', '__str__', '__subclasshook__', 'capitalize', 'casefold', 'center', 'count', 'encode', 'endswith', 'expandtabs', 'find', 'format', 'format_map', 'index', 'isalnum', 'isalpha', 'isascii', 'isdecimal', 'isdigit', 'isidentifier', 'islower', 'isnumeric', 'isprintable', 'isspace', 'istitle', 'isupper', 'join', 'ljust', 'lower', 'lstrip', 'maketrans', 'partition', 'removeprefix', 'removesuffix', 'replace', 'rfind', 'rindex', 'rjust', 'rpartition', 'rsplit', 'rstrip', 'split', 'splitlines', 'startswith', 'strip', 'swapcase', 'title', 'translate', 'upper', 'zfill']\n"
     ]
    }
   ],
   "source": [
    "print(dir(str))"
   ]
  },
  {
   "cell_type": "code",
   "execution_count": 16,
   "id": "268a5543",
   "metadata": {},
   "outputs": [
    {
     "data": {
      "text/plain": [
       "<method 'capitalize' of 'str' objects>"
      ]
     },
     "execution_count": 16,
     "metadata": {},
     "output_type": "execute_result"
    }
   ],
   "source": [
    "str.capitalize"
   ]
  },
  {
   "cell_type": "code",
   "execution_count": 17,
   "id": "03370c86",
   "metadata": {},
   "outputs": [
    {
     "name": "stdout",
     "output_type": "stream",
     "text": [
      "Help on method_descriptor:\n",
      "\n",
      "capitalize(self, /)\n",
      "    Return a capitalized version of the string.\n",
      "    \n",
      "    More specifically, make the first character have upper case and the rest lower\n",
      "    case.\n",
      "\n"
     ]
    }
   ],
   "source": [
    "help(str.capitalize)"
   ]
  },
  {
   "cell_type": "code",
   "execution_count": 18,
   "id": "490cc80b",
   "metadata": {},
   "outputs": [],
   "source": [
    "name = 'rahul Somani'"
   ]
  },
  {
   "cell_type": "code",
   "execution_count": 19,
   "id": "61869e70",
   "metadata": {},
   "outputs": [
    {
     "data": {
      "text/plain": [
       "'rahul Somani'"
      ]
     },
     "execution_count": 19,
     "metadata": {},
     "output_type": "execute_result"
    }
   ],
   "source": [
    "name"
   ]
  },
  {
   "cell_type": "code",
   "execution_count": 20,
   "id": "8db27d46",
   "metadata": {},
   "outputs": [
    {
     "data": {
      "text/plain": [
       "<function str.capitalize()>"
      ]
     },
     "execution_count": 20,
     "metadata": {},
     "output_type": "execute_result"
    }
   ],
   "source": [
    "name.capitalize"
   ]
  },
  {
   "cell_type": "code",
   "execution_count": 21,
   "id": "cf2597a5",
   "metadata": {},
   "outputs": [
    {
     "data": {
      "text/plain": [
       "'Rahul somani'"
      ]
     },
     "execution_count": 21,
     "metadata": {},
     "output_type": "execute_result"
    }
   ],
   "source": [
    "name.capitalize()"
   ]
  },
  {
   "cell_type": "code",
   "execution_count": 22,
   "id": "6793ff2b",
   "metadata": {},
   "outputs": [
    {
     "data": {
      "text/plain": [
       "<function len(obj, /)>"
      ]
     },
     "execution_count": 22,
     "metadata": {},
     "output_type": "execute_result"
    }
   ],
   "source": [
    "len"
   ]
  },
  {
   "cell_type": "code",
   "execution_count": 23,
   "id": "53d1cec6",
   "metadata": {},
   "outputs": [
    {
     "data": {
      "text/plain": [
       "5"
      ]
     },
     "execution_count": 23,
     "metadata": {},
     "output_type": "execute_result"
    }
   ],
   "source": [
    "len('rahul')"
   ]
  },
  {
   "cell_type": "code",
   "execution_count": 24,
   "id": "cbb95bc2",
   "metadata": {},
   "outputs": [
    {
     "data": {
      "text/plain": [
       "12"
      ]
     },
     "execution_count": 24,
     "metadata": {},
     "output_type": "execute_result"
    }
   ],
   "source": [
    "len(name)"
   ]
  },
  {
   "cell_type": "code",
   "execution_count": 25,
   "id": "9a01ba74",
   "metadata": {},
   "outputs": [
    {
     "name": "stdout",
     "output_type": "stream",
     "text": [
      "['__add__', '__class__', '__contains__', '__delattr__', '__dir__', '__doc__', '__eq__', '__format__', '__ge__', '__getattribute__', '__getitem__', '__getnewargs__', '__gt__', '__hash__', '__init__', '__init_subclass__', '__iter__', '__le__', '__len__', '__lt__', '__mod__', '__mul__', '__ne__', '__new__', '__reduce__', '__reduce_ex__', '__repr__', '__rmod__', '__rmul__', '__setattr__', '__sizeof__', '__str__', '__subclasshook__', 'capitalize', 'casefold', 'center', 'count', 'encode', 'endswith', 'expandtabs', 'find', 'format', 'format_map', 'index', 'isalnum', 'isalpha', 'isascii', 'isdecimal', 'isdigit', 'isidentifier', 'islower', 'isnumeric', 'isprintable', 'isspace', 'istitle', 'isupper', 'join', 'ljust', 'lower', 'lstrip', 'maketrans', 'partition', 'removeprefix', 'removesuffix', 'replace', 'rfind', 'rindex', 'rjust', 'rpartition', 'rsplit', 'rstrip', 'split', 'splitlines', 'startswith', 'strip', 'swapcase', 'title', 'translate', 'upper', 'zfill']\n"
     ]
    }
   ],
   "source": [
    "print(dir(str))"
   ]
  },
  {
   "cell_type": "code",
   "execution_count": 26,
   "id": "91c75bdb",
   "metadata": {},
   "outputs": [
    {
     "data": {
      "text/plain": [
       "<function str.title()>"
      ]
     },
     "execution_count": 26,
     "metadata": {},
     "output_type": "execute_result"
    }
   ],
   "source": [
    "\"rahul somani\".title"
   ]
  },
  {
   "cell_type": "code",
   "execution_count": 27,
   "id": "66ec25c6",
   "metadata": {},
   "outputs": [
    {
     "data": {
      "text/plain": [
       "'Rahul Somani'"
      ]
     },
     "execution_count": 27,
     "metadata": {},
     "output_type": "execute_result"
    }
   ],
   "source": [
    "\"rahul somani\".title()"
   ]
  },
  {
   "cell_type": "markdown",
   "id": "31c5eeb6",
   "metadata": {},
   "source": [
    "# String slicing "
   ]
  },
  {
   "cell_type": "markdown",
   "id": "289e8857",
   "metadata": {},
   "source": [
    "` Slicing is an operations where you get a chunk of data based on the arguments supplied `\n",
    "\n",
    "` Syntax:  obj_name[start:[stop:step]] `\n",
    "    \n",
    "    every arg is optional "
   ]
  },
  {
   "cell_type": "code",
   "execution_count": 28,
   "id": "de2d2bf9",
   "metadata": {},
   "outputs": [],
   "source": [
    "name = \"python is good\""
   ]
  },
  {
   "cell_type": "code",
   "execution_count": 29,
   "id": "cd46e025",
   "metadata": {},
   "outputs": [
    {
     "data": {
      "text/plain": [
       "14"
      ]
     },
     "execution_count": 29,
     "metadata": {},
     "output_type": "execute_result"
    }
   ],
   "source": [
    "len(name)"
   ]
  },
  {
   "cell_type": "code",
   "execution_count": 30,
   "id": "c012f918",
   "metadata": {},
   "outputs": [
    {
     "data": {
      "text/plain": [
       "'pytho'"
      ]
     },
     "execution_count": 30,
     "metadata": {},
     "output_type": "execute_result"
    }
   ],
   "source": [
    "name[0:5]"
   ]
  },
  {
   "cell_type": "code",
   "execution_count": 31,
   "id": "f7b0a456",
   "metadata": {},
   "outputs": [
    {
     "data": {
      "text/plain": [
       "'python'"
      ]
     },
     "execution_count": 31,
     "metadata": {},
     "output_type": "execute_result"
    }
   ],
   "source": [
    "name[0:6]"
   ]
  },
  {
   "cell_type": "code",
   "execution_count": 33,
   "id": "444b44d7",
   "metadata": {},
   "outputs": [
    {
     "data": {
      "text/plain": [
       "('pytho', 'pytho')"
      ]
     },
     "execution_count": 33,
     "metadata": {},
     "output_type": "execute_result"
    }
   ],
   "source": [
    "name[:5], name[0:5]"
   ]
  },
  {
   "cell_type": "code",
   "execution_count": 34,
   "id": "a75632d1",
   "metadata": {},
   "outputs": [
    {
     "data": {
      "text/plain": [
       "'python is good'"
      ]
     },
     "execution_count": 34,
     "metadata": {},
     "output_type": "execute_result"
    }
   ],
   "source": [
    "name[0:]"
   ]
  },
  {
   "cell_type": "code",
   "execution_count": 35,
   "id": "20b0e52f",
   "metadata": {},
   "outputs": [
    {
     "data": {
      "text/plain": [
       "'pytho'"
      ]
     },
     "execution_count": 35,
     "metadata": {},
     "output_type": "execute_result"
    }
   ],
   "source": [
    "name[0:5:1]"
   ]
  },
  {
   "cell_type": "code",
   "execution_count": 36,
   "id": "c9a9c11b",
   "metadata": {},
   "outputs": [
    {
     "data": {
      "text/plain": [
       "'pto'"
      ]
     },
     "execution_count": 36,
     "metadata": {},
     "output_type": "execute_result"
    }
   ],
   "source": [
    "name[0:5:2]"
   ]
  },
  {
   "cell_type": "code",
   "execution_count": 38,
   "id": "73a5926e",
   "metadata": {},
   "outputs": [
    {
     "data": {
      "text/plain": [
       "'ph'"
      ]
     },
     "execution_count": 38,
     "metadata": {},
     "output_type": "execute_result"
    }
   ],
   "source": [
    "name[0:5:3]"
   ]
  },
  {
   "cell_type": "markdown",
   "id": "0b9783be",
   "metadata": {},
   "source": [
    "# String concatenation "
   ]
  },
  {
   "cell_type": "code",
   "execution_count": 39,
   "id": "83d25340",
   "metadata": {},
   "outputs": [],
   "source": [
    "first_name = 'Rahul'\n",
    "last_name = 'Somani'"
   ]
  },
  {
   "cell_type": "code",
   "execution_count": 42,
   "id": "73f44f39",
   "metadata": {},
   "outputs": [
    {
     "data": {
      "text/plain": [
       "(2795821389360, 2795821384496)"
      ]
     },
     "execution_count": 42,
     "metadata": {},
     "output_type": "execute_result"
    }
   ],
   "source": [
    "id(first_name), id(last_name)"
   ]
  },
  {
   "cell_type": "code",
   "execution_count": null,
   "id": "06342e14",
   "metadata": {},
   "outputs": [],
   "source": []
  },
  {
   "cell_type": "code",
   "execution_count": 40,
   "id": "f19a0257",
   "metadata": {},
   "outputs": [],
   "source": [
    "name = first_name  + last_name "
   ]
  },
  {
   "cell_type": "code",
   "execution_count": 41,
   "id": "bb392bd3",
   "metadata": {},
   "outputs": [
    {
     "data": {
      "text/plain": [
       "'RahulSomani'"
      ]
     },
     "execution_count": 41,
     "metadata": {},
     "output_type": "execute_result"
    }
   ],
   "source": [
    "name, id(name)"
   ]
  },
  {
   "cell_type": "code",
   "execution_count": 43,
   "id": "dc6a4bba",
   "metadata": {},
   "outputs": [
    {
     "data": {
      "text/plain": [
       "'Rahul Somani'"
      ]
     },
     "execution_count": 43,
     "metadata": {},
     "output_type": "execute_result"
    }
   ],
   "source": [
    "first_name + \" \" + last_name "
   ]
  },
  {
   "cell_type": "code",
   "execution_count": 44,
   "id": "2f5852a6",
   "metadata": {},
   "outputs": [],
   "source": [
    "msg = \"just a message\"\n",
    "\n",
    "finalval = \"rahul\" + \"somani\" + \"this\" + \"12\""
   ]
  },
  {
   "cell_type": "code",
   "execution_count": 45,
   "id": "f1977df5",
   "metadata": {},
   "outputs": [
    {
     "data": {
      "text/plain": [
       "'rahulsomanithis12'"
      ]
     },
     "execution_count": 45,
     "metadata": {},
     "output_type": "execute_result"
    }
   ],
   "source": [
    "finalval"
   ]
  },
  {
   "cell_type": "code",
   "execution_count": 47,
   "id": "ff30bd44",
   "metadata": {},
   "outputs": [],
   "source": [
    "finalval = \"rahul\" + \"somani\" + \"this\" + \"12\" + msg "
   ]
  },
  {
   "cell_type": "code",
   "execution_count": 48,
   "id": "af184b70",
   "metadata": {},
   "outputs": [
    {
     "data": {
      "text/plain": [
       "'rahulsomanithis12just a message'"
      ]
     },
     "execution_count": 48,
     "metadata": {},
     "output_type": "execute_result"
    }
   ],
   "source": [
    "finalval"
   ]
  },
  {
   "cell_type": "code",
   "execution_count": 49,
   "id": "2099c5a7",
   "metadata": {},
   "outputs": [
    {
     "data": {
      "text/plain": [
       "'pythonis a greatscriptinglanguage'"
      ]
     },
     "execution_count": 49,
     "metadata": {},
     "output_type": "execute_result"
    }
   ],
   "source": [
    "\"python\" \"is a great\" \"scripting\" \"language\""
   ]
  },
  {
   "cell_type": "code",
   "execution_count": 50,
   "id": "523ad551",
   "metadata": {},
   "outputs": [
    {
     "ename": "SyntaxError",
     "evalue": "invalid syntax (1636388800.py, line 1)",
     "output_type": "error",
     "traceback": [
      "\u001b[1;36m  Input \u001b[1;32mIn [50]\u001b[1;36m\u001b[0m\n\u001b[1;33m    \"python\" \"is a great\" \"scripting\" \"language\" msg\u001b[0m\n\u001b[1;37m                                                 ^\u001b[0m\n\u001b[1;31mSyntaxError\u001b[0m\u001b[1;31m:\u001b[0m invalid syntax\n"
     ]
    }
   ],
   "source": [
    "\"python\" \"is a great\" \"scripting\" \"language\" msg"
   ]
  },
  {
   "cell_type": "code",
   "execution_count": 51,
   "id": "5db48fad",
   "metadata": {},
   "outputs": [
    {
     "data": {
      "text/plain": [
       "'pythonis a greatscriptinglanguagejust a message'"
      ]
     },
     "execution_count": 51,
     "metadata": {},
     "output_type": "execute_result"
    }
   ],
   "source": [
    "\"python\" \"is a great\" \"scripting\" \"language\" + msg"
   ]
  },
  {
   "cell_type": "markdown",
   "id": "4cb0f529",
   "metadata": {},
   "source": [
    "#  Quantifying"
   ]
  },
  {
   "cell_type": "code",
   "execution_count": 52,
   "id": "b88d2ba2",
   "metadata": {},
   "outputs": [
    {
     "data": {
      "text/plain": [
       "'____________________________________________________________________________________________________'"
      ]
     },
     "execution_count": 52,
     "metadata": {},
     "output_type": "execute_result"
    }
   ],
   "source": [
    "\"_\"*100"
   ]
  },
  {
   "cell_type": "code",
   "execution_count": 53,
   "id": "afc4129c",
   "metadata": {},
   "outputs": [
    {
     "data": {
      "text/plain": [
       "'RRRRR'"
      ]
     },
     "execution_count": 53,
     "metadata": {},
     "output_type": "execute_result"
    }
   ],
   "source": [
    "\"R\"*5"
   ]
  },
  {
   "cell_type": "code",
   "execution_count": 54,
   "id": "92cef076",
   "metadata": {},
   "outputs": [],
   "source": [
    "path = \"c:\\name\\rahul\\Desktop\""
   ]
  },
  {
   "cell_type": "code",
   "execution_count": 55,
   "id": "0e65bd56",
   "metadata": {},
   "outputs": [
    {
     "name": "stdout",
     "output_type": "stream",
     "text": [
      "c:\n",
      "ahul\\Desktop\n"
     ]
    }
   ],
   "source": [
    "print(path)"
   ]
  },
  {
   "cell_type": "code",
   "execution_count": 56,
   "id": "e12e9626",
   "metadata": {},
   "outputs": [],
   "source": [
    "path = \"c:\\\\name\\\\rahul\\\\Desktop\""
   ]
  },
  {
   "cell_type": "code",
   "execution_count": 57,
   "id": "25d51961",
   "metadata": {},
   "outputs": [
    {
     "data": {
      "text/plain": [
       "'c:\\\\name\\\\rahul\\\\Desktop'"
      ]
     },
     "execution_count": 57,
     "metadata": {},
     "output_type": "execute_result"
    }
   ],
   "source": [
    "path"
   ]
  },
  {
   "cell_type": "code",
   "execution_count": 58,
   "id": "2f32e886",
   "metadata": {},
   "outputs": [
    {
     "name": "stdout",
     "output_type": "stream",
     "text": [
      "c:\\name\\rahul\\Desktop\n"
     ]
    }
   ],
   "source": [
    "print(path)"
   ]
  },
  {
   "cell_type": "markdown",
   "id": "8543a8aa",
   "metadata": {},
   "source": [
    "# The use of raw string ( prefixed by the key r)"
   ]
  },
  {
   "cell_type": "code",
   "execution_count": 59,
   "id": "6fa66c4c",
   "metadata": {},
   "outputs": [],
   "source": [
    "path = r\"c:\\name\\rahul\""
   ]
  },
  {
   "cell_type": "code",
   "execution_count": 61,
   "id": "e109ed7c",
   "metadata": {},
   "outputs": [
    {
     "name": "stdout",
     "output_type": "stream",
     "text": [
      "c:\\name\\rahul\n"
     ]
    },
    {
     "data": {
      "text/plain": [
       "('c:\\\\name\\\\rahul', None)"
      ]
     },
     "execution_count": 61,
     "metadata": {},
     "output_type": "execute_result"
    }
   ],
   "source": [
    "path, print(path)"
   ]
  },
  {
   "cell_type": "code",
   "execution_count": 62,
   "id": "5612a74f",
   "metadata": {},
   "outputs": [
    {
     "data": {
      "text/plain": [
       "<function print>"
      ]
     },
     "execution_count": 62,
     "metadata": {},
     "output_type": "execute_result"
    }
   ],
   "source": [
    "print"
   ]
  },
  {
   "cell_type": "code",
   "execution_count": 63,
   "id": "c31752b1",
   "metadata": {},
   "outputs": [
    {
     "name": "stdout",
     "output_type": "stream",
     "text": [
      "Help on built-in function print in module builtins:\n",
      "\n",
      "print(...)\n",
      "    print(value, ..., sep=' ', end='\\n', file=sys.stdout, flush=False)\n",
      "    \n",
      "    Prints the values to a stream, or to sys.stdout by default.\n",
      "    Optional keyword arguments:\n",
      "    file:  a file-like object (stream); defaults to the current sys.stdout.\n",
      "    sep:   string inserted between values, default a space.\n",
      "    end:   string appended after the last value, default a newline.\n",
      "    flush: whether to forcibly flush the stream.\n",
      "\n"
     ]
    }
   ],
   "source": [
    "help(print)"
   ]
  },
  {
   "cell_type": "code",
   "execution_count": 65,
   "id": "fee5c272",
   "metadata": {},
   "outputs": [
    {
     "name": "stdout",
     "output_type": "stream",
     "text": [
      "python-Java\n"
     ]
    }
   ],
   "source": [
    "print(\"python\", end='-')\n",
    "print(\"Java\")"
   ]
  },
  {
   "cell_type": "code",
   "execution_count": 66,
   "id": "c1ca2b74",
   "metadata": {},
   "outputs": [
    {
     "name": "stdout",
     "output_type": "stream",
     "text": [
      "hello\t\thow are you \n"
     ]
    }
   ],
   "source": [
    "print(\"hello\", end = '\\t\\t')\n",
    "print('how are you ')"
   ]
  },
  {
   "cell_type": "code",
   "execution_count": 67,
   "id": "dad575e0",
   "metadata": {},
   "outputs": [
    {
     "name": "stdout",
     "output_type": "stream",
     "text": [
      "hello\n",
      "how are you ?\n"
     ]
    }
   ],
   "source": [
    "print(\"hello\", end='\\n')\n",
    "print('how are you ?')"
   ]
  },
  {
   "cell_type": "code",
   "execution_count": 68,
   "id": "3c3434f3",
   "metadata": {},
   "outputs": [
    {
     "name": "stdout",
     "output_type": "stream",
     "text": [
      "hello\n",
      "how are you ?\n"
     ]
    }
   ],
   "source": [
    "print(\"hello\")\n",
    "print('how are you ?')"
   ]
  },
  {
   "cell_type": "code",
   "execution_count": 69,
   "id": "53905da4",
   "metadata": {},
   "outputs": [
    {
     "data": {
      "text/plain": [
       "<function print>"
      ]
     },
     "execution_count": 69,
     "metadata": {},
     "output_type": "execute_result"
    }
   ],
   "source": [
    "print"
   ]
  },
  {
   "cell_type": "code",
   "execution_count": 70,
   "id": "516c8e08",
   "metadata": {},
   "outputs": [
    {
     "name": "stdout",
     "output_type": "stream",
     "text": [
      "Help on built-in function print in module builtins:\n",
      "\n",
      "print(...)\n",
      "    print(value, ..., sep=' ', end='\\n', file=sys.stdout, flush=False)\n",
      "    \n",
      "    Prints the values to a stream, or to sys.stdout by default.\n",
      "    Optional keyword arguments:\n",
      "    file:  a file-like object (stream); defaults to the current sys.stdout.\n",
      "    sep:   string inserted between values, default a space.\n",
      "    end:   string appended after the last value, default a newline.\n",
      "    flush: whether to forcibly flush the stream.\n",
      "\n"
     ]
    }
   ],
   "source": [
    "help(print)"
   ]
  },
  {
   "cell_type": "code",
   "execution_count": 72,
   "id": "37145f62",
   "metadata": {},
   "outputs": [
    {
     "name": "stdout",
     "output_type": "stream",
     "text": [
      "['__call__', '__class__', '__delattr__', '__dir__', '__doc__', '__eq__', '__format__', '__ge__', '__getattribute__', '__gt__', '__hash__', '__init__', '__init_subclass__', '__le__', '__lt__', '__module__', '__name__', '__ne__', '__new__', '__qualname__', '__reduce__', '__reduce_ex__', '__repr__', '__self__', '__setattr__', '__sizeof__', '__str__', '__subclasshook__', '__text_signature__']\n"
     ]
    }
   ],
   "source": [
    "print(dir(print))"
   ]
  },
  {
   "cell_type": "markdown",
   "id": "d0e37f0e",
   "metadata": {},
   "source": [
    "# write a program that asks for user input and then displays the output ( we may do some operations ?)"
   ]
  },
  {
   "cell_type": "code",
   "execution_count": 73,
   "id": "ee6100ab",
   "metadata": {},
   "outputs": [
    {
     "data": {
      "text/plain": [
       "<bound method Kernel.raw_input of <ipykernel.ipkernel.IPythonKernel object at 0x0000028AF2345870>>"
      ]
     },
     "execution_count": 73,
     "metadata": {},
     "output_type": "execute_result"
    }
   ],
   "source": [
    "input"
   ]
  },
  {
   "cell_type": "code",
   "execution_count": 74,
   "id": "8e15bb8b",
   "metadata": {},
   "outputs": [
    {
     "name": "stdout",
     "output_type": "stream",
     "text": [
      "Help on method raw_input in module ipykernel.kernelbase:\n",
      "\n",
      "raw_input(prompt='') method of ipykernel.ipkernel.IPythonKernel instance\n",
      "    Forward raw_input to frontends\n",
      "    \n",
      "    Raises\n",
      "    ------\n",
      "    StdinNotImplementedError if active frontend doesn't support stdin.\n",
      "\n"
     ]
    }
   ],
   "source": [
    "help(input)"
   ]
  },
  {
   "cell_type": "code",
   "execution_count": 76,
   "id": "1544ce86",
   "metadata": {},
   "outputs": [
    {
     "name": "stdout",
     "output_type": "stream",
     "text": [
      "Enter your first name rahul\n",
      "Enter your last namesomani\n",
      "rahul somani\n"
     ]
    }
   ],
   "source": [
    "first_name = input(\"Enter your first name \")\n",
    "last_name = input(\"Enter your last name\")\n",
    "\n",
    "print(first_name,last_name)"
   ]
  },
  {
   "cell_type": "code",
   "execution_count": 77,
   "id": "d5e5cac4",
   "metadata": {},
   "outputs": [
    {
     "data": {
      "text/plain": [
       "(str, str)"
      ]
     },
     "execution_count": 77,
     "metadata": {},
     "output_type": "execute_result"
    }
   ],
   "source": [
    "type(first_name), type(last_name)"
   ]
  },
  {
   "cell_type": "markdown",
   "id": "e5589cd7",
   "metadata": {},
   "source": [
    "# Use the input function to accept to integer values and calculate the sum of those values "
   ]
  },
  {
   "cell_type": "code",
   "execution_count": 79,
   "id": "d69b4b59",
   "metadata": {},
   "outputs": [
    {
     "name": "stdout",
     "output_type": "stream",
     "text": [
      "Enter first value10\n",
      "Enter second value20\n",
      "<class 'int'> <class 'int'>\n",
      "The addition =  30\n"
     ]
    }
   ],
   "source": [
    "a = int(input(\"Enter first value\"))\n",
    "b = int(input(\"Enter second value\"))\n",
    "\n",
    "print(type(a), type(b))\n",
    "print(\"The addition = \", a+b)"
   ]
  },
  {
   "cell_type": "code",
   "execution_count": 80,
   "id": "0074bb8a",
   "metadata": {},
   "outputs": [
    {
     "ename": "SyntaxError",
     "evalue": "invalid syntax. Perhaps you forgot a comma? (397512849.py, line 5)",
     "output_type": "error",
     "traceback": [
      "\u001b[1;36m  Input \u001b[1;32mIn [80]\u001b[1;36m\u001b[0m\n\u001b[1;33m    print(\"The addition = \" a+b)\u001b[0m\n\u001b[1;37m          ^\u001b[0m\n\u001b[1;31mSyntaxError\u001b[0m\u001b[1;31m:\u001b[0m invalid syntax. Perhaps you forgot a comma?\n"
     ]
    }
   ],
   "source": [
    "a = int(input(\"Enter first value\"))\n",
    "b = int(input(\"Enter second value\"))\n",
    "\n",
    "print(type(a), type(b))\n",
    "print(\"The addition = \", a+b)"
   ]
  },
  {
   "cell_type": "code",
   "execution_count": null,
   "id": "a2a4dead",
   "metadata": {},
   "outputs": [],
   "source": []
  },
  {
   "cell_type": "markdown",
   "id": "240f3fb3",
   "metadata": {},
   "source": [
    "# f-string"
   ]
  },
  {
   "cell_type": "code",
   "execution_count": 81,
   "id": "6ddcd771",
   "metadata": {},
   "outputs": [
    {
     "name": "stdout",
     "output_type": "stream",
     "text": [
      " Hey Shiva you are 23 years old and your profession is software engineer\n"
     ]
    }
   ],
   "source": [
    "name = 'Shiva'\n",
    "age = 23\n",
    "profession = 'software engineer'\n",
    "\n",
    "print(f' Hey {name} you are {age} years old and your profession is {profession}')"
   ]
  },
  {
   "cell_type": "markdown",
   "id": "efefd7b0",
   "metadata": {},
   "source": [
    "# use of format method on string "
   ]
  },
  {
   "cell_type": "code",
   "execution_count": 82,
   "id": "9e615a97",
   "metadata": {},
   "outputs": [
    {
     "data": {
      "text/plain": [
       "('Shiva', 23, 'software engineer')"
      ]
     },
     "execution_count": 82,
     "metadata": {},
     "output_type": "execute_result"
    }
   ],
   "source": [
    "name,age,profession"
   ]
  },
  {
   "cell_type": "code",
   "execution_count": 83,
   "id": "d34888b6",
   "metadata": {},
   "outputs": [
    {
     "name": "stdout",
     "output_type": "stream",
     "text": [
      "Hey Shiva you are 23 years old and your profession is software engineer \n"
     ]
    }
   ],
   "source": [
    "print('Hey {} you are {} years old and your profession is {} '.format(name,age,profession))"
   ]
  },
  {
   "cell_type": "code",
   "execution_count": 84,
   "id": "93ea45ac",
   "metadata": {},
   "outputs": [
    {
     "name": "stdout",
     "output_type": "stream",
     "text": [
      "Hey Shiva you are 23 years old and your profession is software engineer \n"
     ]
    }
   ],
   "source": [
    "print('Hey {0} you are {1} years old and your profession is {2} '.format(name,age,profession))"
   ]
  },
  {
   "cell_type": "code",
   "execution_count": 85,
   "id": "c1dd1d41",
   "metadata": {},
   "outputs": [
    {
     "name": "stdout",
     "output_type": "stream",
     "text": [
      "Hey 23 you are Shiva years old and your profession is software engineer \n"
     ]
    }
   ],
   "source": [
    "print('Hey {1} you are {0} years old and your profession is {2} '.format(name,age,profession))"
   ]
  },
  {
   "cell_type": "markdown",
   "id": "6c92fe1e",
   "metadata": {},
   "source": [
    "# Try to ask user for first name and last name ( rahul, somani)\n",
    "\n",
    "` output : r somani `"
   ]
  },
  {
   "cell_type": "code",
   "execution_count": 86,
   "id": "5f124891",
   "metadata": {},
   "outputs": [
    {
     "name": "stdout",
     "output_type": "stream",
     "text": [
      "Help on method_descriptor:\n",
      "\n",
      "center(self, width, fillchar=' ', /)\n",
      "    Return a centered string of length width.\n",
      "    \n",
      "    Padding is done using the specified fill character (default is a space).\n",
      "\n"
     ]
    }
   ],
   "source": [
    "help(str.center)"
   ]
  },
  {
   "cell_type": "markdown",
   "id": "009088f7",
   "metadata": {},
   "source": [
    " `center(self, width, fillchar=' ', /)`"
   ]
  },
  {
   "cell_type": "code",
   "execution_count": 88,
   "id": "87bf1f39",
   "metadata": {},
   "outputs": [
    {
     "data": {
      "text/plain": [
       "'-----------------------------------------------rahul------------------------------------------------'"
      ]
     },
     "execution_count": 88,
     "metadata": {},
     "output_type": "execute_result"
    }
   ],
   "source": [
    "\"rahul\".center(100,'-')"
   ]
  },
  {
   "cell_type": "code",
   "execution_count": 89,
   "id": "534b8766",
   "metadata": {},
   "outputs": [
    {
     "name": "stdout",
     "output_type": "stream",
     "text": [
      "['__add__', '__class__', '__contains__', '__delattr__', '__dir__', '__doc__', '__eq__', '__format__', '__ge__', '__getattribute__', '__getitem__', '__getnewargs__', '__gt__', '__hash__', '__init__', '__init_subclass__', '__iter__', '__le__', '__len__', '__lt__', '__mod__', '__mul__', '__ne__', '__new__', '__reduce__', '__reduce_ex__', '__repr__', '__rmod__', '__rmul__', '__setattr__', '__sizeof__', '__str__', '__subclasshook__', 'capitalize', 'casefold', 'center', 'count', 'encode', 'endswith', 'expandtabs', 'find', 'format', 'format_map', 'index', 'isalnum', 'isalpha', 'isascii', 'isdecimal', 'isdigit', 'isidentifier', 'islower', 'isnumeric', 'isprintable', 'isspace', 'istitle', 'isupper', 'join', 'ljust', 'lower', 'lstrip', 'maketrans', 'partition', 'removeprefix', 'removesuffix', 'replace', 'rfind', 'rindex', 'rjust', 'rpartition', 'rsplit', 'rstrip', 'split', 'splitlines', 'startswith', 'strip', 'swapcase', 'title', 'translate', 'upper', 'zfill']\n"
     ]
    }
   ],
   "source": [
    "print(dir(str))"
   ]
  },
  {
   "cell_type": "code",
   "execution_count": 90,
   "id": "795f1f65",
   "metadata": {},
   "outputs": [
    {
     "name": "stdout",
     "output_type": "stream",
     "text": [
      "Help on method_descriptor:\n",
      "\n",
      "strip(self, chars=None, /)\n",
      "    Return a copy of the string with leading and trailing whitespace removed.\n",
      "    \n",
      "    If chars is given and not None, remove characters in chars instead.\n",
      "\n"
     ]
    }
   ],
   "source": [
    "help(str.strip)"
   ]
  },
  {
   "cell_type": "code",
   "execution_count": 91,
   "id": "583e2186",
   "metadata": {},
   "outputs": [
    {
     "data": {
      "text/plain": [
       "'somani'"
      ]
     },
     "execution_count": 91,
     "metadata": {},
     "output_type": "execute_result"
    }
   ],
   "source": [
    "\"somani%\".strip('%')"
   ]
  },
  {
   "cell_type": "code",
   "execution_count": 92,
   "id": "c0c8553f",
   "metadata": {},
   "outputs": [
    {
     "data": {
      "text/plain": [
       "'somani'"
      ]
     },
     "execution_count": 92,
     "metadata": {},
     "output_type": "execute_result"
    }
   ],
   "source": [
    "\"somani%?*\".strip('%?*')"
   ]
  },
  {
   "cell_type": "code",
   "execution_count": 93,
   "id": "9201b9d1",
   "metadata": {},
   "outputs": [
    {
     "data": {
      "text/plain": [
       "<method 'lstrip' of 'str' objects>"
      ]
     },
     "execution_count": 93,
     "metadata": {},
     "output_type": "execute_result"
    }
   ],
   "source": [
    "str.lstrip # Home assignment"
   ]
  },
  {
   "cell_type": "code",
   "execution_count": 94,
   "id": "64e725a2",
   "metadata": {},
   "outputs": [
    {
     "data": {
      "text/plain": [
       "<method 'rstrip' of 'str' objects>"
      ]
     },
     "execution_count": 94,
     "metadata": {},
     "output_type": "execute_result"
    }
   ],
   "source": [
    "str.rstrip  # Home assignment"
   ]
  },
  {
   "cell_type": "code",
   "execution_count": 95,
   "id": "4a0a1767",
   "metadata": {},
   "outputs": [],
   "source": [
    "# split"
   ]
  },
  {
   "cell_type": "code",
   "execution_count": 96,
   "id": "54b327f6",
   "metadata": {},
   "outputs": [
    {
     "data": {
      "text/plain": [
       "['Ajay', 'Kumar']"
      ]
     },
     "execution_count": 96,
     "metadata": {},
     "output_type": "execute_result"
    }
   ],
   "source": [
    "name = 'Ajay Kumar'\n",
    "name.split()"
   ]
  },
  {
   "cell_type": "code",
   "execution_count": 97,
   "id": "826f2603",
   "metadata": {},
   "outputs": [
    {
     "data": {
      "text/plain": [
       "['rahul']"
      ]
     },
     "execution_count": 97,
     "metadata": {},
     "output_type": "execute_result"
    }
   ],
   "source": [
    "\"rahul\".split()"
   ]
  },
  {
   "cell_type": "code",
   "execution_count": 98,
   "id": "8b8185f1",
   "metadata": {},
   "outputs": [
    {
     "data": {
      "text/plain": [
       "'RAhUl sOmaNi'"
      ]
     },
     "execution_count": 98,
     "metadata": {},
     "output_type": "execute_result"
    }
   ],
   "source": [
    "\"raHuL SoMAnI\".swapcase()"
   ]
  },
  {
   "cell_type": "code",
   "execution_count": null,
   "id": "1626bea2",
   "metadata": {},
   "outputs": [],
   "source": []
  }
 ],
 "metadata": {
  "kernelspec": {
   "display_name": "Python 3 (ipykernel)",
   "language": "python",
   "name": "python3"
  },
  "language_info": {
   "codemirror_mode": {
    "name": "ipython",
    "version": 3
   },
   "file_extension": ".py",
   "mimetype": "text/x-python",
   "name": "python",
   "nbconvert_exporter": "python",
   "pygments_lexer": "ipython3",
   "version": "3.10.4"
  }
 },
 "nbformat": 4,
 "nbformat_minor": 5
}
