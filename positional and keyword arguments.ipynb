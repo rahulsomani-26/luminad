{
 "cells": [
  {
   "cell_type": "code",
   "execution_count": 1,
   "id": "51b69519",
   "metadata": {},
   "outputs": [],
   "source": [
    "def my_func_1(*a):\n",
    "    print(a, type(a))\n",
    "    \n",
    "def my_func_2(*a,**b):\n",
    "    print(a,type(a))\n",
    "    print(b,type(b))"
   ]
  },
  {
   "cell_type": "markdown",
   "id": "5d311502",
   "metadata": {},
   "source": [
    "`The above argument passing mechanism is known as variable number of positional arg( first function )\n",
    "and variable number of positional and keyword argument ( Second Function ) `"
   ]
  },
  {
   "cell_type": "code",
   "execution_count": 2,
   "id": "b629e494",
   "metadata": {},
   "outputs": [
    {
     "name": "stdout",
     "output_type": "stream",
     "text": [
      "(10, 20, 30) <class 'tuple'>\n"
     ]
    }
   ],
   "source": [
    "my_func_1(10,20,30)\n"
   ]
  },
  {
   "cell_type": "code",
   "execution_count": 3,
   "id": "55e4319a",
   "metadata": {},
   "outputs": [
    {
     "name": "stdout",
     "output_type": "stream",
     "text": [
      "(10, 20, 30) <class 'tuple'>\n",
      "{'firstname': 'rahul', 'lastname': 'somani', 'age': 42} <class 'dict'>\n"
     ]
    }
   ],
   "source": [
    "my_func_2(10,20,30,firstname='rahul',lastname='somani',age=42)"
   ]
  },
  {
   "cell_type": "markdown",
   "id": "81d40013",
   "metadata": {},
   "source": [
    "`According to python convention positional arg are represented by *args and keyword args are \n",
    "represented by **kwargs `\n",
    "***\n",
    "******"
   ]
  },
  {
   "cell_type": "code",
   "execution_count": 8,
   "id": "50923164",
   "metadata": {},
   "outputs": [],
   "source": [
    "def my_func(*args,**kwargs):\n",
    "    print(\"Hello {} \".format(args[0]))\n",
    "    print(\"calculating the marks you obtained\")\n",
    "    marks = sum(kwargs.values())\n",
    "    print(\"Total marks = {} \".format(marks))"
   ]
  },
  {
   "cell_type": "code",
   "execution_count": 9,
   "id": "caaf20e7",
   "metadata": {},
   "outputs": [
    {
     "name": "stdout",
     "output_type": "stream",
     "text": [
      "Hello Ujjwal \n",
      "calculating the marks you obtained\n",
      "Total marks = 290 \n"
     ]
    }
   ],
   "source": [
    "my_func('Ujjwal',hindi=80,eng=60,math=80,science=70)"
   ]
  },
  {
   "cell_type": "code",
   "execution_count": null,
   "id": "5a0b0dd6",
   "metadata": {},
   "outputs": [],
   "source": []
  }
 ],
 "metadata": {
  "kernelspec": {
   "display_name": "Python 3 (ipykernel)",
   "language": "python",
   "name": "python3"
  },
  "language_info": {
   "codemirror_mode": {
    "name": "ipython",
    "version": 3
   },
   "file_extension": ".py",
   "mimetype": "text/x-python",
   "name": "python",
   "nbconvert_exporter": "python",
   "pygments_lexer": "ipython3",
   "version": "3.10.4"
  }
 },
 "nbformat": 4,
 "nbformat_minor": 5
}
