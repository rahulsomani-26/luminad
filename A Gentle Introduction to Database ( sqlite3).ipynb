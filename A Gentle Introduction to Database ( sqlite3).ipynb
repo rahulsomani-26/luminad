{
 "cells": [
  {
   "cell_type": "markdown",
   "id": "230d06a3",
   "metadata": {},
   "source": [
    "# Database \n",
    "` python comes bundled with a library called sqlite3 that is a very light weight, yet powerful db `\n",
    "\n",
    "pass\n",
    "\n"
   ]
  },
  {
   "cell_type": "code",
   "execution_count": 23,
   "id": "5fa78c86",
   "metadata": {},
   "outputs": [],
   "source": [
    "import sqlite3 as sq"
   ]
  },
  {
   "cell_type": "code",
   "execution_count": 24,
   "id": "60763b20",
   "metadata": {},
   "outputs": [
    {
     "data": {
      "text/plain": [
       "<module 'sqlite3' from 'C:\\\\Users\\\\Rahul somani\\\\AppData\\\\Local\\\\Programs\\\\Python\\\\Python310\\\\lib\\\\sqlite3\\\\__init__.py'>"
      ]
     },
     "execution_count": 24,
     "metadata": {},
     "output_type": "execute_result"
    }
   ],
   "source": [
    "sq"
   ]
  },
  {
   "cell_type": "code",
   "execution_count": 25,
   "id": "a9725539",
   "metadata": {},
   "outputs": [
    {
     "name": "stdout",
     "output_type": "stream",
     "text": [
      "['Binary', 'Connection', 'Cursor', 'DataError', 'DatabaseError', 'Date', 'DateFromTicks', 'Error', 'IntegrityError', 'InterfaceError', 'InternalError', 'NotSupportedError', 'OperationalError', 'PARSE_COLNAMES', 'PARSE_DECLTYPES', 'PrepareProtocol', 'ProgrammingError', 'Row', 'SQLITE_ALTER_TABLE', 'SQLITE_ANALYZE', 'SQLITE_ATTACH', 'SQLITE_CREATE_INDEX', 'SQLITE_CREATE_TABLE', 'SQLITE_CREATE_TEMP_INDEX', 'SQLITE_CREATE_TEMP_TABLE', 'SQLITE_CREATE_TEMP_TRIGGER', 'SQLITE_CREATE_TEMP_VIEW', 'SQLITE_CREATE_TRIGGER', 'SQLITE_CREATE_VIEW', 'SQLITE_CREATE_VTABLE', 'SQLITE_DELETE', 'SQLITE_DENY', 'SQLITE_DETACH', 'SQLITE_DONE', 'SQLITE_DROP_INDEX', 'SQLITE_DROP_TABLE', 'SQLITE_DROP_TEMP_INDEX', 'SQLITE_DROP_TEMP_TABLE', 'SQLITE_DROP_TEMP_TRIGGER', 'SQLITE_DROP_TEMP_VIEW', 'SQLITE_DROP_TRIGGER', 'SQLITE_DROP_VIEW', 'SQLITE_DROP_VTABLE', 'SQLITE_FUNCTION', 'SQLITE_IGNORE', 'SQLITE_INSERT', 'SQLITE_OK', 'SQLITE_PRAGMA', 'SQLITE_READ', 'SQLITE_RECURSIVE', 'SQLITE_REINDEX', 'SQLITE_SAVEPOINT', 'SQLITE_SELECT', 'SQLITE_TRANSACTION', 'SQLITE_UPDATE', 'Time', 'TimeFromTicks', 'Timestamp', 'TimestampFromTicks', 'Warning', '__builtins__', '__cached__', '__doc__', '__file__', '__getattr__', '__loader__', '__name__', '__package__', '__path__', '__spec__', 'adapt', 'adapters', 'apilevel', 'collections', 'complete_statement', 'connect', 'converters', 'datetime', 'dbapi2', 'enable_callback_tracebacks', 'enable_shared_cache', 'paramstyle', 'register_adapter', 'register_converter', 'sqlite_version', 'sqlite_version_info', 'threadsafety', 'time', 'version', 'version_info']\n"
     ]
    }
   ],
   "source": [
    "print(dir(sq))"
   ]
  },
  {
   "cell_type": "code",
   "execution_count": 26,
   "id": "b514080c",
   "metadata": {},
   "outputs": [
    {
     "data": {
      "text/plain": [
       "False"
      ]
     },
     "execution_count": 26,
     "metadata": {},
     "output_type": "execute_result"
    }
   ],
   "source": [
    "'cursor' in dir(sq)"
   ]
  },
  {
   "cell_type": "code",
   "execution_count": 27,
   "id": "fe378b59",
   "metadata": {},
   "outputs": [
    {
     "data": {
      "text/plain": [
       "'SQLite database cursor class.'"
      ]
     },
     "execution_count": 27,
     "metadata": {},
     "output_type": "execute_result"
    }
   ],
   "source": [
    "sq.Cursor.__doc__"
   ]
  },
  {
   "cell_type": "code",
   "execution_count": 28,
   "id": "f5405265",
   "metadata": {},
   "outputs": [
    {
     "name": "stdout",
     "output_type": "stream",
     "text": [
      "Help on class Cursor in module sqlite3:\n",
      "\n",
      "class Cursor(builtins.object)\n",
      " |  SQLite database cursor class.\n",
      " |  \n",
      " |  Methods defined here:\n",
      " |  \n",
      " |  __init__(self, /, *args, **kwargs)\n",
      " |      Initialize self.  See help(type(self)) for accurate signature.\n",
      " |  \n",
      " |  __iter__(self, /)\n",
      " |      Implement iter(self).\n",
      " |  \n",
      " |  __next__(self, /)\n",
      " |      Implement next(self).\n",
      " |  \n",
      " |  close(self, /)\n",
      " |      Closes the cursor.\n",
      " |  \n",
      " |  execute(self, sql, parameters=(), /)\n",
      " |      Executes an SQL statement.\n",
      " |  \n",
      " |  executemany(self, sql, seq_of_parameters, /)\n",
      " |      Repeatedly executes an SQL statement.\n",
      " |  \n",
      " |  executescript(self, sql_script, /)\n",
      " |      Executes multiple SQL statements at once.\n",
      " |  \n",
      " |  fetchall(self, /)\n",
      " |      Fetches all rows from the resultset.\n",
      " |  \n",
      " |  fetchmany(self, /, size=1)\n",
      " |      Fetches several rows from the resultset.\n",
      " |      \n",
      " |      size\n",
      " |        The default value is set by the Cursor.arraysize attribute.\n",
      " |  \n",
      " |  fetchone(self, /)\n",
      " |      Fetches one row from the resultset.\n",
      " |  \n",
      " |  setinputsizes(self, sizes, /)\n",
      " |      Required by DB-API. Does nothing in sqlite3.\n",
      " |  \n",
      " |  setoutputsize(self, size, column=None, /)\n",
      " |      Required by DB-API. Does nothing in sqlite3.\n",
      " |  \n",
      " |  ----------------------------------------------------------------------\n",
      " |  Data descriptors defined here:\n",
      " |  \n",
      " |  arraysize\n",
      " |  \n",
      " |  connection\n",
      " |  \n",
      " |  description\n",
      " |  \n",
      " |  lastrowid\n",
      " |  \n",
      " |  row_factory\n",
      " |  \n",
      " |  rowcount\n",
      "\n"
     ]
    }
   ],
   "source": [
    "help(sq.Cursor)"
   ]
  },
  {
   "cell_type": "code",
   "execution_count": null,
   "id": "d44f01a9",
   "metadata": {},
   "outputs": [],
   "source": []
  },
  {
   "cell_type": "code",
   "execution_count": 10,
   "id": "acefe577",
   "metadata": {},
   "outputs": [],
   "source": [
    "connection = sq.connect(\"testdb.sqlite3\")"
   ]
  },
  {
   "cell_type": "markdown",
   "id": "895806ec",
   "metadata": {},
   "source": [
    "# Lets create a databse and then create table within the database and insert values in the table "
   ]
  },
  {
   "cell_type": "code",
   "execution_count": 12,
   "id": "ee853e5c",
   "metadata": {},
   "outputs": [
    {
     "ename": "OperationalError",
     "evalue": "table TEST already exists",
     "output_type": "error",
     "traceback": [
      "\u001b[1;31m---------------------------------------------------------------------------\u001b[0m",
      "\u001b[1;31mOperationalError\u001b[0m                          Traceback (most recent call last)",
      "Input \u001b[1;32mIn [12]\u001b[0m, in \u001b[0;36m<cell line: 3>\u001b[1;34m()\u001b[0m\n\u001b[0;32m      1\u001b[0m \u001b[38;5;28;01mimport\u001b[39;00m \u001b[38;5;21;01msqlite3\u001b[39;00m\n\u001b[0;32m      2\u001b[0m con \u001b[38;5;241m=\u001b[39m sqlite3\u001b[38;5;241m.\u001b[39mconnect(\u001b[38;5;124m'\u001b[39m\u001b[38;5;124mtest.db\u001b[39m\u001b[38;5;124m'\u001b[39m) \u001b[38;5;66;03m# creates a database and returns a handle to the db\u001b[39;00m\n\u001b[1;32m----> 3\u001b[0m \u001b[43mcon\u001b[49m\u001b[38;5;241;43m.\u001b[39;49m\u001b[43mexecute\u001b[49m\u001b[43m(\u001b[49m\u001b[38;5;124;43m'\u001b[39;49m\u001b[38;5;124;43m create table TEST(name text,age integer)\u001b[39;49m\u001b[38;5;124;43m'\u001b[39;49m\u001b[43m)\u001b[49m \u001b[38;5;66;03m# fires an sql query to create a table\u001b[39;00m\n\u001b[0;32m      4\u001b[0m con\u001b[38;5;241m.\u001b[39mexecute(\u001b[38;5;124m'\u001b[39m\u001b[38;5;124minsert into TEST values(?,?)\u001b[39m\u001b[38;5;124m'\u001b[39m,(\u001b[38;5;124m'\u001b[39m\u001b[38;5;124mRahul\u001b[39m\u001b[38;5;124m'\u001b[39m,\u001b[38;5;241m42\u001b[39m)) \u001b[38;5;66;03m# fires an sql query to insert data within a table\u001b[39;00m\n\u001b[0;32m      5\u001b[0m con\u001b[38;5;241m.\u001b[39mexecute(\u001b[38;5;124m'\u001b[39m\u001b[38;5;124minsert into TEST values(?,?)\u001b[39m\u001b[38;5;124m'\u001b[39m,(\u001b[38;5;124m'\u001b[39m\u001b[38;5;124mGokul\u001b[39m\u001b[38;5;124m'\u001b[39m,\u001b[38;5;241m24\u001b[39m))\n",
      "\u001b[1;31mOperationalError\u001b[0m: table TEST already exists"
     ]
    }
   ],
   "source": [
    "import sqlite3\n",
    "con = sqlite3.connect('test.db') # creates a database and returns a handle to the db\n",
    "con.execute(' create table TEST(name text,age integer)') # fires an sql query to create a table\n",
    "con.execute('insert into TEST values(?,?)',('Rahul',42)) # fires an sql query to insert data within a table\n",
    "con.execute('insert into TEST values(?,?)',('Gokul',24))\n",
    "con.close()"
   ]
  },
  {
   "cell_type": "code",
   "execution_count": 13,
   "id": "58494f7e",
   "metadata": {},
   "outputs": [],
   "source": [
    "import sqlite3\n",
    "con = sqlite3.connect('test.db') # creates a database and returns a handle to the db\n",
    "con.execute(' create table if not exists TEST(name text,age integer)') # fires an sql query to create a table\n",
    "con.execute('insert into TEST values(?,?)',('Rahul',42)) # fires an sql query to insert data within a table\n",
    "con.execute('insert into TEST values(?,?)',('Gokul',24))\n",
    "con.close()"
   ]
  },
  {
   "cell_type": "code",
   "execution_count": 17,
   "id": "1fcc228b",
   "metadata": {},
   "outputs": [],
   "source": [
    "# Retrieving contents from the database \n",
    "con = sqlite3.connect('test.db')\n",
    "records = con.execute('select * from TEST')"
   ]
  },
  {
   "cell_type": "code",
   "execution_count": 18,
   "id": "35b74dc3",
   "metadata": {},
   "outputs": [
    {
     "data": {
      "text/plain": [
       "(<sqlite3.Cursor at 0x24bbe9407c0>, sqlite3.Cursor, 2524343175104)"
      ]
     },
     "execution_count": 18,
     "metadata": {},
     "output_type": "execute_result"
    }
   ],
   "source": [
    "records, type(records), id(records)"
   ]
  },
  {
   "cell_type": "code",
   "execution_count": 20,
   "id": "5960dcc0",
   "metadata": {},
   "outputs": [
    {
     "data": {
      "text/plain": [
       "<sqlite3.Cursor at 0x24bbe9407c0>"
      ]
     },
     "execution_count": 20,
     "metadata": {},
     "output_type": "execute_result"
    }
   ],
   "source": [
    "records"
   ]
  },
  {
   "cell_type": "code",
   "execution_count": 21,
   "id": "af7cfca9",
   "metadata": {},
   "outputs": [
    {
     "name": "stdout",
     "output_type": "stream",
     "text": [
      "['__class__', '__delattr__', '__dir__', '__doc__', '__eq__', '__format__', '__ge__', '__getattribute__', '__gt__', '__hash__', '__init__', '__init_subclass__', '__iter__', '__le__', '__lt__', '__module__', '__ne__', '__new__', '__next__', '__reduce__', '__reduce_ex__', '__repr__', '__setattr__', '__sizeof__', '__str__', '__subclasshook__', 'arraysize', 'close', 'connection', 'description', 'execute', 'executemany', 'executescript', 'fetchall', 'fetchmany', 'fetchone', 'lastrowid', 'row_factory', 'rowcount', 'setinputsizes', 'setoutputsize']\n"
     ]
    }
   ],
   "source": [
    "print(dir(records))"
   ]
  },
  {
   "cell_type": "code",
   "execution_count": 22,
   "id": "e68b3575",
   "metadata": {},
   "outputs": [
    {
     "data": {
      "text/plain": [
       "[]"
      ]
     },
     "execution_count": 22,
     "metadata": {},
     "output_type": "execute_result"
    }
   ],
   "source": [
    "records.fetchall()"
   ]
  },
  {
   "cell_type": "code",
   "execution_count": 31,
   "id": "7b8a4396",
   "metadata": {},
   "outputs": [
    {
     "name": "stdout",
     "output_type": "stream",
     "text": [
      "Connected to the database\n",
      "Table created\n",
      "Data written\n",
      "Data read\n",
      "[(10, 'rahul'), (20, 'ujjwal')]\n"
     ]
    }
   ],
   "source": [
    "import sqlite3\n",
    "try:\n",
    "    con = sqlite3.connect(\"rahul.db\")\n",
    "    print(\"Connected to the database\")\n",
    "except Exception as e:\n",
    "    print(e)\n",
    "    \n",
    "cur = con.cursor()\n",
    "try:\n",
    "    cur.execute('create table if not exists USER(id integer, name text)')\n",
    "    print(\"Table created\")\n",
    "except Exception as e:\n",
    "    print(\"error\",e)\n",
    "\n",
    "# write data \n",
    "try:\n",
    "    cur.execute('insert into USER values(?,?)',(10,'rahul'))\n",
    "    cur.execute('insert into USER values(?,?)',(20,'ujjwal'))\n",
    "    print('Data written')\n",
    "except Exception as e:\n",
    "    print(\"Error in writing data: {}\".format(e))\n",
    "\n",
    "# Reading data \n",
    "try:\n",
    "    records = cur.execute('select * from USER')\n",
    "    print('Data read')\n",
    "    print(records.fetchall())\n",
    "except Exception as e:\n",
    "    print(\"Error in reading data: {}\".format(e))\n",
    "    \n"
   ]
  },
  {
   "cell_type": "markdown",
   "id": "8427cece",
   "metadata": {},
   "source": [
    "\n",
    "# Convert the same into functions"
   ]
  },
  {
   "cell_type": "code",
   "execution_count": 37,
   "id": "4e057619",
   "metadata": {},
   "outputs": [],
   "source": [
    "import sqlite3\n",
    "\n",
    "def create_db(db_name):\n",
    "    \"\"\"creates database and returns the connection object\"\"\"\n",
    "    try:\n",
    "        con = sqlite3.connect(db_name)\n",
    "        print(\"Connected to the database\")\n",
    "    except Exception as e:\n",
    "        print(e)\n",
    "        \n",
    "    return con \n",
    "\n",
    "def create_table(con,table_name):\n",
    "    \"\"\" creates tables in the database\"\"\"\n",
    "    cur = con.cursor()\n",
    "    try:\n",
    "        cur.execute('create table if not exists {}(id integer PRIMARY KEY AUTOINCREMENT, name text)'.format(table_name))\n",
    "        print(\"{} Table created\".format(table_name))\n",
    "    except Exception as e:\n",
    "        print(\"error\",e)\n",
    "    finally:\n",
    "        return cur\n",
    "\n",
    "        \n",
    "def write_data(cur,table_name='info'):\n",
    "    # write data \n",
    "    try:\n",
    "        cur.execute('insert into {} values(?,?)'.format(table_name),(10,'Gokul'))\n",
    "        cur.execute('insert into {} values(?,?)'.format(table_name),(20,'Krish'))\n",
    "        print('Data written')\n",
    "    except Exception as e:\n",
    "        print(\"Error in writing data: {}\".format(e))\n",
    "    finally:\n",
    "        return cur\n",
    "    \n",
    "def read_data(cur):\n",
    "    # Reading data \n",
    "    try:\n",
    "        records = cur.execute('select * from {}'.format(table_name))\n",
    "        print('Data read')\n",
    "        print(records.fetchall())\n",
    "    except Exception as e:\n",
    "        print(\"Error in reading data: {}\".format(e))"
   ]
  },
  {
   "cell_type": "code",
   "execution_count": 43,
   "id": "d313200b",
   "metadata": {},
   "outputs": [
    {
     "name": "stdout",
     "output_type": "stream",
     "text": [
      "Connected to the database\n"
     ]
    }
   ],
   "source": [
    "con = create_db('rahul.db')"
   ]
  },
  {
   "cell_type": "code",
   "execution_count": 44,
   "id": "128afd17",
   "metadata": {},
   "outputs": [
    {
     "name": "stdout",
     "output_type": "stream",
     "text": [
      "error database is locked\n"
     ]
    }
   ],
   "source": [
    "cursor=create_table(con,'info')"
   ]
  },
  {
   "cell_type": "code",
   "execution_count": 45,
   "id": "5c8b94dc",
   "metadata": {},
   "outputs": [
    {
     "name": "stdout",
     "output_type": "stream",
     "text": [
      "Error in writing data: name 'table_name' is not defined\n"
     ]
    },
    {
     "data": {
      "text/plain": [
       "<sqlite3.Cursor at 0x24bbff41840>"
      ]
     },
     "execution_count": 45,
     "metadata": {},
     "output_type": "execute_result"
    }
   ],
   "source": [
    "write_data(cursor)"
   ]
  },
  {
   "cell_type": "code",
   "execution_count": null,
   "id": "c848151d",
   "metadata": {},
   "outputs": [],
   "source": []
  }
 ],
 "metadata": {
  "kernelspec": {
   "display_name": "Python 3 (ipykernel)",
   "language": "python",
   "name": "python3"
  },
  "language_info": {
   "codemirror_mode": {
    "name": "ipython",
    "version": 3
   },
   "file_extension": ".py",
   "mimetype": "text/x-python",
   "name": "python",
   "nbconvert_exporter": "python",
   "pygments_lexer": "ipython3",
   "version": "3.10.4"
  }
 },
 "nbformat": 4,
 "nbformat_minor": 5
}
